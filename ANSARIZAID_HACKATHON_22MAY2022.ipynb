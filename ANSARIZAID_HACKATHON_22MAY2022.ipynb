{
 "cells": [
  {
   "cell_type": "code",
   "execution_count": 1,
   "metadata": {},
   "outputs": [],
   "source": [
    "import numpy as np \n",
    "import pandas as pd\n",
    "import seaborn as sns \n",
    "import matplotlib.pyplot as plt \n",
    "%matplotlib inline"
   ]
  },
  {
   "cell_type": "code",
   "execution_count": 2,
   "metadata": {},
   "outputs": [],
   "source": [
    "df_train = pd.read_csv('Data_Train.csv')"
   ]
  },
  {
   "cell_type": "code",
   "execution_count": 3,
   "metadata": {},
   "outputs": [],
   "source": [
    "pd.options.display.max_columns = None"
   ]
  },
  {
   "cell_type": "code",
   "execution_count": 4,
   "metadata": {},
   "outputs": [
    {
     "data": {
      "text/html": [
       "<div>\n",
       "<style scoped>\n",
       "    .dataframe tbody tr th:only-of-type {\n",
       "        vertical-align: middle;\n",
       "    }\n",
       "\n",
       "    .dataframe tbody tr th {\n",
       "        vertical-align: top;\n",
       "    }\n",
       "\n",
       "    .dataframe thead th {\n",
       "        text-align: right;\n",
       "    }\n",
       "</style>\n",
       "<table border=\"1\" class=\"dataframe\">\n",
       "  <thead>\n",
       "    <tr style=\"text-align: right;\">\n",
       "      <th></th>\n",
       "      <th>ID</th>\n",
       "      <th>Asst_Reg</th>\n",
       "      <th>GGGrade</th>\n",
       "      <th>Experience</th>\n",
       "      <th>Validation</th>\n",
       "      <th>Yearly Income</th>\n",
       "      <th>Home Status</th>\n",
       "      <th>Unpaid 2 years</th>\n",
       "      <th>Already Defaulted</th>\n",
       "      <th>Designation</th>\n",
       "      <th>Debt to Income</th>\n",
       "      <th>Postal Code</th>\n",
       "      <th>Lend Amount</th>\n",
       "      <th>Deprecatory Records</th>\n",
       "      <th>Interest Charged</th>\n",
       "      <th>Usage Rate</th>\n",
       "      <th>Inquiries</th>\n",
       "      <th>Present Balance</th>\n",
       "      <th>Gross Collection</th>\n",
       "      <th>Sub GGGrade</th>\n",
       "      <th>File Status</th>\n",
       "      <th>State</th>\n",
       "      <th>Account Open</th>\n",
       "      <th>Total Unpaid CL</th>\n",
       "      <th>Duration</th>\n",
       "      <th>Unpaid Amount</th>\n",
       "      <th>Reason</th>\n",
       "      <th>Claim Type</th>\n",
       "      <th>Due Fee</th>\n",
       "      <th>Loan/No Loan</th>\n",
       "    </tr>\n",
       "  </thead>\n",
       "  <tbody>\n",
       "    <tr>\n",
       "      <th>0</th>\n",
       "      <td>95074</td>\n",
       "      <td>421802</td>\n",
       "      <td>II</td>\n",
       "      <td>&gt;10yrs</td>\n",
       "      <td>Vfied</td>\n",
       "      <td>633600.00</td>\n",
       "      <td>MOR??AGE</td>\n",
       "      <td>0</td>\n",
       "      <td>0</td>\n",
       "      <td>GLENDALE NISSAN</td>\n",
       "      <td>12.5496</td>\n",
       "      <td>91300.0</td>\n",
       "      <td>42023.25</td>\n",
       "      <td>0</td>\n",
       "      <td>15.39</td>\n",
       "      <td>88.924</td>\n",
       "      <td>3</td>\n",
       "      <td>607161.90</td>\n",
       "      <td>0.0</td>\n",
       "      <td>19</td>\n",
       "      <td>fully paid</td>\n",
       "      <td>California</td>\n",
       "      <td>17</td>\n",
       "      <td>58598.0</td>\n",
       "      <td>3 years</td>\n",
       "      <td>31216.05</td>\n",
       "      <td>debt  consolidation</td>\n",
       "      <td>I</td>\n",
       "      <td>0.0</td>\n",
       "      <td>0</td>\n",
       "    </tr>\n",
       "    <tr>\n",
       "      <th>1</th>\n",
       "      <td>134131</td>\n",
       "      <td>3964312</td>\n",
       "      <td>IV</td>\n",
       "      <td>7yrs</td>\n",
       "      <td>Source Verified</td>\n",
       "      <td>85483.20</td>\n",
       "      <td>REN?</td>\n",
       "      <td>0</td>\n",
       "      <td>0</td>\n",
       "      <td>Business Teacher</td>\n",
       "      <td>9.0048</td>\n",
       "      <td>27400.0</td>\n",
       "      <td>38133.00</td>\n",
       "      <td>0</td>\n",
       "      <td>9.94</td>\n",
       "      <td>102.856</td>\n",
       "      <td>0</td>\n",
       "      <td>269234.06</td>\n",
       "      <td>0.0</td>\n",
       "      <td>30</td>\n",
       "      <td>whole</td>\n",
       "      <td>NC</td>\n",
       "      <td>15</td>\n",
       "      <td>18924.0</td>\n",
       "      <td>5 years</td>\n",
       "      <td>11660.49</td>\n",
       "      <td>debt  consolidation</td>\n",
       "      <td>I</td>\n",
       "      <td>0.0</td>\n",
       "      <td>0</td>\n",
       "    </tr>\n",
       "    <tr>\n",
       "      <th>2</th>\n",
       "      <td>92602</td>\n",
       "      <td>4247560</td>\n",
       "      <td>III</td>\n",
       "      <td>&lt;1yr</td>\n",
       "      <td>Source Verified</td>\n",
       "      <td>79200.00</td>\n",
       "      <td>REN?</td>\n",
       "      <td>0</td>\n",
       "      <td>0</td>\n",
       "      <td>driver</td>\n",
       "      <td>24.9144</td>\n",
       "      <td>32800.0</td>\n",
       "      <td>17100.00</td>\n",
       "      <td>0</td>\n",
       "      <td>22.35</td>\n",
       "      <td>60.372</td>\n",
       "      <td>0</td>\n",
       "      <td>22476.53</td>\n",
       "      <td>0.0</td>\n",
       "      <td>25</td>\n",
       "      <td>whole</td>\n",
       "      <td>Florida</td>\n",
       "      <td>7</td>\n",
       "      <td>15604.0</td>\n",
       "      <td>5 years</td>\n",
       "      <td>5637.87</td>\n",
       "      <td>major  purchase</td>\n",
       "      <td>I</td>\n",
       "      <td>0.0</td>\n",
       "      <td>0</td>\n",
       "    </tr>\n",
       "    <tr>\n",
       "      <th>3</th>\n",
       "      <td>22591</td>\n",
       "      <td>197179</td>\n",
       "      <td>III</td>\n",
       "      <td>&lt;1yr</td>\n",
       "      <td>Vfied</td>\n",
       "      <td>61600.00</td>\n",
       "      <td>REN?</td>\n",
       "      <td>0</td>\n",
       "      <td>0</td>\n",
       "      <td>AvePoint</td>\n",
       "      <td>16.5816</td>\n",
       "      <td>7000.0</td>\n",
       "      <td>5130.00</td>\n",
       "      <td>0</td>\n",
       "      <td>10.36</td>\n",
       "      <td>116.272</td>\n",
       "      <td>1</td>\n",
       "      <td>15242.09</td>\n",
       "      <td>0.0</td>\n",
       "      <td>22</td>\n",
       "      <td>fully paid</td>\n",
       "      <td>NewJersey</td>\n",
       "      <td>9</td>\n",
       "      <td>22410.0</td>\n",
       "      <td>3 years</td>\n",
       "      <td>15607.17</td>\n",
       "      <td>major  purchase</td>\n",
       "      <td>I</td>\n",
       "      <td>0.0</td>\n",
       "      <td>1</td>\n",
       "    </tr>\n",
       "    <tr>\n",
       "      <th>4</th>\n",
       "      <td>125060</td>\n",
       "      <td>4646684</td>\n",
       "      <td>V</td>\n",
       "      <td>2yrs</td>\n",
       "      <td>Source Verified</td>\n",
       "      <td>68053.92</td>\n",
       "      <td>REN?</td>\n",
       "      <td>0</td>\n",
       "      <td>0</td>\n",
       "      <td>Lead Tester</td>\n",
       "      <td>40.0512</td>\n",
       "      <td>70800.0</td>\n",
       "      <td>19665.00</td>\n",
       "      <td>0</td>\n",
       "      <td>13.68</td>\n",
       "      <td>127.280</td>\n",
       "      <td>1</td>\n",
       "      <td>65433.94</td>\n",
       "      <td>0.0</td>\n",
       "      <td>32</td>\n",
       "      <td>fully paid</td>\n",
       "      <td>LA</td>\n",
       "      <td>10</td>\n",
       "      <td>36022.0</td>\n",
       "      <td>5 years</td>\n",
       "      <td>27472.86</td>\n",
       "      <td>debt  consolidation</td>\n",
       "      <td>I</td>\n",
       "      <td>0.0</td>\n",
       "      <td>0</td>\n",
       "    </tr>\n",
       "  </tbody>\n",
       "</table>\n",
       "</div>"
      ],
      "text/plain": [
       "       ID  Asst_Reg GGGrade Experience       Validation  Yearly Income  \\\n",
       "0   95074    421802      II     >10yrs            Vfied      633600.00   \n",
       "1  134131   3964312      IV       7yrs  Source Verified       85483.20   \n",
       "2   92602   4247560     III       <1yr  Source Verified       79200.00   \n",
       "3   22591    197179     III       <1yr            Vfied       61600.00   \n",
       "4  125060   4646684       V       2yrs  Source Verified       68053.92   \n",
       "\n",
       "  Home Status  Unpaid 2 years  Already Defaulted       Designation  \\\n",
       "0    MOR??AGE               0                  0   GLENDALE NISSAN   \n",
       "1        REN?               0                  0  Business Teacher   \n",
       "2        REN?               0                  0            driver   \n",
       "3        REN?               0                  0          AvePoint   \n",
       "4        REN?               0                  0       Lead Tester   \n",
       "\n",
       "   Debt to Income  Postal Code  Lend Amount  Deprecatory Records  \\\n",
       "0         12.5496      91300.0     42023.25                    0   \n",
       "1          9.0048      27400.0     38133.00                    0   \n",
       "2         24.9144      32800.0     17100.00                    0   \n",
       "3         16.5816       7000.0      5130.00                    0   \n",
       "4         40.0512      70800.0     19665.00                    0   \n",
       "\n",
       "   Interest Charged  Usage Rate  Inquiries  Present Balance  Gross Collection  \\\n",
       "0             15.39      88.924          3        607161.90               0.0   \n",
       "1              9.94     102.856          0        269234.06               0.0   \n",
       "2             22.35      60.372          0         22476.53               0.0   \n",
       "3             10.36     116.272          1         15242.09               0.0   \n",
       "4             13.68     127.280          1         65433.94               0.0   \n",
       "\n",
       "   Sub GGGrade File Status       State  Account Open  Total Unpaid CL  \\\n",
       "0           19  fully paid  California            17          58598.0   \n",
       "1           30       whole          NC            15          18924.0   \n",
       "2           25       whole     Florida             7          15604.0   \n",
       "3           22  fully paid   NewJersey             9          22410.0   \n",
       "4           32  fully paid          LA            10          36022.0   \n",
       "\n",
       "  Duration  Unpaid Amount               Reason Claim Type  Due Fee  \\\n",
       "0  3 years       31216.05  debt  consolidation          I      0.0   \n",
       "1  5 years       11660.49  debt  consolidation          I      0.0   \n",
       "2  5 years        5637.87      major  purchase          I      0.0   \n",
       "3  3 years       15607.17      major  purchase          I      0.0   \n",
       "4  5 years       27472.86  debt  consolidation          I      0.0   \n",
       "\n",
       "   Loan/No Loan  \n",
       "0             0  \n",
       "1             0  \n",
       "2             0  \n",
       "3             1  \n",
       "4             0  "
      ]
     },
     "execution_count": 4,
     "metadata": {},
     "output_type": "execute_result"
    }
   ],
   "source": [
    "df_train.head()"
   ]
  },
  {
   "cell_type": "code",
   "execution_count": 5,
   "metadata": {},
   "outputs": [
    {
     "data": {
      "text/plain": [
       "(87500, 30)"
      ]
     },
     "execution_count": 5,
     "metadata": {},
     "output_type": "execute_result"
    }
   ],
   "source": [
    "df_train.shape"
   ]
  },
  {
   "cell_type": "code",
   "execution_count": 6,
   "metadata": {},
   "outputs": [
    {
     "name": "stdout",
     "output_type": "stream",
     "text": [
      "<class 'pandas.core.frame.DataFrame'>\n",
      "RangeIndex: 87500 entries, 0 to 87499\n",
      "Data columns (total 30 columns):\n",
      " #   Column               Non-Null Count  Dtype  \n",
      "---  ------               --------------  -----  \n",
      " 0   ID                   87500 non-null  int64  \n",
      " 1   Asst_Reg             87500 non-null  int64  \n",
      " 2   GGGrade              87500 non-null  object \n",
      " 3   Experience           87500 non-null  object \n",
      " 4   Validation           87500 non-null  object \n",
      " 5   Yearly Income        81925 non-null  float64\n",
      " 6   Home Status          87500 non-null  object \n",
      " 7   Unpaid 2 years       87500 non-null  int64  \n",
      " 8   Already Defaulted    87500 non-null  int64  \n",
      " 9   Designation          86086 non-null  object \n",
      " 10  Debt to Income       84011 non-null  float64\n",
      " 11  Postal Code          86111 non-null  float64\n",
      " 12  Lend Amount          87500 non-null  float64\n",
      " 13  Deprecatory Records  87500 non-null  int64  \n",
      " 14  Interest Charged     87500 non-null  float64\n",
      " 15  Usage Rate           87500 non-null  float64\n",
      " 16  Inquiries            87500 non-null  int64  \n",
      " 17  Present Balance      87500 non-null  float64\n",
      " 18  Gross Collection     87500 non-null  float64\n",
      " 19  Sub GGGrade          87500 non-null  int64  \n",
      " 20  File Status          87500 non-null  object \n",
      " 21  State                87500 non-null  object \n",
      " 22  Account Open         87500 non-null  int64  \n",
      " 23  Total Unpaid CL      83314 non-null  float64\n",
      " 24  Duration             87500 non-null  object \n",
      " 25  Unpaid Amount        82648 non-null  float64\n",
      " 26  Reason               87500 non-null  object \n",
      " 27  Claim Type           87500 non-null  object \n",
      " 28  Due Fee              87500 non-null  float64\n",
      " 29  Loan/No Loan         87500 non-null  int64  \n",
      "dtypes: float64(11), int64(9), object(10)\n",
      "memory usage: 20.0+ MB\n"
     ]
    }
   ],
   "source": [
    "df_train.info()"
   ]
  },
  {
   "cell_type": "code",
   "execution_count": 7,
   "metadata": {},
   "outputs": [
    {
     "name": "stdout",
     "output_type": "stream",
     "text": [
      "GGGrade\n",
      "['II' 'IV' 'III' 'V' 'VII' 'VI' 'I'] \n",
      "\n",
      "Experience\n",
      "['>10yrs' '7yrs' '<1yr' '2yrs' '1yrs' '4yrs' '9yrs' '6yrs' '5yrs' '8yrs'\n",
      " '3yrs'] \n",
      "\n",
      "Validation\n",
      "['Vfied' 'Source Verified' 'Not Vfied'] \n",
      "\n",
      "Home Status\n",
      "['MOR??AGE' 'REN?' 'OWN' 'OTHER' 'NONE'] \n",
      "\n",
      "Designation\n",
      "['GLENDALE NISSAN' 'Business Teacher' 'driver' ... 'Interface Coordinator'\n",
      " 'PARTS CLERK' 'Outside sales rep'] \n",
      "\n",
      "File Status\n",
      "['fully paid' 'whole'] \n",
      "\n",
      "State\n",
      "['California' 'NC' 'Florida' 'NewJersey' 'LA' 'TX' 'CT' 'MI' 'OR' 'AR'\n",
      " 'Newyork' 'MT' 'CO' 'Ohio' 'NM' 'MN' 'GA' 'WA' 'Maryland' 'AL' 'SC' 'PA'\n",
      " 'AZ' 'UT' 'MA' 'VA' 'IL' 'WI' 'NV' 'HI' 'RI' 'TN' 'OK' 'VT' 'IN' 'AK'\n",
      " 'MO' 'NE' 'NH' 'DC' 'WV' 'MS' 'KY' 'KS' 'DE' 'ND' 'SD' 'WY' 'ME'] \n",
      "\n",
      "Duration\n",
      "['3 years' '5 years'] \n",
      "\n",
      "Reason\n",
      "['debt  consolidation' 'major  purchase' 'other' 'credit  card' 'car'\n",
      " 'home  improvement' 'small  business' 'moving' 'vacation' 'medical'\n",
      " 'wedding' 'house' 'renewable  energy'] \n",
      "\n",
      "Claim Type\n",
      "['I' 'J'] \n",
      "\n"
     ]
    }
   ],
   "source": [
    "for i in df_train.columns:\n",
    "    if df_train[i].dtype == 'object':\n",
    "        print(i)\n",
    "        print(df_train[i].unique(),'\\n')"
   ]
  },
  {
   "cell_type": "code",
   "execution_count": 8,
   "metadata": {},
   "outputs": [],
   "source": [
    "df_train['GGGrade'] = df_train['GGGrade'].map({'I':1,'II':2,'III':3,'IV':4,'V':5,'VI':6,'VII':7})\n",
    "df_train['Experience'] = df_train['Experience'].map({'<1yr': 0,'1yrs': 1,'2yrs': 2,'3yrs': 3, '4yrs': 4, '5yrs': 5, '6yrs': 6,\n",
    "                                                    '7yrs': 7, '8yrs': 8, '9yrs': 9,'>10yrs': 11})\n",
    "df_train['Validation'] = df_train['Validation'].map({'Vfied':'Verified','Not Vfied': 'Not Verified'})\n",
    "df_train['Home Status'] = df_train['Home Status'].map({'MOR??AGE': 'MORGAGE','REN?': 'RENT'})\n",
    "df_train['Duration'] = df_train['Duration'].map({'3 years' : 3,' 5 years': 5})"
   ]
  },
  {
   "cell_type": "code",
   "execution_count": 9,
   "metadata": {},
   "outputs": [
    {
     "data": {
      "text/plain": [
       "ID                       int64\n",
       "Asst_Reg                 int64\n",
       "GGGrade                  int64\n",
       "Experience               int64\n",
       "Validation              object\n",
       "Yearly Income          float64\n",
       "Home Status             object\n",
       "Unpaid 2 years           int64\n",
       "Already Defaulted        int64\n",
       "Designation             object\n",
       "Debt to Income         float64\n",
       "Postal Code            float64\n",
       "Lend Amount            float64\n",
       "Deprecatory Records      int64\n",
       "Interest Charged       float64\n",
       "Usage Rate             float64\n",
       "Inquiries                int64\n",
       "Present Balance        float64\n",
       "Gross Collection       float64\n",
       "Sub GGGrade              int64\n",
       "File Status             object\n",
       "State                   object\n",
       "Account Open             int64\n",
       "Total Unpaid CL        float64\n",
       "Duration               float64\n",
       "Unpaid Amount          float64\n",
       "Reason                  object\n",
       "Claim Type              object\n",
       "Due Fee                float64\n",
       "Loan/No Loan             int64\n",
       "dtype: object"
      ]
     },
     "execution_count": 9,
     "metadata": {},
     "output_type": "execute_result"
    }
   ],
   "source": [
    "df_train.dtypes"
   ]
  },
  {
   "cell_type": "code",
   "execution_count": 10,
   "metadata": {},
   "outputs": [
    {
     "data": {
      "text/html": [
       "<div>\n",
       "<style scoped>\n",
       "    .dataframe tbody tr th:only-of-type {\n",
       "        vertical-align: middle;\n",
       "    }\n",
       "\n",
       "    .dataframe tbody tr th {\n",
       "        vertical-align: top;\n",
       "    }\n",
       "\n",
       "    .dataframe thead th {\n",
       "        text-align: right;\n",
       "    }\n",
       "</style>\n",
       "<table border=\"1\" class=\"dataframe\">\n",
       "  <thead>\n",
       "    <tr style=\"text-align: right;\">\n",
       "      <th></th>\n",
       "      <th>ID</th>\n",
       "      <th>Asst_Reg</th>\n",
       "      <th>GGGrade</th>\n",
       "      <th>Experience</th>\n",
       "      <th>Validation</th>\n",
       "      <th>Yearly Income</th>\n",
       "      <th>Home Status</th>\n",
       "      <th>Unpaid 2 years</th>\n",
       "      <th>Already Defaulted</th>\n",
       "      <th>Designation</th>\n",
       "      <th>Debt to Income</th>\n",
       "      <th>Postal Code</th>\n",
       "      <th>Lend Amount</th>\n",
       "      <th>Deprecatory Records</th>\n",
       "      <th>Interest Charged</th>\n",
       "      <th>Usage Rate</th>\n",
       "      <th>Inquiries</th>\n",
       "      <th>Present Balance</th>\n",
       "      <th>Gross Collection</th>\n",
       "      <th>Sub GGGrade</th>\n",
       "      <th>File Status</th>\n",
       "      <th>State</th>\n",
       "      <th>Account Open</th>\n",
       "      <th>Total Unpaid CL</th>\n",
       "      <th>Duration</th>\n",
       "      <th>Unpaid Amount</th>\n",
       "      <th>Reason</th>\n",
       "      <th>Claim Type</th>\n",
       "      <th>Due Fee</th>\n",
       "      <th>Loan/No Loan</th>\n",
       "    </tr>\n",
       "  </thead>\n",
       "  <tbody>\n",
       "    <tr>\n",
       "      <th>0</th>\n",
       "      <td>95074</td>\n",
       "      <td>421802</td>\n",
       "      <td>2</td>\n",
       "      <td>11</td>\n",
       "      <td>Verified</td>\n",
       "      <td>633600.00</td>\n",
       "      <td>MORGAGE</td>\n",
       "      <td>0</td>\n",
       "      <td>0</td>\n",
       "      <td>GLENDALE NISSAN</td>\n",
       "      <td>12.5496</td>\n",
       "      <td>91300.0</td>\n",
       "      <td>42023.25</td>\n",
       "      <td>0</td>\n",
       "      <td>15.39</td>\n",
       "      <td>88.924</td>\n",
       "      <td>3</td>\n",
       "      <td>607161.90</td>\n",
       "      <td>0.0</td>\n",
       "      <td>19</td>\n",
       "      <td>fully paid</td>\n",
       "      <td>California</td>\n",
       "      <td>17</td>\n",
       "      <td>58598.0</td>\n",
       "      <td>3.0</td>\n",
       "      <td>31216.05</td>\n",
       "      <td>debt  consolidation</td>\n",
       "      <td>I</td>\n",
       "      <td>0.0</td>\n",
       "      <td>0</td>\n",
       "    </tr>\n",
       "    <tr>\n",
       "      <th>1</th>\n",
       "      <td>134131</td>\n",
       "      <td>3964312</td>\n",
       "      <td>4</td>\n",
       "      <td>7</td>\n",
       "      <td>NaN</td>\n",
       "      <td>85483.20</td>\n",
       "      <td>RENT</td>\n",
       "      <td>0</td>\n",
       "      <td>0</td>\n",
       "      <td>Business Teacher</td>\n",
       "      <td>9.0048</td>\n",
       "      <td>27400.0</td>\n",
       "      <td>38133.00</td>\n",
       "      <td>0</td>\n",
       "      <td>9.94</td>\n",
       "      <td>102.856</td>\n",
       "      <td>0</td>\n",
       "      <td>269234.06</td>\n",
       "      <td>0.0</td>\n",
       "      <td>30</td>\n",
       "      <td>whole</td>\n",
       "      <td>NC</td>\n",
       "      <td>15</td>\n",
       "      <td>18924.0</td>\n",
       "      <td>NaN</td>\n",
       "      <td>11660.49</td>\n",
       "      <td>debt  consolidation</td>\n",
       "      <td>I</td>\n",
       "      <td>0.0</td>\n",
       "      <td>0</td>\n",
       "    </tr>\n",
       "    <tr>\n",
       "      <th>2</th>\n",
       "      <td>92602</td>\n",
       "      <td>4247560</td>\n",
       "      <td>3</td>\n",
       "      <td>0</td>\n",
       "      <td>NaN</td>\n",
       "      <td>79200.00</td>\n",
       "      <td>RENT</td>\n",
       "      <td>0</td>\n",
       "      <td>0</td>\n",
       "      <td>driver</td>\n",
       "      <td>24.9144</td>\n",
       "      <td>32800.0</td>\n",
       "      <td>17100.00</td>\n",
       "      <td>0</td>\n",
       "      <td>22.35</td>\n",
       "      <td>60.372</td>\n",
       "      <td>0</td>\n",
       "      <td>22476.53</td>\n",
       "      <td>0.0</td>\n",
       "      <td>25</td>\n",
       "      <td>whole</td>\n",
       "      <td>Florida</td>\n",
       "      <td>7</td>\n",
       "      <td>15604.0</td>\n",
       "      <td>NaN</td>\n",
       "      <td>5637.87</td>\n",
       "      <td>major  purchase</td>\n",
       "      <td>I</td>\n",
       "      <td>0.0</td>\n",
       "      <td>0</td>\n",
       "    </tr>\n",
       "    <tr>\n",
       "      <th>3</th>\n",
       "      <td>22591</td>\n",
       "      <td>197179</td>\n",
       "      <td>3</td>\n",
       "      <td>0</td>\n",
       "      <td>Verified</td>\n",
       "      <td>61600.00</td>\n",
       "      <td>RENT</td>\n",
       "      <td>0</td>\n",
       "      <td>0</td>\n",
       "      <td>AvePoint</td>\n",
       "      <td>16.5816</td>\n",
       "      <td>7000.0</td>\n",
       "      <td>5130.00</td>\n",
       "      <td>0</td>\n",
       "      <td>10.36</td>\n",
       "      <td>116.272</td>\n",
       "      <td>1</td>\n",
       "      <td>15242.09</td>\n",
       "      <td>0.0</td>\n",
       "      <td>22</td>\n",
       "      <td>fully paid</td>\n",
       "      <td>NewJersey</td>\n",
       "      <td>9</td>\n",
       "      <td>22410.0</td>\n",
       "      <td>3.0</td>\n",
       "      <td>15607.17</td>\n",
       "      <td>major  purchase</td>\n",
       "      <td>I</td>\n",
       "      <td>0.0</td>\n",
       "      <td>1</td>\n",
       "    </tr>\n",
       "    <tr>\n",
       "      <th>4</th>\n",
       "      <td>125060</td>\n",
       "      <td>4646684</td>\n",
       "      <td>5</td>\n",
       "      <td>2</td>\n",
       "      <td>NaN</td>\n",
       "      <td>68053.92</td>\n",
       "      <td>RENT</td>\n",
       "      <td>0</td>\n",
       "      <td>0</td>\n",
       "      <td>Lead Tester</td>\n",
       "      <td>40.0512</td>\n",
       "      <td>70800.0</td>\n",
       "      <td>19665.00</td>\n",
       "      <td>0</td>\n",
       "      <td>13.68</td>\n",
       "      <td>127.280</td>\n",
       "      <td>1</td>\n",
       "      <td>65433.94</td>\n",
       "      <td>0.0</td>\n",
       "      <td>32</td>\n",
       "      <td>fully paid</td>\n",
       "      <td>LA</td>\n",
       "      <td>10</td>\n",
       "      <td>36022.0</td>\n",
       "      <td>NaN</td>\n",
       "      <td>27472.86</td>\n",
       "      <td>debt  consolidation</td>\n",
       "      <td>I</td>\n",
       "      <td>0.0</td>\n",
       "      <td>0</td>\n",
       "    </tr>\n",
       "  </tbody>\n",
       "</table>\n",
       "</div>"
      ],
      "text/plain": [
       "       ID  Asst_Reg  GGGrade  Experience Validation  Yearly Income  \\\n",
       "0   95074    421802        2          11   Verified      633600.00   \n",
       "1  134131   3964312        4           7        NaN       85483.20   \n",
       "2   92602   4247560        3           0        NaN       79200.00   \n",
       "3   22591    197179        3           0   Verified       61600.00   \n",
       "4  125060   4646684        5           2        NaN       68053.92   \n",
       "\n",
       "  Home Status  Unpaid 2 years  Already Defaulted       Designation  \\\n",
       "0     MORGAGE               0                  0   GLENDALE NISSAN   \n",
       "1        RENT               0                  0  Business Teacher   \n",
       "2        RENT               0                  0            driver   \n",
       "3        RENT               0                  0          AvePoint   \n",
       "4        RENT               0                  0       Lead Tester   \n",
       "\n",
       "   Debt to Income  Postal Code  Lend Amount  Deprecatory Records  \\\n",
       "0         12.5496      91300.0     42023.25                    0   \n",
       "1          9.0048      27400.0     38133.00                    0   \n",
       "2         24.9144      32800.0     17100.00                    0   \n",
       "3         16.5816       7000.0      5130.00                    0   \n",
       "4         40.0512      70800.0     19665.00                    0   \n",
       "\n",
       "   Interest Charged  Usage Rate  Inquiries  Present Balance  Gross Collection  \\\n",
       "0             15.39      88.924          3        607161.90               0.0   \n",
       "1              9.94     102.856          0        269234.06               0.0   \n",
       "2             22.35      60.372          0         22476.53               0.0   \n",
       "3             10.36     116.272          1         15242.09               0.0   \n",
       "4             13.68     127.280          1         65433.94               0.0   \n",
       "\n",
       "   Sub GGGrade File Status       State  Account Open  Total Unpaid CL  \\\n",
       "0           19  fully paid  California            17          58598.0   \n",
       "1           30       whole          NC            15          18924.0   \n",
       "2           25       whole     Florida             7          15604.0   \n",
       "3           22  fully paid   NewJersey             9          22410.0   \n",
       "4           32  fully paid          LA            10          36022.0   \n",
       "\n",
       "   Duration  Unpaid Amount               Reason Claim Type  Due Fee  \\\n",
       "0       3.0       31216.05  debt  consolidation          I      0.0   \n",
       "1       NaN       11660.49  debt  consolidation          I      0.0   \n",
       "2       NaN        5637.87      major  purchase          I      0.0   \n",
       "3       3.0       15607.17      major  purchase          I      0.0   \n",
       "4       NaN       27472.86  debt  consolidation          I      0.0   \n",
       "\n",
       "   Loan/No Loan  \n",
       "0             0  \n",
       "1             0  \n",
       "2             0  \n",
       "3             1  \n",
       "4             0  "
      ]
     },
     "execution_count": 10,
     "metadata": {},
     "output_type": "execute_result"
    }
   ],
   "source": [
    "df_train.head()"
   ]
  },
  {
   "cell_type": "code",
   "execution_count": 11,
   "metadata": {},
   "outputs": [
    {
     "data": {
      "text/html": [
       "<div>\n",
       "<style scoped>\n",
       "    .dataframe tbody tr th:only-of-type {\n",
       "        vertical-align: middle;\n",
       "    }\n",
       "\n",
       "    .dataframe tbody tr th {\n",
       "        vertical-align: top;\n",
       "    }\n",
       "\n",
       "    .dataframe thead th {\n",
       "        text-align: right;\n",
       "    }\n",
       "</style>\n",
       "<table border=\"1\" class=\"dataframe\">\n",
       "  <thead>\n",
       "    <tr style=\"text-align: right;\">\n",
       "      <th></th>\n",
       "      <th>ID</th>\n",
       "      <th>Asst_Reg</th>\n",
       "      <th>GGGrade</th>\n",
       "      <th>Experience</th>\n",
       "      <th>Yearly Income</th>\n",
       "      <th>Unpaid 2 years</th>\n",
       "      <th>Already Defaulted</th>\n",
       "      <th>Debt to Income</th>\n",
       "      <th>Postal Code</th>\n",
       "      <th>Lend Amount</th>\n",
       "      <th>Deprecatory Records</th>\n",
       "      <th>Interest Charged</th>\n",
       "      <th>Usage Rate</th>\n",
       "      <th>Inquiries</th>\n",
       "      <th>Present Balance</th>\n",
       "      <th>Gross Collection</th>\n",
       "      <th>Sub GGGrade</th>\n",
       "      <th>Account Open</th>\n",
       "      <th>Total Unpaid CL</th>\n",
       "      <th>Duration</th>\n",
       "      <th>Unpaid Amount</th>\n",
       "      <th>Due Fee</th>\n",
       "      <th>Loan/No Loan</th>\n",
       "    </tr>\n",
       "  </thead>\n",
       "  <tbody>\n",
       "    <tr>\n",
       "      <th>count</th>\n",
       "      <td>87500.000000</td>\n",
       "      <td>8.750000e+04</td>\n",
       "      <td>87500.000000</td>\n",
       "      <td>87500.000000</td>\n",
       "      <td>8.192500e+04</td>\n",
       "      <td>87500.000000</td>\n",
       "      <td>87500.000000</td>\n",
       "      <td>84011.000000</td>\n",
       "      <td>86111.000000</td>\n",
       "      <td>87500.000000</td>\n",
       "      <td>87500.000000</td>\n",
       "      <td>87500.000000</td>\n",
       "      <td>87500.000000</td>\n",
       "      <td>87500.000000</td>\n",
       "      <td>8.750000e+04</td>\n",
       "      <td>87500.000000</td>\n",
       "      <td>87500.000000</td>\n",
       "      <td>87500.00000</td>\n",
       "      <td>8.331400e+04</td>\n",
       "      <td>60061.0</td>\n",
       "      <td>8.264800e+04</td>\n",
       "      <td>87500.000000</td>\n",
       "      <td>87500.000000</td>\n",
       "    </tr>\n",
       "    <tr>\n",
       "      <th>mean</th>\n",
       "      <td>83946.253509</td>\n",
       "      <td>3.798914e+06</td>\n",
       "      <td>2.810686</td>\n",
       "      <td>6.410743</td>\n",
       "      <td>1.348596e+05</td>\n",
       "      <td>0.332937</td>\n",
       "      <td>0.005726</td>\n",
       "      <td>30.942660</td>\n",
       "      <td>51155.385491</td>\n",
       "      <td>25920.535680</td>\n",
       "      <td>0.202400</td>\n",
       "      <td>16.518375</td>\n",
       "      <td>95.517348</td>\n",
       "      <td>0.670640</td>\n",
       "      <td>2.363895e+05</td>\n",
       "      <td>39.461697</td>\n",
       "      <td>22.024891</td>\n",
       "      <td>12.77944</td>\n",
       "      <td>5.326864e+04</td>\n",
       "      <td>3.0</td>\n",
       "      <td>2.955649e+04</td>\n",
       "      <td>0.316407</td>\n",
       "      <td>0.188709</td>\n",
       "    </tr>\n",
       "    <tr>\n",
       "      <th>std</th>\n",
       "      <td>36100.102950</td>\n",
       "      <td>2.289038e+06</td>\n",
       "      <td>1.303598</td>\n",
       "      <td>4.056828</td>\n",
       "      <td>9.882473e+04</td>\n",
       "      <td>0.876080</td>\n",
       "      <td>0.083505</td>\n",
       "      <td>14.079813</td>\n",
       "      <td>31211.229930</td>\n",
       "      <td>14433.837213</td>\n",
       "      <td>0.646414</td>\n",
       "      <td>4.902011</td>\n",
       "      <td>40.554035</td>\n",
       "      <td>0.959572</td>\n",
       "      <td>2.550568e+05</td>\n",
       "      <td>391.919578</td>\n",
       "      <td>6.452697</td>\n",
       "      <td>5.37116</td>\n",
       "      <td>5.325551e+04</td>\n",
       "      <td>0.0</td>\n",
       "      <td>3.745625e+04</td>\n",
       "      <td>3.546087</td>\n",
       "      <td>0.391279</td>\n",
       "    </tr>\n",
       "    <tr>\n",
       "      <th>min</th>\n",
       "      <td>21560.000000</td>\n",
       "      <td>2.484700e+04</td>\n",
       "      <td>1.000000</td>\n",
       "      <td>0.000000</td>\n",
       "      <td>8.800000e+03</td>\n",
       "      <td>0.000000</td>\n",
       "      <td>0.000000</td>\n",
       "      <td>0.000000</td>\n",
       "      <td>1000.000000</td>\n",
       "      <td>1710.000000</td>\n",
       "      <td>0.000000</td>\n",
       "      <td>8.000000</td>\n",
       "      <td>0.000000</td>\n",
       "      <td>0.000000</td>\n",
       "      <td>0.000000e+00</td>\n",
       "      <td>0.000000</td>\n",
       "      <td>11.000000</td>\n",
       "      <td>2.00000</td>\n",
       "      <td>3.320000e+02</td>\n",
       "      <td>3.0</td>\n",
       "      <td>0.000000e+00</td>\n",
       "      <td>0.000000</td>\n",
       "      <td>0.000000</td>\n",
       "    </tr>\n",
       "    <tr>\n",
       "      <th>25%</th>\n",
       "      <td>52616.750000</td>\n",
       "      <td>1.483874e+06</td>\n",
       "      <td>2.000000</td>\n",
       "      <td>3.000000</td>\n",
       "      <td>8.324659e+04</td>\n",
       "      <td>0.000000</td>\n",
       "      <td>0.000000</td>\n",
       "      <td>20.428800</td>\n",
       "      <td>22900.000000</td>\n",
       "      <td>15048.000000</td>\n",
       "      <td>0.000000</td>\n",
       "      <td>12.310000</td>\n",
       "      <td>66.048000</td>\n",
       "      <td>0.000000</td>\n",
       "      <td>5.173493e+04</td>\n",
       "      <td>0.000000</td>\n",
       "      <td>17.000000</td>\n",
       "      <td>9.00000</td>\n",
       "      <td>2.324000e+04</td>\n",
       "      <td>3.0</td>\n",
       "      <td>1.144674e+04</td>\n",
       "      <td>0.000000</td>\n",
       "      <td>0.000000</td>\n",
       "    </tr>\n",
       "    <tr>\n",
       "      <th>50%</th>\n",
       "      <td>83900.000000</td>\n",
       "      <td>4.132010e+06</td>\n",
       "      <td>3.000000</td>\n",
       "      <td>7.000000</td>\n",
       "      <td>1.144000e+05</td>\n",
       "      <td>0.000000</td>\n",
       "      <td>0.000000</td>\n",
       "      <td>30.139200</td>\n",
       "      <td>47700.000000</td>\n",
       "      <td>23940.000000</td>\n",
       "      <td>0.000000</td>\n",
       "      <td>16.490000</td>\n",
       "      <td>97.008000</td>\n",
       "      <td>0.000000</td>\n",
       "      <td>1.388062e+05</td>\n",
       "      <td>0.000000</td>\n",
       "      <td>21.000000</td>\n",
       "      <td>12.00000</td>\n",
       "      <td>3.967400e+04</td>\n",
       "      <td>3.0</td>\n",
       "      <td>2.089278e+04</td>\n",
       "      <td>0.000000</td>\n",
       "      <td>0.000000</td>\n",
       "    </tr>\n",
       "    <tr>\n",
       "      <th>75%</th>\n",
       "      <td>115261.250000</td>\n",
       "      <td>5.952909e+06</td>\n",
       "      <td>4.000000</td>\n",
       "      <td>11.000000</td>\n",
       "      <td>1.601600e+05</td>\n",
       "      <td>0.000000</td>\n",
       "      <td>0.000000</td>\n",
       "      <td>40.908000</td>\n",
       "      <td>80200.000000</td>\n",
       "      <td>34200.000000</td>\n",
       "      <td>0.000000</td>\n",
       "      <td>20.770000</td>\n",
       "      <td>126.592000</td>\n",
       "      <td>1.000000</td>\n",
       "      <td>3.534755e+05</td>\n",
       "      <td>0.000000</td>\n",
       "      <td>26.000000</td>\n",
       "      <td>16.00000</td>\n",
       "      <td>6.640000e+04</td>\n",
       "      <td>3.0</td>\n",
       "      <td>3.644908e+04</td>\n",
       "      <td>0.000000</td>\n",
       "      <td>0.000000</td>\n",
       "    </tr>\n",
       "    <tr>\n",
       "      <th>max</th>\n",
       "      <td>146559.000000</td>\n",
       "      <td>7.351847e+06</td>\n",
       "      <td>7.000000</td>\n",
       "      <td>11.000000</td>\n",
       "      <td>8.264031e+06</td>\n",
       "      <td>18.000000</td>\n",
       "      <td>6.000000</td>\n",
       "      <td>639.290400</td>\n",
       "      <td>99900.000000</td>\n",
       "      <td>59850.000000</td>\n",
       "      <td>86.000000</td>\n",
       "      <td>25.000000</td>\n",
       "      <td>1534.756000</td>\n",
       "      <td>8.000000</td>\n",
       "      <td>5.629234e+06</td>\n",
       "      <td>26308.470000</td>\n",
       "      <td>45.000000</td>\n",
       "      <td>83.00000</td>\n",
       "      <td>1.710630e+06</td>\n",
       "      <td>3.0</td>\n",
       "      <td>1.338778e+06</td>\n",
       "      <td>169.050000</td>\n",
       "      <td>1.000000</td>\n",
       "    </tr>\n",
       "  </tbody>\n",
       "</table>\n",
       "</div>"
      ],
      "text/plain": [
       "                  ID      Asst_Reg       GGGrade    Experience  Yearly Income  \\\n",
       "count   87500.000000  8.750000e+04  87500.000000  87500.000000   8.192500e+04   \n",
       "mean    83946.253509  3.798914e+06      2.810686      6.410743   1.348596e+05   \n",
       "std     36100.102950  2.289038e+06      1.303598      4.056828   9.882473e+04   \n",
       "min     21560.000000  2.484700e+04      1.000000      0.000000   8.800000e+03   \n",
       "25%     52616.750000  1.483874e+06      2.000000      3.000000   8.324659e+04   \n",
       "50%     83900.000000  4.132010e+06      3.000000      7.000000   1.144000e+05   \n",
       "75%    115261.250000  5.952909e+06      4.000000     11.000000   1.601600e+05   \n",
       "max    146559.000000  7.351847e+06      7.000000     11.000000   8.264031e+06   \n",
       "\n",
       "       Unpaid 2 years  Already Defaulted  Debt to Income   Postal Code  \\\n",
       "count    87500.000000       87500.000000    84011.000000  86111.000000   \n",
       "mean         0.332937           0.005726       30.942660  51155.385491   \n",
       "std          0.876080           0.083505       14.079813  31211.229930   \n",
       "min          0.000000           0.000000        0.000000   1000.000000   \n",
       "25%          0.000000           0.000000       20.428800  22900.000000   \n",
       "50%          0.000000           0.000000       30.139200  47700.000000   \n",
       "75%          0.000000           0.000000       40.908000  80200.000000   \n",
       "max         18.000000           6.000000      639.290400  99900.000000   \n",
       "\n",
       "        Lend Amount  Deprecatory Records  Interest Charged    Usage Rate  \\\n",
       "count  87500.000000         87500.000000      87500.000000  87500.000000   \n",
       "mean   25920.535680             0.202400         16.518375     95.517348   \n",
       "std    14433.837213             0.646414          4.902011     40.554035   \n",
       "min     1710.000000             0.000000          8.000000      0.000000   \n",
       "25%    15048.000000             0.000000         12.310000     66.048000   \n",
       "50%    23940.000000             0.000000         16.490000     97.008000   \n",
       "75%    34200.000000             0.000000         20.770000    126.592000   \n",
       "max    59850.000000            86.000000         25.000000   1534.756000   \n",
       "\n",
       "          Inquiries  Present Balance  Gross Collection   Sub GGGrade  \\\n",
       "count  87500.000000     8.750000e+04      87500.000000  87500.000000   \n",
       "mean       0.670640     2.363895e+05         39.461697     22.024891   \n",
       "std        0.959572     2.550568e+05        391.919578      6.452697   \n",
       "min        0.000000     0.000000e+00          0.000000     11.000000   \n",
       "25%        0.000000     5.173493e+04          0.000000     17.000000   \n",
       "50%        0.000000     1.388062e+05          0.000000     21.000000   \n",
       "75%        1.000000     3.534755e+05          0.000000     26.000000   \n",
       "max        8.000000     5.629234e+06      26308.470000     45.000000   \n",
       "\n",
       "       Account Open  Total Unpaid CL  Duration  Unpaid Amount       Due Fee  \\\n",
       "count   87500.00000     8.331400e+04   60061.0   8.264800e+04  87500.000000   \n",
       "mean       12.77944     5.326864e+04       3.0   2.955649e+04      0.316407   \n",
       "std         5.37116     5.325551e+04       0.0   3.745625e+04      3.546087   \n",
       "min         2.00000     3.320000e+02       3.0   0.000000e+00      0.000000   \n",
       "25%         9.00000     2.324000e+04       3.0   1.144674e+04      0.000000   \n",
       "50%        12.00000     3.967400e+04       3.0   2.089278e+04      0.000000   \n",
       "75%        16.00000     6.640000e+04       3.0   3.644908e+04      0.000000   \n",
       "max        83.00000     1.710630e+06       3.0   1.338778e+06    169.050000   \n",
       "\n",
       "       Loan/No Loan  \n",
       "count  87500.000000  \n",
       "mean       0.188709  \n",
       "std        0.391279  \n",
       "min        0.000000  \n",
       "25%        0.000000  \n",
       "50%        0.000000  \n",
       "75%        0.000000  \n",
       "max        1.000000  "
      ]
     },
     "execution_count": 11,
     "metadata": {},
     "output_type": "execute_result"
    }
   ],
   "source": [
    "df_train.describe()"
   ]
  },
  {
   "cell_type": "code",
   "execution_count": 12,
   "metadata": {},
   "outputs": [
    {
     "data": {
      "text/plain": [
       "ID                         0\n",
       "Asst_Reg                   0\n",
       "GGGrade                    0\n",
       "Experience                 0\n",
       "Validation             34504\n",
       "Yearly Income           5575\n",
       "Home Status             8426\n",
       "Unpaid 2 years             0\n",
       "Already Defaulted          0\n",
       "Designation             1414\n",
       "Debt to Income          3489\n",
       "Postal Code             1389\n",
       "Lend Amount                0\n",
       "Deprecatory Records        0\n",
       "Interest Charged           0\n",
       "Usage Rate                 0\n",
       "Inquiries                  0\n",
       "Present Balance            0\n",
       "Gross Collection           0\n",
       "Sub GGGrade                0\n",
       "File Status                0\n",
       "State                      0\n",
       "Account Open               0\n",
       "Total Unpaid CL         4186\n",
       "Duration               27439\n",
       "Unpaid Amount           4852\n",
       "Reason                     0\n",
       "Claim Type                 0\n",
       "Due Fee                    0\n",
       "Loan/No Loan               0\n",
       "dtype: int64"
      ]
     },
     "execution_count": 12,
     "metadata": {},
     "output_type": "execute_result"
    }
   ],
   "source": [
    "df_train.isnull().sum()"
   ]
  },
  {
   "cell_type": "code",
   "execution_count": 13,
   "metadata": {},
   "outputs": [],
   "source": [
    "df_train['Yearly Income'] =  df_train['Yearly Income'].replace(np.NaN,df_train['Yearly Income'].median())\n",
    "df_train['Debt to Income'] = df_train['Debt to Income'].replace(np.NaN, df_train['Debt to Income'].mean())\n",
    "df_train['Total Unpaid CL'] = df_train['Total Unpaid CL'].replace(np.NaN,df_train['Total Unpaid CL'].median())\n",
    "df_train['Unpaid Amount'] = df_train['Unpaid Amount'].replace(np.NaN,df_train['Unpaid Amount'].median())"
   ]
  },
  {
   "cell_type": "code",
   "execution_count": 14,
   "metadata": {},
   "outputs": [
    {
     "data": {
      "text/html": [
       "<div>\n",
       "<style scoped>\n",
       "    .dataframe tbody tr th:only-of-type {\n",
       "        vertical-align: middle;\n",
       "    }\n",
       "\n",
       "    .dataframe tbody tr th {\n",
       "        vertical-align: top;\n",
       "    }\n",
       "\n",
       "    .dataframe thead th {\n",
       "        text-align: right;\n",
       "    }\n",
       "</style>\n",
       "<table border=\"1\" class=\"dataframe\">\n",
       "  <thead>\n",
       "    <tr style=\"text-align: right;\">\n",
       "      <th></th>\n",
       "      <th>ID</th>\n",
       "      <th>Asst_Reg</th>\n",
       "      <th>GGGrade</th>\n",
       "      <th>Experience</th>\n",
       "      <th>Validation</th>\n",
       "      <th>Yearly Income</th>\n",
       "      <th>Home Status</th>\n",
       "      <th>Unpaid 2 years</th>\n",
       "      <th>Already Defaulted</th>\n",
       "      <th>Designation</th>\n",
       "      <th>Debt to Income</th>\n",
       "      <th>Postal Code</th>\n",
       "      <th>Lend Amount</th>\n",
       "      <th>Deprecatory Records</th>\n",
       "      <th>Interest Charged</th>\n",
       "      <th>Usage Rate</th>\n",
       "      <th>Inquiries</th>\n",
       "      <th>Present Balance</th>\n",
       "      <th>Gross Collection</th>\n",
       "      <th>Sub GGGrade</th>\n",
       "      <th>File Status</th>\n",
       "      <th>State</th>\n",
       "      <th>Account Open</th>\n",
       "      <th>Total Unpaid CL</th>\n",
       "      <th>Duration</th>\n",
       "      <th>Unpaid Amount</th>\n",
       "      <th>Reason</th>\n",
       "      <th>Claim Type</th>\n",
       "      <th>Due Fee</th>\n",
       "      <th>Loan/No Loan</th>\n",
       "    </tr>\n",
       "  </thead>\n",
       "  <tbody>\n",
       "  </tbody>\n",
       "</table>\n",
       "</div>"
      ],
      "text/plain": [
       "Empty DataFrame\n",
       "Columns: [ID, Asst_Reg, GGGrade, Experience, Validation, Yearly Income, Home Status, Unpaid 2 years, Already Defaulted, Designation, Debt to Income, Postal Code, Lend Amount, Deprecatory Records, Interest Charged, Usage Rate, Inquiries, Present Balance, Gross Collection, Sub GGGrade, File Status, State, Account Open, Total Unpaid CL, Duration, Unpaid Amount, Reason, Claim Type, Due Fee, Loan/No Loan]\n",
       "Index: []"
      ]
     },
     "execution_count": 14,
     "metadata": {},
     "output_type": "execute_result"
    }
   ],
   "source": [
    "df_train[df_train['Yearly Income'].isnull()]"
   ]
  },
  {
   "cell_type": "code",
   "execution_count": 15,
   "metadata": {},
   "outputs": [
    {
     "data": {
      "text/plain": [
       "School Teacher             1585\n",
       "Super Lead                 1322\n",
       "Nurse                       743\n",
       "RN                          646\n",
       "Owner                       623\n",
       "                           ... \n",
       "Driector of Sales             1\n",
       "southwest credit              1\n",
       "SR DATA ENTRY CLERK           1\n",
       "Opps Manager                  1\n",
       "Sr. Merchandise manager       1\n",
       "Name: Designation, Length: 40354, dtype: int64"
      ]
     },
     "execution_count": 15,
     "metadata": {},
     "output_type": "execute_result"
    }
   ],
   "source": [
    "df_train['Designation'].value_counts()"
   ]
  },
  {
   "cell_type": "code",
   "execution_count": 16,
   "metadata": {},
   "outputs": [],
   "source": [
    "df_train['Designation'] = df_train['Designation'].replace(np.NaN, df_train['Designation'].mode()[0])\n",
    "df_train['Validation'] = df_train['Validation'].replace(np.NaN,df_train['Validation'].mode()[0])\n",
    "df_train['Home Status'] = df_train['Home Status'].replace(np.NaN,df_train['Home Status'].mode()[0])\n",
    "df_train['Duration'] = df_train['Duration'].replace(np.NaN, df_train['Duration'].mode()[0])\n",
    "df_train['Postal Code'] = df_train['Postal Code'].replace(np.NaN, df_train['Postal Code'].mode()[0])"
   ]
  },
  {
   "cell_type": "code",
   "execution_count": 17,
   "metadata": {},
   "outputs": [
    {
     "data": {
      "text/plain": [
       "ID                     0\n",
       "Asst_Reg               0\n",
       "GGGrade                0\n",
       "Experience             0\n",
       "Validation             0\n",
       "Yearly Income          0\n",
       "Home Status            0\n",
       "Unpaid 2 years         0\n",
       "Already Defaulted      0\n",
       "Designation            0\n",
       "Debt to Income         0\n",
       "Postal Code            0\n",
       "Lend Amount            0\n",
       "Deprecatory Records    0\n",
       "Interest Charged       0\n",
       "Usage Rate             0\n",
       "Inquiries              0\n",
       "Present Balance        0\n",
       "Gross Collection       0\n",
       "Sub GGGrade            0\n",
       "File Status            0\n",
       "State                  0\n",
       "Account Open           0\n",
       "Total Unpaid CL        0\n",
       "Duration               0\n",
       "Unpaid Amount          0\n",
       "Reason                 0\n",
       "Claim Type             0\n",
       "Due Fee                0\n",
       "Loan/No Loan           0\n",
       "dtype: int64"
      ]
     },
     "execution_count": 17,
     "metadata": {},
     "output_type": "execute_result"
    }
   ],
   "source": [
    "df_train.isnull().sum()"
   ]
  },
  {
   "cell_type": "code",
   "execution_count": 18,
   "metadata": {},
   "outputs": [
    {
     "name": "stderr",
     "output_type": "stream",
     "text": [
      "<ipython-input-18-46549ca9254d>:3: RuntimeWarning: More than 20 figures have been opened. Figures created through the pyplot interface (`matplotlib.pyplot.figure`) are retained until explicitly closed and may consume too much memory. (To control this warning, see the rcParam `figure.max_open_warning`).\n",
      "  plt.figure(figsize=(5,5))\n"
     ]
    },
    {
     "data": {
      "image/png": "[encoded data removed]",
      "text/plain": [
       "<Figure size 360x360 with 1 Axes>"
      ]
     },
     "metadata": {
      "needs_background": "light"
     },
     "output_type": "display_data"
    },
    {
     "data": {
      "image/png": "[encoded data removed]",
      "text/plain": [
       "<Figure size 360x360 with 1 Axes>"
      ]
     },
     "metadata": {
      "needs_background": "light"
     },
     "output_type": "display_data"
    },
    {
     "data": {
      "image/png": "[encoded data removed]",
      "text/plain": [
       "<Figure size 360x360 with 1 Axes>"
      ]
     },
     "metadata": {
      "needs_background": "light"
     },
     "output_type": "display_data"
    },
    {
     "data": {
      "image/png": "[encoded data removed]",
      "text/plain": [
       "<Figure size 360x360 with 1 Axes>"
      ]
     },
     "metadata": {
      "needs_background": "light"
     },
     "output_type": "display_data"
    },
    {
     "data": {
      "image/png": "[encoded data removed]",
      "text/plain": [
       "<Figure size 360x360 with 1 Axes>"
      ]
     },
     "metadata": {
      "needs_background": "light"
     },
     "output_type": "display_data"
    },
    {
     "data": {
      "image/png": "[encoded data removed]",
      "text/plain": [
       "<Figure size 360x360 with 1 Axes>"
      ]
     },
     "metadata": {
      "needs_background": "light"
     },
     "output_type": "display_data"
    },
    {
     "data": {
      "image/png": "[encoded data removed]",
      "text/plain": [
       "<Figure size 360x360 with 1 Axes>"
      ]
     },
     "metadata": {
      "needs_background": "light"
     },
     "output_type": "display_data"
    },
    {
     "data": {
      "image/png": "[encoded data removed]",
      "text/plain": [
       "<Figure size 360x360 with 1 Axes>"
      ]
     },
     "metadata": {
      "needs_background": "light"
     },
     "output_type": "display_data"
    },
    {
     "data": {
      "image/png": "[encoded data removed]",
      "text/plain": [
       "<Figure size 360x360 with 1 Axes>"
      ]
     },
     "metadata": {
      "needs_background": "light"
     },
     "output_type": "display_data"
    },
    {
     "data": {
      "image/png": "[encoded data removed]",
      "text/plain": [
       "<Figure size 360x360 with 1 Axes>"
      ]
     },
     "metadata": {
      "needs_background": "light"
     },
     "output_type": "display_data"
    },
    {
     "data": {
      "image/png": "[encoded data removed]",
      "text/plain": [
       "<Figure size 360x360 with 1 Axes>"
      ]
     },
     "metadata": {
      "needs_background": "light"
     },
     "output_type": "display_data"
    },
    {
     "data": {
      "image/png": "[encoded data removed]",
      "text/plain": [
       "<Figure size 360x360 with 1 Axes>"
      ]
     },
     "metadata": {
      "needs_background": "light"
     },
     "output_type": "display_data"
    },
    {
     "data": {
      "image/png": "[encoded data removed]",
      "text/plain": [
       "<Figure size 360x360 with 1 Axes>"
      ]
     },
     "metadata": {
      "needs_background": "light"
     },
     "output_type": "display_data"
    },
    {
     "data": {
      "image/png": "[encoded data removed]",
      "text/plain": [
       "<Figure size 360x360 with 1 Axes>"
      ]
     },
     "metadata": {
      "needs_background": "light"
     },
     "output_type": "display_data"
    },
    {
     "data": {
      "image/png": "[encoded data removed]",
      "text/plain": [
       "<Figure size 360x360 with 1 Axes>"
      ]
     },
     "metadata": {
      "needs_background": "light"
     },
     "output_type": "display_data"
    },
    {
     "data": {
      "image/png": "[encoded data removed]",
      "text/plain": [
       "<Figure size 360x360 with 1 Axes>"
      ]
     },
     "metadata": {
      "needs_background": "light"
     },
     "output_type": "display_data"
    },
    {
     "data": {
      "image/png": "[encoded data removed]",
      "text/plain": [
       "<Figure size 360x360 with 1 Axes>"
      ]
     },
     "metadata": {
      "needs_background": "light"
     },
     "output_type": "display_data"
    },
    {
     "data": {
      "image/png": "[encoded data removed]",
      "text/plain": [
       "<Figure size 360x360 with 1 Axes>"
      ]
     },
     "metadata": {
      "needs_background": "light"
     },
     "output_type": "display_data"
    },
    {
     "data": {
      "image/png": "[encoded data removed]",
      "text/plain": [
       "<Figure size 360x360 with 1 Axes>"
      ]
     },
     "metadata": {
      "needs_background": "light"
     },
     "output_type": "display_data"
    },
    {
     "data": {
      "image/png": "[encoded data removed]",
      "text/plain": [
       "<Figure size 360x360 with 1 Axes>"
      ]
     },
     "metadata": {
      "needs_background": "light"
     },
     "output_type": "display_data"
    },
    {
     "data": {
      "image/png": "[encoded data removed]",
      "text/plain": [
       "<Figure size 360x360 with 1 Axes>"
      ]
     },
     "metadata": {
      "needs_background": "light"
     },
     "output_type": "display_data"
    },
    {
     "data": {
      "image/png": "[encoded data removed]",
      "text/plain": [
       "<Figure size 360x360 with 1 Axes>"
      ]
     },
     "metadata": {
      "needs_background": "light"
     },
     "output_type": "display_data"
    },
    {
     "data": {
      "image/png": "[encoded data removed]",
      "text/plain": [
       "<Figure size 360x360 with 1 Axes>"
      ]
     },
     "metadata": {
      "needs_background": "light"
     },
     "output_type": "display_data"
    }
   ],
   "source": [
    "for i in df_train.columns:\n",
    "    if df_train[i].dtype != 'object':\n",
    "        plt.figure(figsize=(5,5))\n",
    "        sns.boxplot(x = df_train[i],data= df_train)"
   ]
  },
  {
   "cell_type": "code",
   "execution_count": 19,
   "metadata": {},
   "outputs": [],
   "source": [
    "def remove_outliers(column):\n",
    "    Q1 = column.quantile(0.25)\n",
    "    Q3 = column.quantile(0.75)\n",
    "    IQR = Q3 -Q1\n",
    "    lr = Q1 - (1.5 * IQR)\n",
    "    ur = Q3 + (1.5 * IQR)\n",
    "    return lr, ur "
   ]
  },
  {
   "cell_type": "code",
   "execution_count": 20,
   "metadata": {},
   "outputs": [],
   "source": [
    "for i in df_train[['Yearly Income','Debt to Income','Usage Rate','Sub GGGrade','Account Open','Unpaid Amount']]:\n",
    "    lr, ur = remove_outliers(df_train[i])\n",
    "    df_train[i] = np.where(df_train[i]< lr, lr, df_train[i])\n",
    "    df_train[i] = np.where(df_train[i]> ur, ur, df_train[i])"
   ]
  },
  {
   "cell_type": "code",
   "execution_count": 21,
   "metadata": {},
   "outputs": [
    {
     "name": "stderr",
     "output_type": "stream",
     "text": [
      "<ipython-input-21-46549ca9254d>:3: RuntimeWarning: More than 20 figures have been opened. Figures created through the pyplot interface (`matplotlib.pyplot.figure`) are retained until explicitly closed and may consume too much memory. (To control this warning, see the rcParam `figure.max_open_warning`).\n",
      "  plt.figure(figsize=(5,5))\n"
     ]
    },
    {
     "data": {
      "image/png": "[encoded data removed]",
      "text/plain": [
       "<Figure size 360x360 with 1 Axes>"
      ]
     },
     "metadata": {
      "needs_background": "light"
     },
     "output_type": "display_data"
    },
    {
     "data": {
      "image/png": "[encoded data removed]",
      "text/plain": [
       "<Figure size 360x360 with 1 Axes>"
      ]
     },
     "metadata": {
      "needs_background": "light"
     },
     "output_type": "display_data"
    },
    {
     "data": {
      "image/png": "[encoded data removed]",
      "text/plain": [
       "<Figure size 360x360 with 1 Axes>"
      ]
     },
     "metadata": {
      "needs_background": "light"
     },
     "output_type": "display_data"
    },
    {
     "data": {
      "image/png": "[encoded data removed]",
      "text/plain": [
       "<Figure size 360x360 with 1 Axes>"
      ]
     },
     "metadata": {
      "needs_background": "light"
     },
     "output_type": "display_data"
    },
    {
     "data": {
      "image/png": "[encoded data removed]",
      "text/plain": [
       "<Figure size 360x360 with 1 Axes>"
      ]
     },
     "metadata": {
      "needs_background": "light"
     },
     "output_type": "display_data"
    },
    {
     "data": {
      "image/png": "[encoded data removed]",
      "text/plain": [
       "<Figure size 360x360 with 1 Axes>"
      ]
     },
     "metadata": {
      "needs_background": "light"
     },
     "output_type": "display_data"
    },
    {
     "data": {
      "image/png": "[encoded data removed]",
      "text/plain": [
       "<Figure size 360x360 with 1 Axes>"
      ]
     },
     "metadata": {
      "needs_background": "light"
     },
     "output_type": "display_data"
    },
    {
     "data": {
      "image/png": "[encoded data removed]",
      "text/plain": [
       "<Figure size 360x360 with 1 Axes>"
      ]
     },
     "metadata": {
      "needs_background": "light"
     },
     "output_type": "display_data"
    },
    {
     "data": {
      "image/png": "[encoded data removed]",
      "text/plain": [
       "<Figure size 360x360 with 1 Axes>"
      ]
     },
     "metadata": {
      "needs_background": "light"
     },
     "output_type": "display_data"
    },
    {
     "data": {
      "image/png": "[encoded data removed]",
      "text/plain": [
       "<Figure size 360x360 with 1 Axes>"
      ]
     },
     "metadata": {
      "needs_background": "light"
     },
     "output_type": "display_data"
    },
    {
     "data": {
      "image/png": "[encoded data removed]",
      "text/plain": [
       "<Figure size 360x360 with 1 Axes>"
      ]
     },
     "metadata": {
      "needs_background": "light"
     },
     "output_type": "display_data"
    },
    {
     "data": {
      "image/png": "[encoded data removed]",
      "text/plain": [
       "<Figure size 360x360 with 1 Axes>"
      ]
     },
     "metadata": {
      "needs_background": "light"
     },
     "output_type": "display_data"
    },
    {
     "data": {
      "image/png": "[encoded data removed]",
      "text/plain": [
       "<Figure size 360x360 with 1 Axes>"
      ]
     },
     "metadata": {
      "needs_background": "light"
     },
     "output_type": "display_data"
    },
    {
     "data": {
      "image/png": "[encoded data removed]",
      "text/plain": [
       "<Figure size 360x360 with 1 Axes>"
      ]
     },
     "metadata": {
      "needs_background": "light"
     },
     "output_type": "display_data"
    },
    {
     "data": {
      "image/png": "[encoded data removed]",
      "text/plain": [
       "<Figure size 360x360 with 1 Axes>"
      ]
     },
     "metadata": {
      "needs_background": "light"
     },
     "output_type": "display_data"
    },
    {
     "data": {
      "image/png": "[encoded data removed]",
      "text/plain": [
       "<Figure size 360x360 with 1 Axes>"
      ]
     },
     "metadata": {
      "needs_background": "light"
     },
     "output_type": "display_data"
    },
    {
     "data": {
      "image/png": "[encoded data removed]",
      "text/plain": [
       "<Figure size 360x360 with 1 Axes>"
      ]
     },
     "metadata": {
      "needs_background": "light"
     },
     "output_type": "display_data"
    },
    {
     "data": {
      "image/png": "[encoded data removed]",
      "text/plain": [
       "<Figure size 360x360 with 1 Axes>"
      ]
     },
     "metadata": {
      "needs_background": "light"
     },
     "output_type": "display_data"
    },
    {
     "data": {
      "image/png": "[encoded data removed]",
      "text/plain": [
       "<Figure size 360x360 with 1 Axes>"
      ]
     },
     "metadata": {
      "needs_background": "light"
     },
     "output_type": "display_data"
    },
    {
     "data": {
      "image/png": "[encoded data removed]",
      "text/plain": [
       "<Figure size 360x360 with 1 Axes>"
      ]
     },
     "metadata": {
      "needs_background": "light"
     },
     "output_type": "display_data"
    },
    {
     "data": {
      "image/png": "[encoded data removed]",
      "text/plain": [
       "<Figure size 360x360 with 1 Axes>"
      ]
     },
     "metadata": {
      "needs_background": "light"
     },
     "output_type": "display_data"
    },
    {
     "data": {
      "image/png": "[encoded data removed]",
      "text/plain": [
       "<Figure size 360x360 with 1 Axes>"
      ]
     },
     "metadata": {
      "needs_background": "light"
     },
     "output_type": "display_data"
    },
    {
     "data": {
      "image/png": "[encoded data removed]",
      "text/plain": [
       "<Figure size 360x360 with 1 Axes>"
      ]
     },
     "metadata": {
      "needs_background": "light"
     },
     "output_type": "display_data"
    }
   ],
   "source": [
    "for i in df_train.columns:\n",
    "    if df_train[i].dtype != 'object':\n",
    "        plt.figure(figsize=(5,5))\n",
    "        sns.boxplot(x = df_train[i],data= df_train)"
   ]
  },
  {
   "cell_type": "code",
   "execution_count": 22,
   "metadata": {},
   "outputs": [
    {
     "data": {
      "text/html": [
       "<div>\n",
       "<style scoped>\n",
       "    .dataframe tbody tr th:only-of-type {\n",
       "        vertical-align: middle;\n",
       "    }\n",
       "\n",
       "    .dataframe tbody tr th {\n",
       "        vertical-align: top;\n",
       "    }\n",
       "\n",
       "    .dataframe thead th {\n",
       "        text-align: right;\n",
       "    }\n",
       "</style>\n",
       "<table border=\"1\" class=\"dataframe\">\n",
       "  <thead>\n",
       "    <tr style=\"text-align: right;\">\n",
       "      <th></th>\n",
       "      <th>ID</th>\n",
       "      <th>Asst_Reg</th>\n",
       "      <th>GGGrade</th>\n",
       "      <th>Experience</th>\n",
       "      <th>Validation</th>\n",
       "      <th>Yearly Income</th>\n",
       "      <th>Home Status</th>\n",
       "      <th>Unpaid 2 years</th>\n",
       "      <th>Already Defaulted</th>\n",
       "      <th>Designation</th>\n",
       "      <th>Debt to Income</th>\n",
       "      <th>Postal Code</th>\n",
       "      <th>Lend Amount</th>\n",
       "      <th>Deprecatory Records</th>\n",
       "      <th>Interest Charged</th>\n",
       "      <th>Usage Rate</th>\n",
       "      <th>Inquiries</th>\n",
       "      <th>Present Balance</th>\n",
       "      <th>Gross Collection</th>\n",
       "      <th>Sub GGGrade</th>\n",
       "      <th>File Status</th>\n",
       "      <th>State</th>\n",
       "      <th>Account Open</th>\n",
       "      <th>Total Unpaid CL</th>\n",
       "      <th>Duration</th>\n",
       "      <th>Unpaid Amount</th>\n",
       "      <th>Reason</th>\n",
       "      <th>Claim Type</th>\n",
       "      <th>Due Fee</th>\n",
       "      <th>Loan/No Loan</th>\n",
       "    </tr>\n",
       "  </thead>\n",
       "  <tbody>\n",
       "    <tr>\n",
       "      <th>0</th>\n",
       "      <td>95074</td>\n",
       "      <td>421802</td>\n",
       "      <td>2</td>\n",
       "      <td>11</td>\n",
       "      <td>Verified</td>\n",
       "      <td>266640.00</td>\n",
       "      <td>MORGAGE</td>\n",
       "      <td>0</td>\n",
       "      <td>0</td>\n",
       "      <td>GLENDALE NISSAN</td>\n",
       "      <td>12.5496</td>\n",
       "      <td>91300.0</td>\n",
       "      <td>42023.25</td>\n",
       "      <td>0</td>\n",
       "      <td>15.39</td>\n",
       "      <td>88.924</td>\n",
       "      <td>3</td>\n",
       "      <td>607161.90</td>\n",
       "      <td>0.0</td>\n",
       "      <td>19.0</td>\n",
       "      <td>fully paid</td>\n",
       "      <td>California</td>\n",
       "      <td>17.0</td>\n",
       "      <td>58598.0</td>\n",
       "      <td>3.0</td>\n",
       "      <td>31216.05</td>\n",
       "      <td>debt  consolidation</td>\n",
       "      <td>I</td>\n",
       "      <td>0.0</td>\n",
       "      <td>0</td>\n",
       "    </tr>\n",
       "    <tr>\n",
       "      <th>1</th>\n",
       "      <td>134131</td>\n",
       "      <td>3964312</td>\n",
       "      <td>4</td>\n",
       "      <td>7</td>\n",
       "      <td>Verified</td>\n",
       "      <td>85483.20</td>\n",
       "      <td>RENT</td>\n",
       "      <td>0</td>\n",
       "      <td>0</td>\n",
       "      <td>Business Teacher</td>\n",
       "      <td>9.0048</td>\n",
       "      <td>27400.0</td>\n",
       "      <td>38133.00</td>\n",
       "      <td>0</td>\n",
       "      <td>9.94</td>\n",
       "      <td>102.856</td>\n",
       "      <td>0</td>\n",
       "      <td>269234.06</td>\n",
       "      <td>0.0</td>\n",
       "      <td>30.0</td>\n",
       "      <td>whole</td>\n",
       "      <td>NC</td>\n",
       "      <td>15.0</td>\n",
       "      <td>18924.0</td>\n",
       "      <td>3.0</td>\n",
       "      <td>11660.49</td>\n",
       "      <td>debt  consolidation</td>\n",
       "      <td>I</td>\n",
       "      <td>0.0</td>\n",
       "      <td>0</td>\n",
       "    </tr>\n",
       "    <tr>\n",
       "      <th>2</th>\n",
       "      <td>92602</td>\n",
       "      <td>4247560</td>\n",
       "      <td>3</td>\n",
       "      <td>0</td>\n",
       "      <td>Verified</td>\n",
       "      <td>79200.00</td>\n",
       "      <td>RENT</td>\n",
       "      <td>0</td>\n",
       "      <td>0</td>\n",
       "      <td>driver</td>\n",
       "      <td>24.9144</td>\n",
       "      <td>32800.0</td>\n",
       "      <td>17100.00</td>\n",
       "      <td>0</td>\n",
       "      <td>22.35</td>\n",
       "      <td>60.372</td>\n",
       "      <td>0</td>\n",
       "      <td>22476.53</td>\n",
       "      <td>0.0</td>\n",
       "      <td>25.0</td>\n",
       "      <td>whole</td>\n",
       "      <td>Florida</td>\n",
       "      <td>7.0</td>\n",
       "      <td>15604.0</td>\n",
       "      <td>3.0</td>\n",
       "      <td>5637.87</td>\n",
       "      <td>major  purchase</td>\n",
       "      <td>I</td>\n",
       "      <td>0.0</td>\n",
       "      <td>0</td>\n",
       "    </tr>\n",
       "    <tr>\n",
       "      <th>3</th>\n",
       "      <td>22591</td>\n",
       "      <td>197179</td>\n",
       "      <td>3</td>\n",
       "      <td>0</td>\n",
       "      <td>Verified</td>\n",
       "      <td>61600.00</td>\n",
       "      <td>RENT</td>\n",
       "      <td>0</td>\n",
       "      <td>0</td>\n",
       "      <td>AvePoint</td>\n",
       "      <td>16.5816</td>\n",
       "      <td>7000.0</td>\n",
       "      <td>5130.00</td>\n",
       "      <td>0</td>\n",
       "      <td>10.36</td>\n",
       "      <td>116.272</td>\n",
       "      <td>1</td>\n",
       "      <td>15242.09</td>\n",
       "      <td>0.0</td>\n",
       "      <td>22.0</td>\n",
       "      <td>fully paid</td>\n",
       "      <td>NewJersey</td>\n",
       "      <td>9.0</td>\n",
       "      <td>22410.0</td>\n",
       "      <td>3.0</td>\n",
       "      <td>15607.17</td>\n",
       "      <td>major  purchase</td>\n",
       "      <td>I</td>\n",
       "      <td>0.0</td>\n",
       "      <td>1</td>\n",
       "    </tr>\n",
       "    <tr>\n",
       "      <th>4</th>\n",
       "      <td>125060</td>\n",
       "      <td>4646684</td>\n",
       "      <td>5</td>\n",
       "      <td>2</td>\n",
       "      <td>Verified</td>\n",
       "      <td>68053.92</td>\n",
       "      <td>RENT</td>\n",
       "      <td>0</td>\n",
       "      <td>0</td>\n",
       "      <td>Lead Tester</td>\n",
       "      <td>40.0512</td>\n",
       "      <td>70800.0</td>\n",
       "      <td>19665.00</td>\n",
       "      <td>0</td>\n",
       "      <td>13.68</td>\n",
       "      <td>127.280</td>\n",
       "      <td>1</td>\n",
       "      <td>65433.94</td>\n",
       "      <td>0.0</td>\n",
       "      <td>32.0</td>\n",
       "      <td>fully paid</td>\n",
       "      <td>LA</td>\n",
       "      <td>10.0</td>\n",
       "      <td>36022.0</td>\n",
       "      <td>3.0</td>\n",
       "      <td>27472.86</td>\n",
       "      <td>debt  consolidation</td>\n",
       "      <td>I</td>\n",
       "      <td>0.0</td>\n",
       "      <td>0</td>\n",
       "    </tr>\n",
       "  </tbody>\n",
       "</table>\n",
       "</div>"
      ],
      "text/plain": [
       "       ID  Asst_Reg  GGGrade  Experience Validation  Yearly Income  \\\n",
       "0   95074    421802        2          11   Verified      266640.00   \n",
       "1  134131   3964312        4           7   Verified       85483.20   \n",
       "2   92602   4247560        3           0   Verified       79200.00   \n",
       "3   22591    197179        3           0   Verified       61600.00   \n",
       "4  125060   4646684        5           2   Verified       68053.92   \n",
       "\n",
       "  Home Status  Unpaid 2 years  Already Defaulted       Designation  \\\n",
       "0     MORGAGE               0                  0   GLENDALE NISSAN   \n",
       "1        RENT               0                  0  Business Teacher   \n",
       "2        RENT               0                  0            driver   \n",
       "3        RENT               0                  0          AvePoint   \n",
       "4        RENT               0                  0       Lead Tester   \n",
       "\n",
       "   Debt to Income  Postal Code  Lend Amount  Deprecatory Records  \\\n",
       "0         12.5496      91300.0     42023.25                    0   \n",
       "1          9.0048      27400.0     38133.00                    0   \n",
       "2         24.9144      32800.0     17100.00                    0   \n",
       "3         16.5816       7000.0      5130.00                    0   \n",
       "4         40.0512      70800.0     19665.00                    0   \n",
       "\n",
       "   Interest Charged  Usage Rate  Inquiries  Present Balance  Gross Collection  \\\n",
       "0             15.39      88.924          3        607161.90               0.0   \n",
       "1              9.94     102.856          0        269234.06               0.0   \n",
       "2             22.35      60.372          0         22476.53               0.0   \n",
       "3             10.36     116.272          1         15242.09               0.0   \n",
       "4             13.68     127.280          1         65433.94               0.0   \n",
       "\n",
       "   Sub GGGrade File Status       State  Account Open  Total Unpaid CL  \\\n",
       "0         19.0  fully paid  California          17.0          58598.0   \n",
       "1         30.0       whole          NC          15.0          18924.0   \n",
       "2         25.0       whole     Florida           7.0          15604.0   \n",
       "3         22.0  fully paid   NewJersey           9.0          22410.0   \n",
       "4         32.0  fully paid          LA          10.0          36022.0   \n",
       "\n",
       "   Duration  Unpaid Amount               Reason Claim Type  Due Fee  \\\n",
       "0       3.0       31216.05  debt  consolidation          I      0.0   \n",
       "1       3.0       11660.49  debt  consolidation          I      0.0   \n",
       "2       3.0        5637.87      major  purchase          I      0.0   \n",
       "3       3.0       15607.17      major  purchase          I      0.0   \n",
       "4       3.0       27472.86  debt  consolidation          I      0.0   \n",
       "\n",
       "   Loan/No Loan  \n",
       "0             0  \n",
       "1             0  \n",
       "2             0  \n",
       "3             1  \n",
       "4             0  "
      ]
     },
     "execution_count": 22,
     "metadata": {},
     "output_type": "execute_result"
    }
   ],
   "source": [
    "df_train.head()"
   ]
  },
  {
   "cell_type": "code",
   "execution_count": 23,
   "metadata": {},
   "outputs": [
    {
     "name": "stdout",
     "output_type": "stream",
     "text": [
      "Validation\n",
      "['Verified' 'Not Verified']\n",
      "[0 1] \n",
      "\n",
      "Home Status\n",
      "['MORGAGE' 'RENT']\n",
      "[0 1] \n",
      "\n",
      "Designation\n",
      "['GLENDALE NISSAN' 'Business Teacher' 'driver' ... 'Interface Coordinator'\n",
      " 'PARTS CLERK' 'Outside sales rep']\n",
      "[    0     1     2 ... 40351 40352 40353] \n",
      "\n",
      "File Status\n",
      "['fully paid' 'whole']\n",
      "[0 1] \n",
      "\n",
      "State\n",
      "['California' 'NC' 'Florida' 'NewJersey' 'LA' 'TX' 'CT' 'MI' 'OR' 'AR'\n",
      " 'Newyork' 'MT' 'CO' 'Ohio' 'NM' 'MN' 'GA' 'WA' 'Maryland' 'AL' 'SC' 'PA'\n",
      " 'AZ' 'UT' 'MA' 'VA' 'IL' 'WI' 'NV' 'HI' 'RI' 'TN' 'OK' 'VT' 'IN' 'AK'\n",
      " 'MO' 'NE' 'NH' 'DC' 'WV' 'MS' 'KY' 'KS' 'DE' 'ND' 'SD' 'WY' 'ME']\n",
      "[ 0  1  2  3  4  5  6  7  8  9 10 11 12 13 14 15 16 17 18 19 20 21 22 23\n",
      " 24 25 26 27 28 29 30 31 32 33 34 35 36 37 38 39 40 41 42 43 44 45 46 47\n",
      " 48] \n",
      "\n",
      "Reason\n",
      "['debt  consolidation' 'major  purchase' 'other' 'credit  card' 'car'\n",
      " 'home  improvement' 'small  business' 'moving' 'vacation' 'medical'\n",
      " 'wedding' 'house' 'renewable  energy']\n",
      "[ 0  1  2  3  4  5  6  7  8  9 10 11 12] \n",
      "\n",
      "Claim Type\n",
      "['I' 'J']\n",
      "[0 1] \n",
      "\n"
     ]
    }
   ],
   "source": [
    "for i in df_train.columns:\n",
    "    if df_train[i].dtype == 'object':\n",
    "        print(i)\n",
    "        print(df_train[i].unique())\n",
    "        print(pd.Categorical(df_train[i]).unique().codes, '\\n')\n",
    "        df_train[i] = pd.Categorical(df_train[i]).codes"
   ]
  },
  {
   "cell_type": "code",
   "execution_count": 24,
   "metadata": {},
   "outputs": [
    {
     "data": {
      "text/html": [
       "<div>\n",
       "<style scoped>\n",
       "    .dataframe tbody tr th:only-of-type {\n",
       "        vertical-align: middle;\n",
       "    }\n",
       "\n",
       "    .dataframe tbody tr th {\n",
       "        vertical-align: top;\n",
       "    }\n",
       "\n",
       "    .dataframe thead th {\n",
       "        text-align: right;\n",
       "    }\n",
       "</style>\n",
       "<table border=\"1\" class=\"dataframe\">\n",
       "  <thead>\n",
       "    <tr style=\"text-align: right;\">\n",
       "      <th></th>\n",
       "      <th>ID</th>\n",
       "      <th>Asst_Reg</th>\n",
       "      <th>GGGrade</th>\n",
       "      <th>Experience</th>\n",
       "      <th>Validation</th>\n",
       "      <th>Yearly Income</th>\n",
       "      <th>Home Status</th>\n",
       "      <th>Unpaid 2 years</th>\n",
       "      <th>Already Defaulted</th>\n",
       "      <th>Designation</th>\n",
       "      <th>Debt to Income</th>\n",
       "      <th>Postal Code</th>\n",
       "      <th>Lend Amount</th>\n",
       "      <th>Deprecatory Records</th>\n",
       "      <th>Interest Charged</th>\n",
       "      <th>Usage Rate</th>\n",
       "      <th>Inquiries</th>\n",
       "      <th>Present Balance</th>\n",
       "      <th>Gross Collection</th>\n",
       "      <th>Sub GGGrade</th>\n",
       "      <th>File Status</th>\n",
       "      <th>State</th>\n",
       "      <th>Account Open</th>\n",
       "      <th>Total Unpaid CL</th>\n",
       "      <th>Duration</th>\n",
       "      <th>Unpaid Amount</th>\n",
       "      <th>Reason</th>\n",
       "      <th>Claim Type</th>\n",
       "      <th>Due Fee</th>\n",
       "      <th>Loan/No Loan</th>\n",
       "    </tr>\n",
       "  </thead>\n",
       "  <tbody>\n",
       "    <tr>\n",
       "      <th>0</th>\n",
       "      <td>95074</td>\n",
       "      <td>421802</td>\n",
       "      <td>2</td>\n",
       "      <td>11</td>\n",
       "      <td>1</td>\n",
       "      <td>266640.00</td>\n",
       "      <td>0</td>\n",
       "      <td>0</td>\n",
       "      <td>0</td>\n",
       "      <td>12862</td>\n",
       "      <td>12.5496</td>\n",
       "      <td>91300.0</td>\n",
       "      <td>42023.25</td>\n",
       "      <td>0</td>\n",
       "      <td>15.39</td>\n",
       "      <td>88.924</td>\n",
       "      <td>3</td>\n",
       "      <td>607161.90</td>\n",
       "      <td>0.0</td>\n",
       "      <td>19.0</td>\n",
       "      <td>0</td>\n",
       "      <td>6</td>\n",
       "      <td>17.0</td>\n",
       "      <td>58598.0</td>\n",
       "      <td>3.0</td>\n",
       "      <td>31216.05</td>\n",
       "      <td>2</td>\n",
       "      <td>0</td>\n",
       "      <td>0.0</td>\n",
       "      <td>0</td>\n",
       "    </tr>\n",
       "    <tr>\n",
       "      <th>1</th>\n",
       "      <td>134131</td>\n",
       "      <td>3964312</td>\n",
       "      <td>4</td>\n",
       "      <td>7</td>\n",
       "      <td>1</td>\n",
       "      <td>85483.20</td>\n",
       "      <td>1</td>\n",
       "      <td>0</td>\n",
       "      <td>0</td>\n",
       "      <td>4177</td>\n",
       "      <td>9.0048</td>\n",
       "      <td>27400.0</td>\n",
       "      <td>38133.00</td>\n",
       "      <td>0</td>\n",
       "      <td>9.94</td>\n",
       "      <td>102.856</td>\n",
       "      <td>0</td>\n",
       "      <td>269234.06</td>\n",
       "      <td>0.0</td>\n",
       "      <td>30.0</td>\n",
       "      <td>1</td>\n",
       "      <td>25</td>\n",
       "      <td>15.0</td>\n",
       "      <td>18924.0</td>\n",
       "      <td>3.0</td>\n",
       "      <td>11660.49</td>\n",
       "      <td>2</td>\n",
       "      <td>0</td>\n",
       "      <td>0.0</td>\n",
       "      <td>0</td>\n",
       "    </tr>\n",
       "    <tr>\n",
       "      <th>2</th>\n",
       "      <td>92602</td>\n",
       "      <td>4247560</td>\n",
       "      <td>3</td>\n",
       "      <td>0</td>\n",
       "      <td>1</td>\n",
       "      <td>79200.00</td>\n",
       "      <td>1</td>\n",
       "      <td>0</td>\n",
       "      <td>0</td>\n",
       "      <td>36009</td>\n",
       "      <td>24.9144</td>\n",
       "      <td>32800.0</td>\n",
       "      <td>17100.00</td>\n",
       "      <td>0</td>\n",
       "      <td>22.35</td>\n",
       "      <td>60.372</td>\n",
       "      <td>0</td>\n",
       "      <td>22476.53</td>\n",
       "      <td>0.0</td>\n",
       "      <td>25.0</td>\n",
       "      <td>1</td>\n",
       "      <td>9</td>\n",
       "      <td>7.0</td>\n",
       "      <td>15604.0</td>\n",
       "      <td>3.0</td>\n",
       "      <td>5637.87</td>\n",
       "      <td>5</td>\n",
       "      <td>0</td>\n",
       "      <td>0.0</td>\n",
       "      <td>0</td>\n",
       "    </tr>\n",
       "    <tr>\n",
       "      <th>3</th>\n",
       "      <td>22591</td>\n",
       "      <td>197179</td>\n",
       "      <td>3</td>\n",
       "      <td>0</td>\n",
       "      <td>1</td>\n",
       "      <td>61600.00</td>\n",
       "      <td>1</td>\n",
       "      <td>0</td>\n",
       "      <td>0</td>\n",
       "      <td>2918</td>\n",
       "      <td>16.5816</td>\n",
       "      <td>7000.0</td>\n",
       "      <td>5130.00</td>\n",
       "      <td>0</td>\n",
       "      <td>10.36</td>\n",
       "      <td>116.272</td>\n",
       "      <td>1</td>\n",
       "      <td>15242.09</td>\n",
       "      <td>0.0</td>\n",
       "      <td>22.0</td>\n",
       "      <td>0</td>\n",
       "      <td>31</td>\n",
       "      <td>9.0</td>\n",
       "      <td>22410.0</td>\n",
       "      <td>3.0</td>\n",
       "      <td>15607.17</td>\n",
       "      <td>5</td>\n",
       "      <td>0</td>\n",
       "      <td>0.0</td>\n",
       "      <td>1</td>\n",
       "    </tr>\n",
       "    <tr>\n",
       "      <th>4</th>\n",
       "      <td>125060</td>\n",
       "      <td>4646684</td>\n",
       "      <td>5</td>\n",
       "      <td>2</td>\n",
       "      <td>1</td>\n",
       "      <td>68053.92</td>\n",
       "      <td>1</td>\n",
       "      <td>0</td>\n",
       "      <td>0</td>\n",
       "      <td>16887</td>\n",
       "      <td>40.0512</td>\n",
       "      <td>70800.0</td>\n",
       "      <td>19665.00</td>\n",
       "      <td>0</td>\n",
       "      <td>13.68</td>\n",
       "      <td>127.280</td>\n",
       "      <td>1</td>\n",
       "      <td>65433.94</td>\n",
       "      <td>0.0</td>\n",
       "      <td>32.0</td>\n",
       "      <td>0</td>\n",
       "      <td>16</td>\n",
       "      <td>10.0</td>\n",
       "      <td>36022.0</td>\n",
       "      <td>3.0</td>\n",
       "      <td>27472.86</td>\n",
       "      <td>2</td>\n",
       "      <td>0</td>\n",
       "      <td>0.0</td>\n",
       "      <td>0</td>\n",
       "    </tr>\n",
       "  </tbody>\n",
       "</table>\n",
       "</div>"
      ],
      "text/plain": [
       "       ID  Asst_Reg  GGGrade  Experience  Validation  Yearly Income  \\\n",
       "0   95074    421802        2          11           1      266640.00   \n",
       "1  134131   3964312        4           7           1       85483.20   \n",
       "2   92602   4247560        3           0           1       79200.00   \n",
       "3   22591    197179        3           0           1       61600.00   \n",
       "4  125060   4646684        5           2           1       68053.92   \n",
       "\n",
       "   Home Status  Unpaid 2 years  Already Defaulted  Designation  \\\n",
       "0            0               0                  0        12862   \n",
       "1            1               0                  0         4177   \n",
       "2            1               0                  0        36009   \n",
       "3            1               0                  0         2918   \n",
       "4            1               0                  0        16887   \n",
       "\n",
       "   Debt to Income  Postal Code  Lend Amount  Deprecatory Records  \\\n",
       "0         12.5496      91300.0     42023.25                    0   \n",
       "1          9.0048      27400.0     38133.00                    0   \n",
       "2         24.9144      32800.0     17100.00                    0   \n",
       "3         16.5816       7000.0      5130.00                    0   \n",
       "4         40.0512      70800.0     19665.00                    0   \n",
       "\n",
       "   Interest Charged  Usage Rate  Inquiries  Present Balance  Gross Collection  \\\n",
       "0             15.39      88.924          3        607161.90               0.0   \n",
       "1              9.94     102.856          0        269234.06               0.0   \n",
       "2             22.35      60.372          0         22476.53               0.0   \n",
       "3             10.36     116.272          1         15242.09               0.0   \n",
       "4             13.68     127.280          1         65433.94               0.0   \n",
       "\n",
       "   Sub GGGrade  File Status  State  Account Open  Total Unpaid CL  Duration  \\\n",
       "0         19.0            0      6          17.0          58598.0       3.0   \n",
       "1         30.0            1     25          15.0          18924.0       3.0   \n",
       "2         25.0            1      9           7.0          15604.0       3.0   \n",
       "3         22.0            0     31           9.0          22410.0       3.0   \n",
       "4         32.0            0     16          10.0          36022.0       3.0   \n",
       "\n",
       "   Unpaid Amount  Reason  Claim Type  Due Fee  Loan/No Loan  \n",
       "0       31216.05       2           0      0.0             0  \n",
       "1       11660.49       2           0      0.0             0  \n",
       "2        5637.87       5           0      0.0             0  \n",
       "3       15607.17       5           0      0.0             1  \n",
       "4       27472.86       2           0      0.0             0  "
      ]
     },
     "execution_count": 24,
     "metadata": {},
     "output_type": "execute_result"
    }
   ],
   "source": [
    "df_train.head()"
   ]
  },
  {
   "cell_type": "code",
   "execution_count": 25,
   "metadata": {},
   "outputs": [],
   "source": [
    "df_train.drop(['ID','Postal Code'],axis=1,inplace=True)"
   ]
  },
  {
   "cell_type": "code",
   "execution_count": 26,
   "metadata": {},
   "outputs": [
    {
     "data": {
      "text/html": [
       "<div>\n",
       "<style scoped>\n",
       "    .dataframe tbody tr th:only-of-type {\n",
       "        vertical-align: middle;\n",
       "    }\n",
       "\n",
       "    .dataframe tbody tr th {\n",
       "        vertical-align: top;\n",
       "    }\n",
       "\n",
       "    .dataframe thead th {\n",
       "        text-align: right;\n",
       "    }\n",
       "</style>\n",
       "<table border=\"1\" class=\"dataframe\">\n",
       "  <thead>\n",
       "    <tr style=\"text-align: right;\">\n",
       "      <th></th>\n",
       "      <th>Asst_Reg</th>\n",
       "      <th>GGGrade</th>\n",
       "      <th>Experience</th>\n",
       "      <th>Validation</th>\n",
       "      <th>Yearly Income</th>\n",
       "      <th>Home Status</th>\n",
       "      <th>Unpaid 2 years</th>\n",
       "      <th>Already Defaulted</th>\n",
       "      <th>Designation</th>\n",
       "      <th>Debt to Income</th>\n",
       "      <th>Lend Amount</th>\n",
       "      <th>Deprecatory Records</th>\n",
       "      <th>Interest Charged</th>\n",
       "      <th>Usage Rate</th>\n",
       "      <th>Inquiries</th>\n",
       "      <th>Present Balance</th>\n",
       "      <th>Gross Collection</th>\n",
       "      <th>Sub GGGrade</th>\n",
       "      <th>File Status</th>\n",
       "      <th>State</th>\n",
       "      <th>Account Open</th>\n",
       "      <th>Total Unpaid CL</th>\n",
       "      <th>Duration</th>\n",
       "      <th>Unpaid Amount</th>\n",
       "      <th>Reason</th>\n",
       "      <th>Claim Type</th>\n",
       "      <th>Due Fee</th>\n",
       "      <th>Loan/No Loan</th>\n",
       "    </tr>\n",
       "  </thead>\n",
       "  <tbody>\n",
       "    <tr>\n",
       "      <th>0</th>\n",
       "      <td>421802</td>\n",
       "      <td>2</td>\n",
       "      <td>11</td>\n",
       "      <td>1</td>\n",
       "      <td>266640.00</td>\n",
       "      <td>0</td>\n",
       "      <td>0</td>\n",
       "      <td>0</td>\n",
       "      <td>12862</td>\n",
       "      <td>12.5496</td>\n",
       "      <td>42023.25</td>\n",
       "      <td>0</td>\n",
       "      <td>15.39</td>\n",
       "      <td>88.924</td>\n",
       "      <td>3</td>\n",
       "      <td>607161.90</td>\n",
       "      <td>0.0</td>\n",
       "      <td>19.0</td>\n",
       "      <td>0</td>\n",
       "      <td>6</td>\n",
       "      <td>17.0</td>\n",
       "      <td>58598.0</td>\n",
       "      <td>3.0</td>\n",
       "      <td>31216.05</td>\n",
       "      <td>2</td>\n",
       "      <td>0</td>\n",
       "      <td>0.0</td>\n",
       "      <td>0</td>\n",
       "    </tr>\n",
       "    <tr>\n",
       "      <th>1</th>\n",
       "      <td>3964312</td>\n",
       "      <td>4</td>\n",
       "      <td>7</td>\n",
       "      <td>1</td>\n",
       "      <td>85483.20</td>\n",
       "      <td>1</td>\n",
       "      <td>0</td>\n",
       "      <td>0</td>\n",
       "      <td>4177</td>\n",
       "      <td>9.0048</td>\n",
       "      <td>38133.00</td>\n",
       "      <td>0</td>\n",
       "      <td>9.94</td>\n",
       "      <td>102.856</td>\n",
       "      <td>0</td>\n",
       "      <td>269234.06</td>\n",
       "      <td>0.0</td>\n",
       "      <td>30.0</td>\n",
       "      <td>1</td>\n",
       "      <td>25</td>\n",
       "      <td>15.0</td>\n",
       "      <td>18924.0</td>\n",
       "      <td>3.0</td>\n",
       "      <td>11660.49</td>\n",
       "      <td>2</td>\n",
       "      <td>0</td>\n",
       "      <td>0.0</td>\n",
       "      <td>0</td>\n",
       "    </tr>\n",
       "    <tr>\n",
       "      <th>2</th>\n",
       "      <td>4247560</td>\n",
       "      <td>3</td>\n",
       "      <td>0</td>\n",
       "      <td>1</td>\n",
       "      <td>79200.00</td>\n",
       "      <td>1</td>\n",
       "      <td>0</td>\n",
       "      <td>0</td>\n",
       "      <td>36009</td>\n",
       "      <td>24.9144</td>\n",
       "      <td>17100.00</td>\n",
       "      <td>0</td>\n",
       "      <td>22.35</td>\n",
       "      <td>60.372</td>\n",
       "      <td>0</td>\n",
       "      <td>22476.53</td>\n",
       "      <td>0.0</td>\n",
       "      <td>25.0</td>\n",
       "      <td>1</td>\n",
       "      <td>9</td>\n",
       "      <td>7.0</td>\n",
       "      <td>15604.0</td>\n",
       "      <td>3.0</td>\n",
       "      <td>5637.87</td>\n",
       "      <td>5</td>\n",
       "      <td>0</td>\n",
       "      <td>0.0</td>\n",
       "      <td>0</td>\n",
       "    </tr>\n",
       "    <tr>\n",
       "      <th>3</th>\n",
       "      <td>197179</td>\n",
       "      <td>3</td>\n",
       "      <td>0</td>\n",
       "      <td>1</td>\n",
       "      <td>61600.00</td>\n",
       "      <td>1</td>\n",
       "      <td>0</td>\n",
       "      <td>0</td>\n",
       "      <td>2918</td>\n",
       "      <td>16.5816</td>\n",
       "      <td>5130.00</td>\n",
       "      <td>0</td>\n",
       "      <td>10.36</td>\n",
       "      <td>116.272</td>\n",
       "      <td>1</td>\n",
       "      <td>15242.09</td>\n",
       "      <td>0.0</td>\n",
       "      <td>22.0</td>\n",
       "      <td>0</td>\n",
       "      <td>31</td>\n",
       "      <td>9.0</td>\n",
       "      <td>22410.0</td>\n",
       "      <td>3.0</td>\n",
       "      <td>15607.17</td>\n",
       "      <td>5</td>\n",
       "      <td>0</td>\n",
       "      <td>0.0</td>\n",
       "      <td>1</td>\n",
       "    </tr>\n",
       "    <tr>\n",
       "      <th>4</th>\n",
       "      <td>4646684</td>\n",
       "      <td>5</td>\n",
       "      <td>2</td>\n",
       "      <td>1</td>\n",
       "      <td>68053.92</td>\n",
       "      <td>1</td>\n",
       "      <td>0</td>\n",
       "      <td>0</td>\n",
       "      <td>16887</td>\n",
       "      <td>40.0512</td>\n",
       "      <td>19665.00</td>\n",
       "      <td>0</td>\n",
       "      <td>13.68</td>\n",
       "      <td>127.280</td>\n",
       "      <td>1</td>\n",
       "      <td>65433.94</td>\n",
       "      <td>0.0</td>\n",
       "      <td>32.0</td>\n",
       "      <td>0</td>\n",
       "      <td>16</td>\n",
       "      <td>10.0</td>\n",
       "      <td>36022.0</td>\n",
       "      <td>3.0</td>\n",
       "      <td>27472.86</td>\n",
       "      <td>2</td>\n",
       "      <td>0</td>\n",
       "      <td>0.0</td>\n",
       "      <td>0</td>\n",
       "    </tr>\n",
       "  </tbody>\n",
       "</table>\n",
       "</div>"
      ],
      "text/plain": [
       "   Asst_Reg  GGGrade  Experience  Validation  Yearly Income  Home Status  \\\n",
       "0    421802        2          11           1      266640.00            0   \n",
       "1   3964312        4           7           1       85483.20            1   \n",
       "2   4247560        3           0           1       79200.00            1   \n",
       "3    197179        3           0           1       61600.00            1   \n",
       "4   4646684        5           2           1       68053.92            1   \n",
       "\n",
       "   Unpaid 2 years  Already Defaulted  Designation  Debt to Income  \\\n",
       "0               0                  0        12862         12.5496   \n",
       "1               0                  0         4177          9.0048   \n",
       "2               0                  0        36009         24.9144   \n",
       "3               0                  0         2918         16.5816   \n",
       "4               0                  0        16887         40.0512   \n",
       "\n",
       "   Lend Amount  Deprecatory Records  Interest Charged  Usage Rate  Inquiries  \\\n",
       "0     42023.25                    0             15.39      88.924          3   \n",
       "1     38133.00                    0              9.94     102.856          0   \n",
       "2     17100.00                    0             22.35      60.372          0   \n",
       "3      5130.00                    0             10.36     116.272          1   \n",
       "4     19665.00                    0             13.68     127.280          1   \n",
       "\n",
       "   Present Balance  Gross Collection  Sub GGGrade  File Status  State  \\\n",
       "0        607161.90               0.0         19.0            0      6   \n",
       "1        269234.06               0.0         30.0            1     25   \n",
       "2         22476.53               0.0         25.0            1      9   \n",
       "3         15242.09               0.0         22.0            0     31   \n",
       "4         65433.94               0.0         32.0            0     16   \n",
       "\n",
       "   Account Open  Total Unpaid CL  Duration  Unpaid Amount  Reason  Claim Type  \\\n",
       "0          17.0          58598.0       3.0       31216.05       2           0   \n",
       "1          15.0          18924.0       3.0       11660.49       2           0   \n",
       "2           7.0          15604.0       3.0        5637.87       5           0   \n",
       "3           9.0          22410.0       3.0       15607.17       5           0   \n",
       "4          10.0          36022.0       3.0       27472.86       2           0   \n",
       "\n",
       "   Due Fee  Loan/No Loan  \n",
       "0      0.0             0  \n",
       "1      0.0             0  \n",
       "2      0.0             0  \n",
       "3      0.0             1  \n",
       "4      0.0             0  "
      ]
     },
     "execution_count": 26,
     "metadata": {},
     "output_type": "execute_result"
    }
   ],
   "source": [
    "df_train.head()"
   ]
  },
  {
   "cell_type": "code",
   "execution_count": 27,
   "metadata": {},
   "outputs": [],
   "source": [
    "df_test = pd.read_csv('Data_Test.csv')"
   ]
  },
  {
   "cell_type": "code",
   "execution_count": 28,
   "metadata": {},
   "outputs": [
    {
     "data": {
      "text/html": [
       "<div>\n",
       "<style scoped>\n",
       "    .dataframe tbody tr th:only-of-type {\n",
       "        vertical-align: middle;\n",
       "    }\n",
       "\n",
       "    .dataframe tbody tr th {\n",
       "        vertical-align: top;\n",
       "    }\n",
       "\n",
       "    .dataframe thead th {\n",
       "        text-align: right;\n",
       "    }\n",
       "</style>\n",
       "<table border=\"1\" class=\"dataframe\">\n",
       "  <thead>\n",
       "    <tr style=\"text-align: right;\">\n",
       "      <th></th>\n",
       "      <th>ID</th>\n",
       "      <th>Asst_Reg</th>\n",
       "      <th>GGGrade</th>\n",
       "      <th>Experience</th>\n",
       "      <th>Validation</th>\n",
       "      <th>Yearly Income</th>\n",
       "      <th>Home Status</th>\n",
       "      <th>Unpaid 2 years</th>\n",
       "      <th>Already Defaulted</th>\n",
       "      <th>Designation</th>\n",
       "      <th>Debt to Income</th>\n",
       "      <th>Postal Code</th>\n",
       "      <th>Lend Amount</th>\n",
       "      <th>Deprecatory Records</th>\n",
       "      <th>Interest Charged</th>\n",
       "      <th>Usage Rate</th>\n",
       "      <th>Inquiries</th>\n",
       "      <th>Present Balance</th>\n",
       "      <th>Gross Collection</th>\n",
       "      <th>Sub GGGrade</th>\n",
       "      <th>File Status</th>\n",
       "      <th>State</th>\n",
       "      <th>Account Open</th>\n",
       "      <th>Total Unpaid CL</th>\n",
       "      <th>Duration</th>\n",
       "      <th>Unpaid Amount</th>\n",
       "      <th>Reason</th>\n",
       "      <th>Claim Type</th>\n",
       "      <th>Due Fee</th>\n",
       "    </tr>\n",
       "  </thead>\n",
       "  <tbody>\n",
       "    <tr>\n",
       "      <th>0</th>\n",
       "      <td>198980</td>\n",
       "      <td>1773284</td>\n",
       "      <td>II</td>\n",
       "      <td>2yrs</td>\n",
       "      <td>Source Verified</td>\n",
       "      <td>140800.00</td>\n",
       "      <td>OWN</td>\n",
       "      <td>0</td>\n",
       "      <td>0</td>\n",
       "      <td>processor</td>\n",
       "      <td>16.9176</td>\n",
       "      <td>90600.0</td>\n",
       "      <td>17955.00</td>\n",
       "      <td>0</td>\n",
       "      <td>8.88</td>\n",
       "      <td>78.432</td>\n",
       "      <td>1</td>\n",
       "      <td>59769.30</td>\n",
       "      <td>0.0</td>\n",
       "      <td>17</td>\n",
       "      <td>fully paid</td>\n",
       "      <td>California</td>\n",
       "      <td>23</td>\n",
       "      <td>33532.0</td>\n",
       "      <td>3 years</td>\n",
       "      <td>15755.94</td>\n",
       "      <td>major  purchase</td>\n",
       "      <td>I</td>\n",
       "      <td>0.0</td>\n",
       "    </tr>\n",
       "    <tr>\n",
       "      <th>1</th>\n",
       "      <td>167688</td>\n",
       "      <td>5298273</td>\n",
       "      <td>II</td>\n",
       "      <td>&gt;10yrs</td>\n",
       "      <td>Vfied</td>\n",
       "      <td>146080.00</td>\n",
       "      <td>MOR??AGE</td>\n",
       "      <td>0</td>\n",
       "      <td>0</td>\n",
       "      <td>Speech Language Pathologist</td>\n",
       "      <td>28.6944</td>\n",
       "      <td>32300.0</td>\n",
       "      <td>59850.00</td>\n",
       "      <td>0</td>\n",
       "      <td>10.10</td>\n",
       "      <td>76.368</td>\n",
       "      <td>1</td>\n",
       "      <td>532962.13</td>\n",
       "      <td>0.0</td>\n",
       "      <td>19</td>\n",
       "      <td>whole</td>\n",
       "      <td>Florida</td>\n",
       "      <td>17</td>\n",
       "      <td>149234.0</td>\n",
       "      <td>5 years</td>\n",
       "      <td>68237.55</td>\n",
       "      <td>debt  consolidation</td>\n",
       "      <td>I</td>\n",
       "      <td>0.0</td>\n",
       "    </tr>\n",
       "    <tr>\n",
       "      <th>2</th>\n",
       "      <td>198768</td>\n",
       "      <td>189781</td>\n",
       "      <td>VI</td>\n",
       "      <td>&gt;10yrs</td>\n",
       "      <td>Vfied</td>\n",
       "      <td>202222.24</td>\n",
       "      <td>MOR??AGE</td>\n",
       "      <td>0</td>\n",
       "      <td>0</td>\n",
       "      <td>Raytheon</td>\n",
       "      <td>51.1560</td>\n",
       "      <td>88000.0</td>\n",
       "      <td>59850.00</td>\n",
       "      <td>0</td>\n",
       "      <td>19.30</td>\n",
       "      <td>157.552</td>\n",
       "      <td>2</td>\n",
       "      <td>288816.48</td>\n",
       "      <td>0.0</td>\n",
       "      <td>37</td>\n",
       "      <td>whole</td>\n",
       "      <td>NM</td>\n",
       "      <td>15</td>\n",
       "      <td>70218.0</td>\n",
       "      <td>5 years</td>\n",
       "      <td>66272.76</td>\n",
       "      <td>debt  consolidation</td>\n",
       "      <td>I</td>\n",
       "      <td>0.0</td>\n",
       "    </tr>\n",
       "    <tr>\n",
       "      <th>3</th>\n",
       "      <td>192564</td>\n",
       "      <td>1530906</td>\n",
       "      <td>II</td>\n",
       "      <td>&gt;10yrs</td>\n",
       "      <td>Vfied</td>\n",
       "      <td>105600.00</td>\n",
       "      <td>MOR??AGE</td>\n",
       "      <td>1</td>\n",
       "      <td>0</td>\n",
       "      <td>Computer/Network Technician</td>\n",
       "      <td>27.0144</td>\n",
       "      <td>19900.0</td>\n",
       "      <td>19323.00</td>\n",
       "      <td>0</td>\n",
       "      <td>8.82</td>\n",
       "      <td>32.852</td>\n",
       "      <td>2</td>\n",
       "      <td>424664.30</td>\n",
       "      <td>0.0</td>\n",
       "      <td>19</td>\n",
       "      <td>fully paid</td>\n",
       "      <td>DE</td>\n",
       "      <td>18</td>\n",
       "      <td>79182.0</td>\n",
       "      <td>3 years</td>\n",
       "      <td>15595.20</td>\n",
       "      <td>credit  card</td>\n",
       "      <td>I</td>\n",
       "      <td>0.0</td>\n",
       "    </tr>\n",
       "    <tr>\n",
       "      <th>4</th>\n",
       "      <td>151199</td>\n",
       "      <td>4410316</td>\n",
       "      <td>III</td>\n",
       "      <td>4yrs</td>\n",
       "      <td>Not Vfied</td>\n",
       "      <td>151360.00</td>\n",
       "      <td>MOR??AGE</td>\n",
       "      <td>0</td>\n",
       "      <td>0</td>\n",
       "      <td>NDE Tech</td>\n",
       "      <td>10.3824</td>\n",
       "      <td>34900.0</td>\n",
       "      <td>25350.75</td>\n",
       "      <td>1</td>\n",
       "      <td>13.52</td>\n",
       "      <td>108.532</td>\n",
       "      <td>1</td>\n",
       "      <td>251704.07</td>\n",
       "      <td>0.0</td>\n",
       "      <td>25</td>\n",
       "      <td>fully paid</td>\n",
       "      <td>Florida</td>\n",
       "      <td>7</td>\n",
       "      <td>13612.0</td>\n",
       "      <td>3 years</td>\n",
       "      <td>8850.96</td>\n",
       "      <td>debt  consolidation</td>\n",
       "      <td>I</td>\n",
       "      <td>0.0</td>\n",
       "    </tr>\n",
       "  </tbody>\n",
       "</table>\n",
       "</div>"
      ],
      "text/plain": [
       "       ID  Asst_Reg GGGrade Experience       Validation  Yearly Income  \\\n",
       "0  198980   1773284      II       2yrs  Source Verified      140800.00   \n",
       "1  167688   5298273      II     >10yrs            Vfied      146080.00   \n",
       "2  198768    189781      VI     >10yrs            Vfied      202222.24   \n",
       "3  192564   1530906      II     >10yrs            Vfied      105600.00   \n",
       "4  151199   4410316     III       4yrs        Not Vfied      151360.00   \n",
       "\n",
       "  Home Status  Unpaid 2 years  Already Defaulted                  Designation  \\\n",
       "0         OWN               0                  0                    processor   \n",
       "1    MOR??AGE               0                  0  Speech Language Pathologist   \n",
       "2    MOR??AGE               0                  0                     Raytheon   \n",
       "3    MOR??AGE               1                  0  Computer/Network Technician   \n",
       "4    MOR??AGE               0                  0                     NDE Tech   \n",
       "\n",
       "   Debt to Income  Postal Code  Lend Amount  Deprecatory Records  \\\n",
       "0         16.9176      90600.0     17955.00                    0   \n",
       "1         28.6944      32300.0     59850.00                    0   \n",
       "2         51.1560      88000.0     59850.00                    0   \n",
       "3         27.0144      19900.0     19323.00                    0   \n",
       "4         10.3824      34900.0     25350.75                    1   \n",
       "\n",
       "   Interest Charged  Usage Rate  Inquiries  Present Balance  Gross Collection  \\\n",
       "0              8.88      78.432          1         59769.30               0.0   \n",
       "1             10.10      76.368          1        532962.13               0.0   \n",
       "2             19.30     157.552          2        288816.48               0.0   \n",
       "3              8.82      32.852          2        424664.30               0.0   \n",
       "4             13.52     108.532          1        251704.07               0.0   \n",
       "\n",
       "   Sub GGGrade File Status       State  Account Open  Total Unpaid CL  \\\n",
       "0           17  fully paid  California            23          33532.0   \n",
       "1           19       whole     Florida            17         149234.0   \n",
       "2           37       whole          NM            15          70218.0   \n",
       "3           19  fully paid          DE            18          79182.0   \n",
       "4           25  fully paid     Florida             7          13612.0   \n",
       "\n",
       "  Duration  Unpaid Amount               Reason Claim Type  Due Fee  \n",
       "0  3 years       15755.94      major  purchase          I      0.0  \n",
       "1  5 years       68237.55  debt  consolidation          I      0.0  \n",
       "2  5 years       66272.76  debt  consolidation          I      0.0  \n",
       "3  3 years       15595.20         credit  card          I      0.0  \n",
       "4  3 years        8850.96  debt  consolidation          I      0.0  "
      ]
     },
     "execution_count": 28,
     "metadata": {},
     "output_type": "execute_result"
    }
   ],
   "source": [
    "df_test.head()"
   ]
  },
  {
   "cell_type": "code",
   "execution_count": 29,
   "metadata": {},
   "outputs": [
    {
     "data": {
      "text/plain": [
       "(37500, 29)"
      ]
     },
     "execution_count": 29,
     "metadata": {},
     "output_type": "execute_result"
    }
   ],
   "source": [
    "df_test.shape"
   ]
  },
  {
   "cell_type": "code",
   "execution_count": 30,
   "metadata": {},
   "outputs": [
    {
     "name": "stdout",
     "output_type": "stream",
     "text": [
      "<class 'pandas.core.frame.DataFrame'>\n",
      "RangeIndex: 37500 entries, 0 to 37499\n",
      "Data columns (total 29 columns):\n",
      " #   Column               Non-Null Count  Dtype  \n",
      "---  ------               --------------  -----  \n",
      " 0   ID                   37500 non-null  int64  \n",
      " 1   Asst_Reg             37500 non-null  int64  \n",
      " 2   GGGrade              37500 non-null  object \n",
      " 3   Experience           37500 non-null  object \n",
      " 4   Validation           37500 non-null  object \n",
      " 5   Yearly Income        35075 non-null  float64\n",
      " 6   Home Status          37500 non-null  object \n",
      " 7   Unpaid 2 years       37500 non-null  int64  \n",
      " 8   Already Defaulted    37500 non-null  int64  \n",
      " 9   Designation          36914 non-null  object \n",
      " 10  Debt to Income       35989 non-null  float64\n",
      " 11  Postal Code          36889 non-null  float64\n",
      " 12  Lend Amount          37500 non-null  float64\n",
      " 13  Deprecatory Records  37500 non-null  int64  \n",
      " 14  Interest Charged     37500 non-null  float64\n",
      " 15  Usage Rate           37500 non-null  float64\n",
      " 16  Inquiries            37500 non-null  int64  \n",
      " 17  Present Balance      37500 non-null  float64\n",
      " 18  Gross Collection     37500 non-null  float64\n",
      " 19  Sub GGGrade          37500 non-null  int64  \n",
      " 20  File Status          37500 non-null  object \n",
      " 21  State                37500 non-null  object \n",
      " 22  Account Open         37500 non-null  int64  \n",
      " 23  Total Unpaid CL      35686 non-null  float64\n",
      " 24  Duration             37500 non-null  object \n",
      " 25  Unpaid Amount        35431 non-null  float64\n",
      " 26  Reason               37500 non-null  object \n",
      " 27  Claim Type           37500 non-null  object \n",
      " 28  Due Fee              37500 non-null  float64\n",
      "dtypes: float64(11), int64(8), object(10)\n",
      "memory usage: 8.3+ MB\n"
     ]
    }
   ],
   "source": [
    "df_test.info()"
   ]
  },
  {
   "cell_type": "code",
   "execution_count": 31,
   "metadata": {},
   "outputs": [
    {
     "name": "stdout",
     "output_type": "stream",
     "text": [
      "GGGrade\n",
      "['II' 'VI' 'III' 'V' 'IV' 'I' 'VII'] \n",
      "\n",
      "Experience\n",
      "['2yrs' '>10yrs' '4yrs' '9yrs' '1yrs' '<1yr' '3yrs' '5yrs' '8yrs' '7yrs'\n",
      " '6yrs'] \n",
      "\n",
      "Validation\n",
      "['Source Verified' 'Vfied' 'Not Vfied'] \n",
      "\n",
      "Home Status\n",
      "['OWN' 'MOR??AGE' 'REN?' 'NONE' 'OTHER'] \n",
      "\n",
      "Designation\n",
      "['processor' 'Speech Language Pathologist' 'Raytheon' ...\n",
      " 'Parade Performer' 'Sr. Chemistry Technician' 'ParaEducator'] \n",
      "\n",
      "File Status\n",
      "['fully paid' 'whole'] \n",
      "\n",
      "State\n",
      "['California' 'Florida' 'NM' 'DE' 'Newyork' 'IL' 'GA' 'NH' 'MO' 'PA' 'MI'\n",
      " 'IN' 'TX' 'NV' 'NC' 'KS' 'OR' 'CO' 'NewJersey' 'CT' 'Maryland' 'TN' 'WI'\n",
      " 'UT' 'Ohio' 'MN' 'AL' 'AZ' 'WA' 'MS' 'LA' 'HI' 'WV' 'OK' 'KY' 'VA' 'SD'\n",
      " 'MA' 'NE' 'RI' 'SC' 'AK' 'AR' 'MT' 'DC' 'VT' 'WY' 'ND' 'ME'] \n",
      "\n",
      "Duration\n",
      "['3 years' '5 years'] \n",
      "\n",
      "Reason\n",
      "['major  purchase' 'debt  consolidation' 'credit  card' 'other'\n",
      " 'home  improvement' 'house' 'medical' 'small  business' 'vacation'\n",
      " 'moving' 'car' 'wedding' 'renewable  energy'] \n",
      "\n",
      "Claim Type\n",
      "['I' 'J'] \n",
      "\n"
     ]
    }
   ],
   "source": [
    "for i in df_test.columns:\n",
    "    if df_test[i].dtype == 'object':\n",
    "        print(i)\n",
    "        print(df_test[i].unique(),'\\n')"
   ]
  },
  {
   "cell_type": "code",
   "execution_count": 32,
   "metadata": {},
   "outputs": [],
   "source": [
    "df_test['GGGrade'] = df_test['GGGrade'].map({'I':1,'II':2,'III':3,'IV':4,'V':5,'VI':6,'VII':7})\n",
    "df_test['Experience'] = df_test['Experience'].map({'<1yr': 0,'1yrs': 1,'2yrs': 2,'3yrs': 3, '4yrs': 4, '5yrs': 5, '6yrs': 6,\n",
    "                                                    '7yrs': 7, '8yrs': 8, '9yrs': 9,'>10yrs': 11})\n",
    "df_test['Validation'] = df_test['Validation'].map({'Vfied':'Verified','Not Vfied': 'Not Verified'})\n",
    "df_test['Home Status'] = df_test['Home Status'].map({'MOR??AGE': 'MORGAGE','REN?': 'RENT'})\n",
    "df_test['Duration'] = df_test['Duration'].map({'3 years' : 3,' 5 years': 5})"
   ]
  },
  {
   "cell_type": "code",
   "execution_count": 33,
   "metadata": {},
   "outputs": [
    {
     "data": {
      "text/plain": [
       "ID                       int64\n",
       "Asst_Reg                 int64\n",
       "GGGrade                  int64\n",
       "Experience               int64\n",
       "Validation              object\n",
       "Yearly Income          float64\n",
       "Home Status             object\n",
       "Unpaid 2 years           int64\n",
       "Already Defaulted        int64\n",
       "Designation             object\n",
       "Debt to Income         float64\n",
       "Postal Code            float64\n",
       "Lend Amount            float64\n",
       "Deprecatory Records      int64\n",
       "Interest Charged       float64\n",
       "Usage Rate             float64\n",
       "Inquiries                int64\n",
       "Present Balance        float64\n",
       "Gross Collection       float64\n",
       "Sub GGGrade              int64\n",
       "File Status             object\n",
       "State                   object\n",
       "Account Open             int64\n",
       "Total Unpaid CL        float64\n",
       "Duration               float64\n",
       "Unpaid Amount          float64\n",
       "Reason                  object\n",
       "Claim Type              object\n",
       "Due Fee                float64\n",
       "dtype: object"
      ]
     },
     "execution_count": 33,
     "metadata": {},
     "output_type": "execute_result"
    }
   ],
   "source": [
    "df_test.dtypes"
   ]
  },
  {
   "cell_type": "code",
   "execution_count": 34,
   "metadata": {},
   "outputs": [
    {
     "data": {
      "text/plain": [
       "ID                         0\n",
       "Asst_Reg                   0\n",
       "GGGrade                    0\n",
       "Experience                 0\n",
       "Validation             14646\n",
       "Yearly Income           2425\n",
       "Home Status             3596\n",
       "Unpaid 2 years             0\n",
       "Already Defaulted          0\n",
       "Designation              586\n",
       "Debt to Income          1511\n",
       "Postal Code              611\n",
       "Lend Amount                0\n",
       "Deprecatory Records        0\n",
       "Interest Charged           0\n",
       "Usage Rate                 0\n",
       "Inquiries                  0\n",
       "Present Balance            0\n",
       "Gross Collection           0\n",
       "Sub GGGrade                0\n",
       "File Status                0\n",
       "State                      0\n",
       "Account Open               0\n",
       "Total Unpaid CL         1814\n",
       "Duration               11691\n",
       "Unpaid Amount           2069\n",
       "Reason                     0\n",
       "Claim Type                 0\n",
       "Due Fee                    0\n",
       "dtype: int64"
      ]
     },
     "execution_count": 34,
     "metadata": {},
     "output_type": "execute_result"
    }
   ],
   "source": [
    "df_test.isnull().sum()"
   ]
  },
  {
   "cell_type": "code",
   "execution_count": 35,
   "metadata": {},
   "outputs": [],
   "source": [
    "df_test['Designation'] = df_test['Designation'].replace(np.NaN, df_test['Designation'].mode()[0])\n",
    "df_test['Validation'] = df_test['Validation'].replace(np.NaN,df_test['Validation'].mode()[0])\n",
    "df_test['Home Status'] = df_test['Home Status'].replace(np.NaN,df_test['Home Status'].mode()[0])\n",
    "df_test['Duration'] = df_test['Duration'].replace(np.NaN, df_test['Duration'].mode()[0])\n",
    "df_test['Postal Code'] = df_test['Postal Code'].replace(np.NaN, df_test['Postal Code'].mode()[0])"
   ]
  },
  {
   "cell_type": "code",
   "execution_count": 36,
   "metadata": {},
   "outputs": [
    {
     "data": {
      "text/html": [
       "<div>\n",
       "<style scoped>\n",
       "    .dataframe tbody tr th:only-of-type {\n",
       "        vertical-align: middle;\n",
       "    }\n",
       "\n",
       "    .dataframe tbody tr th {\n",
       "        vertical-align: top;\n",
       "    }\n",
       "\n",
       "    .dataframe thead th {\n",
       "        text-align: right;\n",
       "    }\n",
       "</style>\n",
       "<table border=\"1\" class=\"dataframe\">\n",
       "  <thead>\n",
       "    <tr style=\"text-align: right;\">\n",
       "      <th></th>\n",
       "      <th>ID</th>\n",
       "      <th>Asst_Reg</th>\n",
       "      <th>GGGrade</th>\n",
       "      <th>Experience</th>\n",
       "      <th>Yearly Income</th>\n",
       "      <th>Unpaid 2 years</th>\n",
       "      <th>Already Defaulted</th>\n",
       "      <th>Debt to Income</th>\n",
       "      <th>Postal Code</th>\n",
       "      <th>Lend Amount</th>\n",
       "      <th>Deprecatory Records</th>\n",
       "      <th>Interest Charged</th>\n",
       "      <th>Usage Rate</th>\n",
       "      <th>Inquiries</th>\n",
       "      <th>Present Balance</th>\n",
       "      <th>Gross Collection</th>\n",
       "      <th>Sub GGGrade</th>\n",
       "      <th>Account Open</th>\n",
       "      <th>Total Unpaid CL</th>\n",
       "      <th>Duration</th>\n",
       "      <th>Unpaid Amount</th>\n",
       "      <th>Due Fee</th>\n",
       "    </tr>\n",
       "  </thead>\n",
       "  <tbody>\n",
       "    <tr>\n",
       "      <th>count</th>\n",
       "      <td>37500.000000</td>\n",
       "      <td>3.750000e+04</td>\n",
       "      <td>37500.000000</td>\n",
       "      <td>37500.000000</td>\n",
       "      <td>3.507500e+04</td>\n",
       "      <td>37500.000000</td>\n",
       "      <td>37500.000000</td>\n",
       "      <td>35989.00000</td>\n",
       "      <td>37500.000000</td>\n",
       "      <td>37500.000000</td>\n",
       "      <td>37500.000000</td>\n",
       "      <td>37500.000000</td>\n",
       "      <td>37500.000000</td>\n",
       "      <td>37500.000000</td>\n",
       "      <td>3.750000e+04</td>\n",
       "      <td>37500.000000</td>\n",
       "      <td>37500.000000</td>\n",
       "      <td>37500.000000</td>\n",
       "      <td>3.568600e+04</td>\n",
       "      <td>37500.0</td>\n",
       "      <td>3.543100e+04</td>\n",
       "      <td>37500.000000</td>\n",
       "    </tr>\n",
       "    <tr>\n",
       "      <th>mean</th>\n",
       "      <td>184143.867973</td>\n",
       "      <td>3.804858e+06</td>\n",
       "      <td>2.815200</td>\n",
       "      <td>6.432213</td>\n",
       "      <td>1.340308e+05</td>\n",
       "      <td>0.336427</td>\n",
       "      <td>0.005307</td>\n",
       "      <td>30.91903</td>\n",
       "      <td>51621.173333</td>\n",
       "      <td>25828.004160</td>\n",
       "      <td>0.200080</td>\n",
       "      <td>16.511014</td>\n",
       "      <td>95.259109</td>\n",
       "      <td>0.676640</td>\n",
       "      <td>2.353528e+05</td>\n",
       "      <td>39.484071</td>\n",
       "      <td>22.031467</td>\n",
       "      <td>12.777787</td>\n",
       "      <td>5.344820e+04</td>\n",
       "      <td>3.0</td>\n",
       "      <td>2.928066e+04</td>\n",
       "      <td>0.309792</td>\n",
       "    </tr>\n",
       "    <tr>\n",
       "      <th>std</th>\n",
       "      <td>21683.224387</td>\n",
       "      <td>2.284115e+06</td>\n",
       "      <td>1.310359</td>\n",
       "      <td>4.046744</td>\n",
       "      <td>1.000845e+05</td>\n",
       "      <td>0.887640</td>\n",
       "      <td>0.077966</td>\n",
       "      <td>13.87167</td>\n",
       "      <td>31140.490563</td>\n",
       "      <td>14402.061788</td>\n",
       "      <td>0.563137</td>\n",
       "      <td>4.912595</td>\n",
       "      <td>40.493219</td>\n",
       "      <td>0.964515</td>\n",
       "      <td>2.543097e+05</td>\n",
       "      <td>364.114581</td>\n",
       "      <td>6.481257</td>\n",
       "      <td>5.360527</td>\n",
       "      <td>5.215483e+04</td>\n",
       "      <td>0.0</td>\n",
       "      <td>3.560849e+04</td>\n",
       "      <td>3.396315</td>\n",
       "    </tr>\n",
       "    <tr>\n",
       "      <th>min</th>\n",
       "      <td>146560.000000</td>\n",
       "      <td>3.752200e+04</td>\n",
       "      <td>1.000000</td>\n",
       "      <td>0.000000</td>\n",
       "      <td>8.800000e+03</td>\n",
       "      <td>0.000000</td>\n",
       "      <td>0.000000</td>\n",
       "      <td>0.00000</td>\n",
       "      <td>1000.000000</td>\n",
       "      <td>1710.000000</td>\n",
       "      <td>0.000000</td>\n",
       "      <td>8.000000</td>\n",
       "      <td>0.000000</td>\n",
       "      <td>0.000000</td>\n",
       "      <td>0.000000e+00</td>\n",
       "      <td>0.000000</td>\n",
       "      <td>11.000000</td>\n",
       "      <td>2.000000</td>\n",
       "      <td>3.320000e+02</td>\n",
       "      <td>3.0</td>\n",
       "      <td>0.000000e+00</td>\n",
       "      <td>0.000000</td>\n",
       "    </tr>\n",
       "    <tr>\n",
       "      <th>25%</th>\n",
       "      <td>165341.250000</td>\n",
       "      <td>1.495828e+06</td>\n",
       "      <td>2.000000</td>\n",
       "      <td>3.000000</td>\n",
       "      <td>8.419400e+04</td>\n",
       "      <td>0.000000</td>\n",
       "      <td>0.000000</td>\n",
       "      <td>20.47920</td>\n",
       "      <td>23300.000000</td>\n",
       "      <td>14919.750000</td>\n",
       "      <td>0.000000</td>\n",
       "      <td>12.250000</td>\n",
       "      <td>65.532000</td>\n",
       "      <td>0.000000</td>\n",
       "      <td>5.129572e+04</td>\n",
       "      <td>0.000000</td>\n",
       "      <td>17.000000</td>\n",
       "      <td>9.000000</td>\n",
       "      <td>2.324000e+04</td>\n",
       "      <td>3.0</td>\n",
       "      <td>1.141425e+04</td>\n",
       "      <td>0.000000</td>\n",
       "    </tr>\n",
       "    <tr>\n",
       "      <th>50%</th>\n",
       "      <td>184257.000000</td>\n",
       "      <td>4.134010e+06</td>\n",
       "      <td>3.000000</td>\n",
       "      <td>7.000000</td>\n",
       "      <td>1.144000e+05</td>\n",
       "      <td>0.000000</td>\n",
       "      <td>0.000000</td>\n",
       "      <td>30.18960</td>\n",
       "      <td>48100.000000</td>\n",
       "      <td>23811.750000</td>\n",
       "      <td>0.000000</td>\n",
       "      <td>16.515000</td>\n",
       "      <td>96.492000</td>\n",
       "      <td>0.000000</td>\n",
       "      <td>1.383795e+05</td>\n",
       "      <td>0.000000</td>\n",
       "      <td>21.000000</td>\n",
       "      <td>12.000000</td>\n",
       "      <td>3.950800e+04</td>\n",
       "      <td>3.0</td>\n",
       "      <td>2.068074e+04</td>\n",
       "      <td>0.000000</td>\n",
       "    </tr>\n",
       "    <tr>\n",
       "      <th>75%</th>\n",
       "      <td>202869.250000</td>\n",
       "      <td>5.934898e+06</td>\n",
       "      <td>4.000000</td>\n",
       "      <td>11.000000</td>\n",
       "      <td>1.584000e+05</td>\n",
       "      <td>0.000000</td>\n",
       "      <td>0.000000</td>\n",
       "      <td>40.72320</td>\n",
       "      <td>80100.000000</td>\n",
       "      <td>34200.000000</td>\n",
       "      <td>0.000000</td>\n",
       "      <td>20.770000</td>\n",
       "      <td>126.764000</td>\n",
       "      <td>1.000000</td>\n",
       "      <td>3.514983e+05</td>\n",
       "      <td>0.000000</td>\n",
       "      <td>26.000000</td>\n",
       "      <td>15.000000</td>\n",
       "      <td>6.640000e+04</td>\n",
       "      <td>3.0</td>\n",
       "      <td>3.618446e+04</td>\n",
       "      <td>0.000000</td>\n",
       "    </tr>\n",
       "    <tr>\n",
       "      <th>max</th>\n",
       "      <td>221557.000000</td>\n",
       "      <td>7.351969e+06</td>\n",
       "      <td>7.000000</td>\n",
       "      <td>11.000000</td>\n",
       "      <td>8.800000e+06</td>\n",
       "      <td>18.000000</td>\n",
       "      <td>3.000000</td>\n",
       "      <td>116.50800</td>\n",
       "      <td>99900.000000</td>\n",
       "      <td>59850.000000</td>\n",
       "      <td>21.000000</td>\n",
       "      <td>25.000000</td>\n",
       "      <td>254.560000</td>\n",
       "      <td>6.000000</td>\n",
       "      <td>4.909890e+06</td>\n",
       "      <td>13900.000000</td>\n",
       "      <td>45.000000</td>\n",
       "      <td>60.000000</td>\n",
       "      <td>1.475408e+06</td>\n",
       "      <td>3.0</td>\n",
       "      <td>1.535830e+06</td>\n",
       "      <td>131.490000</td>\n",
       "    </tr>\n",
       "  </tbody>\n",
       "</table>\n",
       "</div>"
      ],
      "text/plain": [
       "                  ID      Asst_Reg       GGGrade    Experience  Yearly Income  \\\n",
       "count   37500.000000  3.750000e+04  37500.000000  37500.000000   3.507500e+04   \n",
       "mean   184143.867973  3.804858e+06      2.815200      6.432213   1.340308e+05   \n",
       "std     21683.224387  2.284115e+06      1.310359      4.046744   1.000845e+05   \n",
       "min    146560.000000  3.752200e+04      1.000000      0.000000   8.800000e+03   \n",
       "25%    165341.250000  1.495828e+06      2.000000      3.000000   8.419400e+04   \n",
       "50%    184257.000000  4.134010e+06      3.000000      7.000000   1.144000e+05   \n",
       "75%    202869.250000  5.934898e+06      4.000000     11.000000   1.584000e+05   \n",
       "max    221557.000000  7.351969e+06      7.000000     11.000000   8.800000e+06   \n",
       "\n",
       "       Unpaid 2 years  Already Defaulted  Debt to Income   Postal Code  \\\n",
       "count    37500.000000       37500.000000     35989.00000  37500.000000   \n",
       "mean         0.336427           0.005307        30.91903  51621.173333   \n",
       "std          0.887640           0.077966        13.87167  31140.490563   \n",
       "min          0.000000           0.000000         0.00000   1000.000000   \n",
       "25%          0.000000           0.000000        20.47920  23300.000000   \n",
       "50%          0.000000           0.000000        30.18960  48100.000000   \n",
       "75%          0.000000           0.000000        40.72320  80100.000000   \n",
       "max         18.000000           3.000000       116.50800  99900.000000   \n",
       "\n",
       "        Lend Amount  Deprecatory Records  Interest Charged    Usage Rate  \\\n",
       "count  37500.000000         37500.000000      37500.000000  37500.000000   \n",
       "mean   25828.004160             0.200080         16.511014     95.259109   \n",
       "std    14402.061788             0.563137          4.912595     40.493219   \n",
       "min     1710.000000             0.000000          8.000000      0.000000   \n",
       "25%    14919.750000             0.000000         12.250000     65.532000   \n",
       "50%    23811.750000             0.000000         16.515000     96.492000   \n",
       "75%    34200.000000             0.000000         20.770000    126.764000   \n",
       "max    59850.000000            21.000000         25.000000    254.560000   \n",
       "\n",
       "          Inquiries  Present Balance  Gross Collection   Sub GGGrade  \\\n",
       "count  37500.000000     3.750000e+04      37500.000000  37500.000000   \n",
       "mean       0.676640     2.353528e+05         39.484071     22.031467   \n",
       "std        0.964515     2.543097e+05        364.114581      6.481257   \n",
       "min        0.000000     0.000000e+00          0.000000     11.000000   \n",
       "25%        0.000000     5.129572e+04          0.000000     17.000000   \n",
       "50%        0.000000     1.383795e+05          0.000000     21.000000   \n",
       "75%        1.000000     3.514983e+05          0.000000     26.000000   \n",
       "max        6.000000     4.909890e+06      13900.000000     45.000000   \n",
       "\n",
       "       Account Open  Total Unpaid CL  Duration  Unpaid Amount       Due Fee  \n",
       "count  37500.000000     3.568600e+04   37500.0   3.543100e+04  37500.000000  \n",
       "mean      12.777787     5.344820e+04       3.0   2.928066e+04      0.309792  \n",
       "std        5.360527     5.215483e+04       0.0   3.560849e+04      3.396315  \n",
       "min        2.000000     3.320000e+02       3.0   0.000000e+00      0.000000  \n",
       "25%        9.000000     2.324000e+04       3.0   1.141425e+04      0.000000  \n",
       "50%       12.000000     3.950800e+04       3.0   2.068074e+04      0.000000  \n",
       "75%       15.000000     6.640000e+04       3.0   3.618446e+04      0.000000  \n",
       "max       60.000000     1.475408e+06       3.0   1.535830e+06    131.490000  "
      ]
     },
     "execution_count": 36,
     "metadata": {},
     "output_type": "execute_result"
    }
   ],
   "source": [
    "df_test.describe()"
   ]
  },
  {
   "cell_type": "code",
   "execution_count": 37,
   "metadata": {},
   "outputs": [],
   "source": [
    "df_test['Yearly Income'] =  df_test['Yearly Income'].replace(np.NaN,df_test['Yearly Income'].median())\n",
    "df_test['Debt to Income'] = df_test['Debt to Income'].replace(np.NaN, df_test['Debt to Income'].mean())\n",
    "df_test['Total Unpaid CL'] = df_test['Total Unpaid CL'].replace(np.NaN,df_test['Total Unpaid CL'].median())\n",
    "df_test['Unpaid Amount'] = df_test['Unpaid Amount'].replace(np.NaN,df_test['Unpaid Amount'].median())"
   ]
  },
  {
   "cell_type": "code",
   "execution_count": 38,
   "metadata": {},
   "outputs": [
    {
     "name": "stderr",
     "output_type": "stream",
     "text": [
      "<ipython-input-38-2e4573a1cfef>:3: RuntimeWarning: More than 20 figures have been opened. Figures created through the pyplot interface (`matplotlib.pyplot.figure`) are retained until explicitly closed and may consume too much memory. (To control this warning, see the rcParam `figure.max_open_warning`).\n",
      "  plt.figure(figsize=(5,5))\n"
     ]
    },
    {
     "data": {
      "image/png": "[encoded data removed]",
      "text/plain": [
       "<Figure size 360x360 with 1 Axes>"
      ]
     },
     "metadata": {
      "needs_background": "light"
     },
     "output_type": "display_data"
    },
    {
     "data": {
      "image/png": "[encoded data removed]",
      "text/plain": [
       "<Figure size 360x360 with 1 Axes>"
      ]
     },
     "metadata": {
      "needs_background": "light"
     },
     "output_type": "display_data"
    },
    {
     "data": {
      "image/png": "[encoded data removed]",
      "text/plain": [
       "<Figure size 360x360 with 1 Axes>"
      ]
     },
     "metadata": {
      "needs_background": "light"
     },
     "output_type": "display_data"
    },
    {
     "data": {
      "image/png": "[encoded data removed]",
      "text/plain": [
       "<Figure size 360x360 with 1 Axes>"
      ]
     },
     "metadata": {
      "needs_background": "light"
     },
     "output_type": "display_data"
    },
    {
     "data": {
      "image/png": "[encoded data removed]",
      "text/plain": [
       "<Figure size 360x360 with 1 Axes>"
      ]
     },
     "metadata": {
      "needs_background": "light"
     },
     "output_type": "display_data"
    },
    {
     "data": {
      "image/png": "[encoded data removed]",
      "text/plain": [
       "<Figure size 360x360 with 1 Axes>"
      ]
     },
     "metadata": {
      "needs_background": "light"
     },
     "output_type": "display_data"
    },
    {
     "data": {
      "image/png": "[encoded data removed]",
      "text/plain": [
       "<Figure size 360x360 with 1 Axes>"
      ]
     },
     "metadata": {
      "needs_background": "light"
     },
     "output_type": "display_data"
    },
    {
     "data": {
      "image/png": "[encoded data removed]",
      "text/plain": [
       "<Figure size 360x360 with 1 Axes>"
      ]
     },
     "metadata": {
      "needs_background": "light"
     },
     "output_type": "display_data"
    },
    {
     "data": {
      "image/png": "[encoded data removed]",
      "text/plain": [
       "<Figure size 360x360 with 1 Axes>"
      ]
     },
     "metadata": {
      "needs_background": "light"
     },
     "output_type": "display_data"
    },
    {
     "data": {
      "image/png": "[encoded data removed]",
      "text/plain": [
       "<Figure size 360x360 with 1 Axes>"
      ]
     },
     "metadata": {
      "needs_background": "light"
     },
     "output_type": "display_data"
    },
    {
     "data": {
      "image/png": "[encoded data removed]",
      "text/plain": [
       "<Figure size 360x360 with 1 Axes>"
      ]
     },
     "metadata": {
      "needs_background": "light"
     },
     "output_type": "display_data"
    },
    {
     "data": {
      "image/png": "[encoded data removed]",
      "text/plain": [
       "<Figure size 360x360 with 1 Axes>"
      ]
     },
     "metadata": {
      "needs_background": "light"
     },
     "output_type": "display_data"
    },
    {
     "data": {
      "image/png": "[encoded data removed]",
      "text/plain": [
       "<Figure size 360x360 with 1 Axes>"
      ]
     },
     "metadata": {
      "needs_background": "light"
     },
     "output_type": "display_data"
    },
    {
     "data": {
      "image/png": "[encoded data removed]",
      "text/plain": [
       "<Figure size 360x360 with 1 Axes>"
      ]
     },
     "metadata": {
      "needs_background": "light"
     },
     "output_type": "display_data"
    },
    {
     "data": {
      "image/png": "[encoded data removed]",
      "text/plain": [
       "<Figure size 360x360 with 1 Axes>"
      ]
     },
     "metadata": {
      "needs_background": "light"
     },
     "output_type": "display_data"
    },
    {
     "data": {
      "image/png": "[encoded data removed]",
      "text/plain": [
       "<Figure size 360x360 with 1 Axes>"
      ]
     },
     "metadata": {
      "needs_background": "light"
     },
     "output_type": "display_data"
    },
    {
     "data": {
      "image/png": "[encoded data removed]",
      "text/plain": [
       "<Figure size 360x360 with 1 Axes>"
      ]
     },
     "metadata": {
      "needs_background": "light"
     },
     "output_type": "display_data"
    },
    {
     "data": {
      "image/png": "[encoded data removed]",
      "text/plain": [
       "<Figure size 360x360 with 1 Axes>"
      ]
     },
     "metadata": {
      "needs_background": "light"
     },
     "output_type": "display_data"
    },
    {
     "data": {
      "image/png": "[encoded data removed]",
      "text/plain": [
       "<Figure size 360x360 with 1 Axes>"
      ]
     },
     "metadata": {
      "needs_background": "light"
     },
     "output_type": "display_data"
    },
    {
     "data": {
      "image/png": "[encoded data removed]",
      "text/plain": [
       "<Figure size 360x360 with 1 Axes>"
      ]
     },
     "metadata": {
      "needs_background": "light"
     },
     "output_type": "display_data"
    },
    {
     "data": {
      "image/png": "[encoded data removed]",
      "text/plain": [
       "<Figure size 360x360 with 1 Axes>"
      ]
     },
     "metadata": {
      "needs_background": "light"
     },
     "output_type": "display_data"
    },
    {
     "data": {
      "image/png": "[encoded data removed]",
      "text/plain": [
       "<Figure size 360x360 with 1 Axes>"
      ]
     },
     "metadata": {
      "needs_background": "light"
     },
     "output_type": "display_data"
    }
   ],
   "source": [
    "for i in df_test.columns:\n",
    "    if df_test[i].dtype != 'object':\n",
    "        plt.figure(figsize=(5,5))\n",
    "        sns.boxplot(x = df_test[i],data= df_test)"
   ]
  },
  {
   "cell_type": "code",
   "execution_count": 39,
   "metadata": {},
   "outputs": [],
   "source": [
    "def remove_outliers(column):\n",
    "    Q1 = column.quantile(0.25)\n",
    "    Q3 = column.quantile(0.75)\n",
    "    IQR = Q3 -Q1\n",
    "    lr = Q1 - (1.5 * IQR)\n",
    "    ur = Q3 + (1.5 * IQR)\n",
    "    return lr, ur "
   ]
  },
  {
   "cell_type": "code",
   "execution_count": 40,
   "metadata": {},
   "outputs": [],
   "source": [
    "for i in df_test[['Yearly Income','Debt to Income','Usage Rate','Sub GGGrade','Account Open','Unpaid Amount']]:\n",
    "    lr, ur = remove_outliers(df_test[i])\n",
    "    df_test[i] = np.where(df_test[i]< lr, lr, df_test[i])\n",
    "    df_test[i] = np.where(df_test[i]> ur, ur, df_test[i])"
   ]
  },
  {
   "cell_type": "code",
   "execution_count": 41,
   "metadata": {},
   "outputs": [
    {
     "name": "stderr",
     "output_type": "stream",
     "text": [
      "<ipython-input-41-2e4573a1cfef>:3: RuntimeWarning: More than 20 figures have been opened. Figures created through the pyplot interface (`matplotlib.pyplot.figure`) are retained until explicitly closed and may consume too much memory. (To control this warning, see the rcParam `figure.max_open_warning`).\n",
      "  plt.figure(figsize=(5,5))\n"
     ]
    },
    {
     "data": {
      "image/png": "[encoded data removed]",
      "text/plain": [
       "<Figure size 360x360 with 1 Axes>"
      ]
     },
     "metadata": {
      "needs_background": "light"
     },
     "output_type": "display_data"
    },
    {
     "data": {
      "image/png": "[encoded data removed]",
      "text/plain": [
       "<Figure size 360x360 with 1 Axes>"
      ]
     },
     "metadata": {
      "needs_background": "light"
     },
     "output_type": "display_data"
    },
    {
     "data": {
      "image/png": "[encoded data removed]",
      "text/plain": [
       "<Figure size 360x360 with 1 Axes>"
      ]
     },
     "metadata": {
      "needs_background": "light"
     },
     "output_type": "display_data"
    },
    {
     "data": {
      "image/png": "[encoded data removed]",
      "text/plain": [
       "<Figure size 360x360 with 1 Axes>"
      ]
     },
     "metadata": {
      "needs_background": "light"
     },
     "output_type": "display_data"
    },
    {
     "data": {
      "image/png": "[encoded data removed]",
      "text/plain": [
       "<Figure size 360x360 with 1 Axes>"
      ]
     },
     "metadata": {
      "needs_background": "light"
     },
     "output_type": "display_data"
    },
    {
     "data": {
      "image/png": "[encoded data removed]",
      "text/plain": [
       "<Figure size 360x360 with 1 Axes>"
      ]
     },
     "metadata": {
      "needs_background": "light"
     },
     "output_type": "display_data"
    },
    {
     "data": {
      "image/png": "[encoded data removed]",
      "text/plain": [
       "<Figure size 360x360 with 1 Axes>"
      ]
     },
     "metadata": {
      "needs_background": "light"
     },
     "output_type": "display_data"
    },
    {
     "data": {
      "image/png": "[encoded data removed]",
      "text/plain": [
       "<Figure size 360x360 with 1 Axes>"
      ]
     },
     "metadata": {
      "needs_background": "light"
     },
     "output_type": "display_data"
    },
    {
     "data": {
      "image/png": "[encoded data removed]",
      "text/plain": [
       "<Figure size 360x360 with 1 Axes>"
      ]
     },
     "metadata": {
      "needs_background": "light"
     },
     "output_type": "display_data"
    },
    {
     "data": {
      "image/png": "[encoded data removed]",
      "text/plain": [
       "<Figure size 360x360 with 1 Axes>"
      ]
     },
     "metadata": {
      "needs_background": "light"
     },
     "output_type": "display_data"
    },
    {
     "data": {
      "image/png": "[encoded data removed]",
      "text/plain": [
       "<Figure size 360x360 with 1 Axes>"
      ]
     },
     "metadata": {
      "needs_background": "light"
     },
     "output_type": "display_data"
    },
    {
     "data": {
      "image/png": "[encoded data removed]",
      "text/plain": [
       "<Figure size 360x360 with 1 Axes>"
      ]
     },
     "metadata": {
      "needs_background": "light"
     },
     "output_type": "display_data"
    },
    {
     "data": {
      "image/png": "[encoded data removed]",
      "text/plain": [
       "<Figure size 360x360 with 1 Axes>"
      ]
     },
     "metadata": {
      "needs_background": "light"
     },
     "output_type": "display_data"
    },
    {
     "data": {
      "image/png": "[encoded data removed]",
      "text/plain": [
       "<Figure size 360x360 with 1 Axes>"
      ]
     },
     "metadata": {
      "needs_background": "light"
     },
     "output_type": "display_data"
    },
    {
     "data": {
      "image/png": "[encoded data removed]",
      "text/plain": [
       "<Figure size 360x360 with 1 Axes>"
      ]
     },
     "metadata": {
      "needs_background": "light"
     },
     "output_type": "display_data"
    },
    {
     "data": {
      "image/png": "[encoded data removed]",
      "text/plain": [
       "<Figure size 360x360 with 1 Axes>"
      ]
     },
     "metadata": {
      "needs_background": "light"
     },
     "output_type": "display_data"
    },
    {
     "data": {
      "image/png": "[encoded data removed]",
      "text/plain": [
       "<Figure size 360x360 with 1 Axes>"
      ]
     },
     "metadata": {
      "needs_background": "light"
     },
     "output_type": "display_data"
    },
    {
     "data": {
      "image/png": "[encoded data removed]",
      "text/plain": [
       "<Figure size 360x360 with 1 Axes>"
      ]
     },
     "metadata": {
      "needs_background": "light"
     },
     "output_type": "display_data"
    },
    {
     "data": {
      "image/png": "[encoded data removed]",
      "text/plain": [
       "<Figure size 360x360 with 1 Axes>"
      ]
     },
     "metadata": {
      "needs_background": "light"
     },
     "output_type": "display_data"
    },
    {
     "data": {
      "image/png": "[encoded data removed]",
      "text/plain": [
       "<Figure size 360x360 with 1 Axes>"
      ]
     },
     "metadata": {
      "needs_background": "light"
     },
     "output_type": "display_data"
    },
    {
     "data": {
      "image/png": "[encoded data removed]",
      "text/plain": [
       "<Figure size 360x360 with 1 Axes>"
      ]
     },
     "metadata": {
      "needs_background": "light"
     },
     "output_type": "display_data"
    },
    {
     "data": {
      "image/png": "[encoded data removed]",
      "text/plain": [
       "<Figure size 360x360 with 1 Axes>"
      ]
     },
     "metadata": {
      "needs_background": "light"
     },
     "output_type": "display_data"
    }
   ],
   "source": [
    "for i in df_test.columns:\n",
    "    if df_test[i].dtype != 'object':\n",
    "        plt.figure(figsize=(5,5))\n",
    "        sns.boxplot(x = df_test[i],data= df_test)"
   ]
  },
  {
   "cell_type": "code",
   "execution_count": 42,
   "metadata": {},
   "outputs": [
    {
     "name": "stdout",
     "output_type": "stream",
     "text": [
      "Validation\n",
      "['Not Verified' 'Verified']\n",
      "[0 1] \n",
      "\n",
      "Home Status\n",
      "['MORGAGE' 'RENT']\n",
      "[0 1] \n",
      "\n",
      "Designation\n",
      "['processor' 'Speech Language Pathologist' 'Raytheon' ...\n",
      " 'Parade Performer' 'Sr. Chemistry Technician' 'ParaEducator']\n",
      "[    0     1     2 ... 19507 19508 19509] \n",
      "\n",
      "File Status\n",
      "['fully paid' 'whole']\n",
      "[0 1] \n",
      "\n",
      "State\n",
      "['California' 'Florida' 'NM' 'DE' 'Newyork' 'IL' 'GA' 'NH' 'MO' 'PA' 'MI'\n",
      " 'IN' 'TX' 'NV' 'NC' 'KS' 'OR' 'CO' 'NewJersey' 'CT' 'Maryland' 'TN' 'WI'\n",
      " 'UT' 'Ohio' 'MN' 'AL' 'AZ' 'WA' 'MS' 'LA' 'HI' 'WV' 'OK' 'KY' 'VA' 'SD'\n",
      " 'MA' 'NE' 'RI' 'SC' 'AK' 'AR' 'MT' 'DC' 'VT' 'WY' 'ND' 'ME']\n",
      "[ 0  1  2  3  4  5  6  7  8  9 10 11 12 13 14 15 16 17 18 19 20 21 22 23\n",
      " 24 25 26 27 28 29 30 31 32 33 34 35 36 37 38 39 40 41 42 43 44 45 46 47\n",
      " 48] \n",
      "\n",
      "Reason\n",
      "['major  purchase' 'debt  consolidation' 'credit  card' 'other'\n",
      " 'home  improvement' 'house' 'medical' 'small  business' 'vacation'\n",
      " 'moving' 'car' 'wedding' 'renewable  energy']\n",
      "[ 0  1  2  3  4  5  6  7  8  9 10 11 12] \n",
      "\n",
      "Claim Type\n",
      "['I' 'J']\n",
      "[0 1] \n",
      "\n"
     ]
    }
   ],
   "source": [
    "for i in df_test.columns:\n",
    "    if df_test[i].dtype == 'object':\n",
    "        print(i)\n",
    "        print(df_test[i].unique())\n",
    "        print(pd.Categorical(df_test[i]).unique().codes, '\\n')\n",
    "        df_test[i] = pd.Categorical(df_test[i]).codes"
   ]
  },
  {
   "cell_type": "code",
   "execution_count": 72,
   "metadata": {},
   "outputs": [],
   "source": [
    "test_file_ids = df_test['ID']"
   ]
  },
  {
   "cell_type": "code",
   "execution_count": 73,
   "metadata": {},
   "outputs": [],
   "source": [
    "df_test.drop(['ID','Postal Code'],axis=1,inplace=True)"
   ]
  },
  {
   "cell_type": "code",
   "execution_count": 43,
   "metadata": {},
   "outputs": [],
   "source": [
    "X = df_train.drop('Loan/No Loan',axis=1)\n",
    "y = df_train['Loan/No Loan']"
   ]
  },
  {
   "cell_type": "code",
   "execution_count": 44,
   "metadata": {},
   "outputs": [],
   "source": [
    "from sklearn.model_selection import train_test_split"
   ]
  },
  {
   "cell_type": "code",
   "execution_count": 48,
   "metadata": {},
   "outputs": [],
   "source": [
    "from sklearn.tree import DecisionTreeClassifier"
   ]
  },
  {
   "cell_type": "code",
   "execution_count": 49,
   "metadata": {},
   "outputs": [],
   "source": [
    "dt_model = DecisionTreeClassifier()"
   ]
  },
  {
   "cell_type": "code",
   "execution_count": 50,
   "metadata": {},
   "outputs": [
    {
     "data": {
      "text/plain": [
       "DecisionTreeClassifier()"
      ]
     },
     "execution_count": 50,
     "metadata": {},
     "output_type": "execute_result"
    }
   ],
   "source": [
    "dt_model.fit(Xtrain,ytrain)"
   ]
  },
  {
   "cell_type": "code",
   "execution_count": 51,
   "metadata": {},
   "outputs": [],
   "source": [
    "from sklearn import tree\n",
    "\n",
    "train_char_label = ['No', 'Yes']\n",
    "ld_Tree_File = open('ld_Tree_File.dot','w')\n",
    "dot_data = tree.export_graphviz(dt_model, \n",
    "                                out_file=ld_Tree_File, \n",
    "                                feature_names = list(X), \n",
    "                                class_names = list(train_char_label))\n",
    "\n",
    "ld_Tree_File.close()\n"
   ]
  },
  {
   "cell_type": "code",
   "execution_count": 51,
   "metadata": {},
   "outputs": [],
   "source": [
    "from sklearn import metrics"
   ]
  },
  {
   "cell_type": "code",
   "execution_count": 45,
   "metadata": {},
   "outputs": [],
   "source": [
    "from sklearn.model_selection import train_test_split\n",
    "Xtrain, X_validation, ytrain, y_validation = train_test_split(X,y,test_size = 0.3,random_state = 0)"
   ]
  },
  {
   "cell_type": "code",
   "execution_count": 52,
   "metadata": {},
   "outputs": [],
   "source": [
    "ytrain_predict = dt_model.predict(Xtrain)\n",
    "ytest_predict = dt_model.predict(X_validation)"
   ]
  },
  {
   "cell_type": "code",
   "execution_count": 53,
   "metadata": {},
   "outputs": [
    {
     "name": "stdout",
     "output_type": "stream",
     "text": [
      "1.0\n",
      "0.7609523809523809\n"
     ]
    }
   ],
   "source": [
    "dt_acc_train = metrics.accuracy_score(ytrain,ytrain_predict)\n",
    "dt_acc_test = metrics.accuracy_score(y_validation,ytest_predict)\n",
    "print(dt_acc_train)\n",
    "print(dt_acc_test)"
   ]
  },
  {
   "cell_type": "code",
   "execution_count": 54,
   "metadata": {},
   "outputs": [
    {
     "name": "stdout",
     "output_type": "stream",
     "text": [
      "              precision    recall  f1-score   support\n",
      "\n",
      "           0       1.00      1.00      1.00     49710\n",
      "           1       1.00      1.00      1.00     11540\n",
      "\n",
      "    accuracy                           1.00     61250\n",
      "   macro avg       1.00      1.00      1.00     61250\n",
      "weighted avg       1.00      1.00      1.00     61250\n",
      "\n"
     ]
    }
   ],
   "source": [
    "print(metrics.classification_report(ytrain,ytrain_predict))"
   ]
  },
  {
   "cell_type": "code",
   "execution_count": 55,
   "metadata": {},
   "outputs": [
    {
     "name": "stdout",
     "output_type": "stream",
     "text": [
      "              precision    recall  f1-score   support\n",
      "\n",
      "           0       0.86      0.85      0.85     21278\n",
      "           1       0.38      0.39      0.38      4972\n",
      "\n",
      "    accuracy                           0.76     26250\n",
      "   macro avg       0.62      0.62      0.62     26250\n",
      "weighted avg       0.77      0.76      0.76     26250\n",
      "\n"
     ]
    }
   ],
   "source": [
    "print(metrics.classification_report(y_validation,ytest_predict))"
   ]
  },
  {
   "cell_type": "code",
   "execution_count": 56,
   "metadata": {},
   "outputs": [],
   "source": [
    "from sklearn.ensemble import RandomForestClassifier\n",
    "rf_model = RandomForestClassifier(n_estimators=100,criterion='gini',max_depth=20,max_features=10)\n",
    "rf_model.fit(Xtrain,ytrain)\n",
    "\n",
    "y_pred_train = rf_model.predict(Xtrain)\n",
    "y_pred_val = rf_model.predict(X_validation)"
   ]
  },
  {
   "cell_type": "code",
   "execution_count": 57,
   "metadata": {},
   "outputs": [
    {
     "name": "stdout",
     "output_type": "stream",
     "text": [
      "0.978530612244898\n",
      "0.8359619047619048\n"
     ]
    }
   ],
   "source": [
    "rf_acc_train = metrics.accuracy_score(ytrain,y_pred_train)\n",
    "rf_acc_val = metrics.accuracy_score(y_validation,y_pred_val)\n",
    "print(rf_acc_train)\n",
    "print(rf_acc_val)"
   ]
  },
  {
   "cell_type": "code",
   "execution_count": 58,
   "metadata": {},
   "outputs": [
    {
     "name": "stdout",
     "output_type": "stream",
     "text": [
      "              precision    recall  f1-score   support\n",
      "\n",
      "           0       0.97      1.00      0.99     49710\n",
      "           1       1.00      0.89      0.94     11540\n",
      "\n",
      "    accuracy                           0.98     61250\n",
      "   macro avg       0.99      0.94      0.96     61250\n",
      "weighted avg       0.98      0.98      0.98     61250\n",
      "\n"
     ]
    }
   ],
   "source": [
    "print(metrics.classification_report(ytrain,y_pred_train))"
   ]
  },
  {
   "cell_type": "code",
   "execution_count": 59,
   "metadata": {},
   "outputs": [
    {
     "name": "stdout",
     "output_type": "stream",
     "text": [
      "              precision    recall  f1-score   support\n",
      "\n",
      "           0       0.85      0.97      0.91     21278\n",
      "           1       0.67      0.26      0.38      4972\n",
      "\n",
      "    accuracy                           0.84     26250\n",
      "   macro avg       0.76      0.62      0.64     26250\n",
      "weighted avg       0.82      0.84      0.81     26250\n",
      "\n"
     ]
    }
   ],
   "source": [
    "print(metrics.classification_report(y_validation,y_pred_val))"
   ]
  },
  {
   "cell_type": "code",
   "execution_count": 62,
   "metadata": {},
   "outputs": [],
   "source": [
    "from sklearn.model_selection import GridSearchCV\n",
    "\n",
    "param_grid = {\n",
    "    'max_depth': [7,20],\n",
    "    'max_features': [6,8],\n",
    "    'min_samples_leaf': [875,2625],\n",
    "    'min_samples_split': [2625,7875],\n",
    "    'n_estimators': [300,500]\n",
    "}\n",
    "\n",
    "rfcl = RandomForestClassifier(random_state=0)\n",
    "\n",
    "grid_search = GridSearchCV(estimator = rfcl, param_grid = param_grid, cv = 10)"
   ]
  },
  {
   "cell_type": "code",
   "execution_count": 63,
   "metadata": {},
   "outputs": [
    {
     "ename": "KeyboardInterrupt",
     "evalue": "",
     "output_type": "error",
     "traceback": [
      "\u001b[1;31m---------------------------------------------------------------------------\u001b[0m",
      "\u001b[1;31mKeyboardInterrupt\u001b[0m                         Traceback (most recent call last)",
      "\u001b[1;32m<ipython-input-63-b000e78108ba>\u001b[0m in \u001b[0;36m<module>\u001b[1;34m\u001b[0m\n\u001b[1;32m----> 1\u001b[1;33m \u001b[0mgrid_search\u001b[0m\u001b[1;33m.\u001b[0m\u001b[0mfit\u001b[0m\u001b[1;33m(\u001b[0m\u001b[0mXtrain\u001b[0m\u001b[1;33m,\u001b[0m \u001b[0mytrain\u001b[0m\u001b[1;33m)\u001b[0m\u001b[1;33m\u001b[0m\u001b[1;33m\u001b[0m\u001b[0m\n\u001b[0m",
      "\u001b[1;32m~\\anaconda3\\lib\\site-packages\\sklearn\\model_selection\\_search.py\u001b[0m in \u001b[0;36mfit\u001b[1;34m(self, X, y, groups, **fit_params)\u001b[0m\n\u001b[0;32m    889\u001b[0m                 \u001b[1;32mreturn\u001b[0m \u001b[0mresults\u001b[0m\u001b[1;33m\u001b[0m\u001b[1;33m\u001b[0m\u001b[0m\n\u001b[0;32m    890\u001b[0m \u001b[1;33m\u001b[0m\u001b[0m\n\u001b[1;32m--> 891\u001b[1;33m             \u001b[0mself\u001b[0m\u001b[1;33m.\u001b[0m\u001b[0m_run_search\u001b[0m\u001b[1;33m(\u001b[0m\u001b[0mevaluate_candidates\u001b[0m\u001b[1;33m)\u001b[0m\u001b[1;33m\u001b[0m\u001b[1;33m\u001b[0m\u001b[0m\n\u001b[0m\u001b[0;32m    892\u001b[0m \u001b[1;33m\u001b[0m\u001b[0m\n\u001b[0;32m    893\u001b[0m             \u001b[1;31m# multimetric is determined here because in the case of a callable\u001b[0m\u001b[1;33m\u001b[0m\u001b[1;33m\u001b[0m\u001b[1;33m\u001b[0m\u001b[0m\n",
      "\u001b[1;32m~\\anaconda3\\lib\\site-packages\\sklearn\\model_selection\\_search.py\u001b[0m in \u001b[0;36m_run_search\u001b[1;34m(self, evaluate_candidates)\u001b[0m\n\u001b[0;32m   1390\u001b[0m     \u001b[1;32mdef\u001b[0m \u001b[0m_run_search\u001b[0m\u001b[1;33m(\u001b[0m\u001b[0mself\u001b[0m\u001b[1;33m,\u001b[0m \u001b[0mevaluate_candidates\u001b[0m\u001b[1;33m)\u001b[0m\u001b[1;33m:\u001b[0m\u001b[1;33m\u001b[0m\u001b[1;33m\u001b[0m\u001b[0m\n\u001b[0;32m   1391\u001b[0m         \u001b[1;34m\"\"\"Search all candidates in param_grid\"\"\"\u001b[0m\u001b[1;33m\u001b[0m\u001b[1;33m\u001b[0m\u001b[0m\n\u001b[1;32m-> 1392\u001b[1;33m         \u001b[0mevaluate_candidates\u001b[0m\u001b[1;33m(\u001b[0m\u001b[0mParameterGrid\u001b[0m\u001b[1;33m(\u001b[0m\u001b[0mself\u001b[0m\u001b[1;33m.\u001b[0m\u001b[0mparam_grid\u001b[0m\u001b[1;33m)\u001b[0m\u001b[1;33m)\u001b[0m\u001b[1;33m\u001b[0m\u001b[1;33m\u001b[0m\u001b[0m\n\u001b[0m\u001b[0;32m   1393\u001b[0m \u001b[1;33m\u001b[0m\u001b[0m\n\u001b[0;32m   1394\u001b[0m \u001b[1;33m\u001b[0m\u001b[0m\n",
      "\u001b[1;32m~\\anaconda3\\lib\\site-packages\\sklearn\\model_selection\\_search.py\u001b[0m in \u001b[0;36mevaluate_candidates\u001b[1;34m(candidate_params, cv, more_results)\u001b[0m\n\u001b[0;32m    836\u001b[0m                     )\n\u001b[0;32m    837\u001b[0m \u001b[1;33m\u001b[0m\u001b[0m\n\u001b[1;32m--> 838\u001b[1;33m                 out = parallel(\n\u001b[0m\u001b[0;32m    839\u001b[0m                     delayed(_fit_and_score)(\n\u001b[0;32m    840\u001b[0m                         \u001b[0mclone\u001b[0m\u001b[1;33m(\u001b[0m\u001b[0mbase_estimator\u001b[0m\u001b[1;33m)\u001b[0m\u001b[1;33m,\u001b[0m\u001b[1;33m\u001b[0m\u001b[1;33m\u001b[0m\u001b[0m\n",
      "\u001b[1;32m~\\anaconda3\\lib\\site-packages\\joblib\\parallel.py\u001b[0m in \u001b[0;36m__call__\u001b[1;34m(self, iterable)\u001b[0m\n\u001b[0;32m   1049\u001b[0m                 \u001b[0mself\u001b[0m\u001b[1;33m.\u001b[0m\u001b[0m_iterating\u001b[0m \u001b[1;33m=\u001b[0m \u001b[0mself\u001b[0m\u001b[1;33m.\u001b[0m\u001b[0m_original_iterator\u001b[0m \u001b[1;32mis\u001b[0m \u001b[1;32mnot\u001b[0m \u001b[1;32mNone\u001b[0m\u001b[1;33m\u001b[0m\u001b[1;33m\u001b[0m\u001b[0m\n\u001b[0;32m   1050\u001b[0m \u001b[1;33m\u001b[0m\u001b[0m\n\u001b[1;32m-> 1051\u001b[1;33m             \u001b[1;32mwhile\u001b[0m \u001b[0mself\u001b[0m\u001b[1;33m.\u001b[0m\u001b[0mdispatch_one_batch\u001b[0m\u001b[1;33m(\u001b[0m\u001b[0miterator\u001b[0m\u001b[1;33m)\u001b[0m\u001b[1;33m:\u001b[0m\u001b[1;33m\u001b[0m\u001b[1;33m\u001b[0m\u001b[0m\n\u001b[0m\u001b[0;32m   1052\u001b[0m                 \u001b[1;32mpass\u001b[0m\u001b[1;33m\u001b[0m\u001b[1;33m\u001b[0m\u001b[0m\n\u001b[0;32m   1053\u001b[0m \u001b[1;33m\u001b[0m\u001b[0m\n",
      "\u001b[1;32m~\\anaconda3\\lib\\site-packages\\joblib\\parallel.py\u001b[0m in \u001b[0;36mdispatch_one_batch\u001b[1;34m(self, iterator)\u001b[0m\n\u001b[0;32m    864\u001b[0m                 \u001b[1;32mreturn\u001b[0m \u001b[1;32mFalse\u001b[0m\u001b[1;33m\u001b[0m\u001b[1;33m\u001b[0m\u001b[0m\n\u001b[0;32m    865\u001b[0m             \u001b[1;32melse\u001b[0m\u001b[1;33m:\u001b[0m\u001b[1;33m\u001b[0m\u001b[1;33m\u001b[0m\u001b[0m\n\u001b[1;32m--> 866\u001b[1;33m                 \u001b[0mself\u001b[0m\u001b[1;33m.\u001b[0m\u001b[0m_dispatch\u001b[0m\u001b[1;33m(\u001b[0m\u001b[0mtasks\u001b[0m\u001b[1;33m)\u001b[0m\u001b[1;33m\u001b[0m\u001b[1;33m\u001b[0m\u001b[0m\n\u001b[0m\u001b[0;32m    867\u001b[0m                 \u001b[1;32mreturn\u001b[0m \u001b[1;32mTrue\u001b[0m\u001b[1;33m\u001b[0m\u001b[1;33m\u001b[0m\u001b[0m\n\u001b[0;32m    868\u001b[0m \u001b[1;33m\u001b[0m\u001b[0m\n",
      "\u001b[1;32m~\\anaconda3\\lib\\site-packages\\joblib\\parallel.py\u001b[0m in \u001b[0;36m_dispatch\u001b[1;34m(self, batch)\u001b[0m\n\u001b[0;32m    782\u001b[0m         \u001b[1;32mwith\u001b[0m \u001b[0mself\u001b[0m\u001b[1;33m.\u001b[0m\u001b[0m_lock\u001b[0m\u001b[1;33m:\u001b[0m\u001b[1;33m\u001b[0m\u001b[1;33m\u001b[0m\u001b[0m\n\u001b[0;32m    783\u001b[0m             \u001b[0mjob_idx\u001b[0m \u001b[1;33m=\u001b[0m \u001b[0mlen\u001b[0m\u001b[1;33m(\u001b[0m\u001b[0mself\u001b[0m\u001b[1;33m.\u001b[0m\u001b[0m_jobs\u001b[0m\u001b[1;33m)\u001b[0m\u001b[1;33m\u001b[0m\u001b[1;33m\u001b[0m\u001b[0m\n\u001b[1;32m--> 784\u001b[1;33m             \u001b[0mjob\u001b[0m \u001b[1;33m=\u001b[0m \u001b[0mself\u001b[0m\u001b[1;33m.\u001b[0m\u001b[0m_backend\u001b[0m\u001b[1;33m.\u001b[0m\u001b[0mapply_async\u001b[0m\u001b[1;33m(\u001b[0m\u001b[0mbatch\u001b[0m\u001b[1;33m,\u001b[0m \u001b[0mcallback\u001b[0m\u001b[1;33m=\u001b[0m\u001b[0mcb\u001b[0m\u001b[1;33m)\u001b[0m\u001b[1;33m\u001b[0m\u001b[1;33m\u001b[0m\u001b[0m\n\u001b[0m\u001b[0;32m    785\u001b[0m             \u001b[1;31m# A job can complete so quickly than its callback is\u001b[0m\u001b[1;33m\u001b[0m\u001b[1;33m\u001b[0m\u001b[1;33m\u001b[0m\u001b[0m\n\u001b[0;32m    786\u001b[0m             \u001b[1;31m# called before we get here, causing self._jobs to\u001b[0m\u001b[1;33m\u001b[0m\u001b[1;33m\u001b[0m\u001b[1;33m\u001b[0m\u001b[0m\n",
      "\u001b[1;32m~\\anaconda3\\lib\\site-packages\\joblib\\_parallel_backends.py\u001b[0m in \u001b[0;36mapply_async\u001b[1;34m(self, func, callback)\u001b[0m\n\u001b[0;32m    206\u001b[0m     \u001b[1;32mdef\u001b[0m \u001b[0mapply_async\u001b[0m\u001b[1;33m(\u001b[0m\u001b[0mself\u001b[0m\u001b[1;33m,\u001b[0m \u001b[0mfunc\u001b[0m\u001b[1;33m,\u001b[0m \u001b[0mcallback\u001b[0m\u001b[1;33m=\u001b[0m\u001b[1;32mNone\u001b[0m\u001b[1;33m)\u001b[0m\u001b[1;33m:\u001b[0m\u001b[1;33m\u001b[0m\u001b[1;33m\u001b[0m\u001b[0m\n\u001b[0;32m    207\u001b[0m         \u001b[1;34m\"\"\"Schedule a func to be run\"\"\"\u001b[0m\u001b[1;33m\u001b[0m\u001b[1;33m\u001b[0m\u001b[0m\n\u001b[1;32m--> 208\u001b[1;33m         \u001b[0mresult\u001b[0m \u001b[1;33m=\u001b[0m \u001b[0mImmediateResult\u001b[0m\u001b[1;33m(\u001b[0m\u001b[0mfunc\u001b[0m\u001b[1;33m)\u001b[0m\u001b[1;33m\u001b[0m\u001b[1;33m\u001b[0m\u001b[0m\n\u001b[0m\u001b[0;32m    209\u001b[0m         \u001b[1;32mif\u001b[0m \u001b[0mcallback\u001b[0m\u001b[1;33m:\u001b[0m\u001b[1;33m\u001b[0m\u001b[1;33m\u001b[0m\u001b[0m\n\u001b[0;32m    210\u001b[0m             \u001b[0mcallback\u001b[0m\u001b[1;33m(\u001b[0m\u001b[0mresult\u001b[0m\u001b[1;33m)\u001b[0m\u001b[1;33m\u001b[0m\u001b[1;33m\u001b[0m\u001b[0m\n",
      "\u001b[1;32m~\\anaconda3\\lib\\site-packages\\joblib\\_parallel_backends.py\u001b[0m in \u001b[0;36m__init__\u001b[1;34m(self, batch)\u001b[0m\n\u001b[0;32m    570\u001b[0m         \u001b[1;31m# Don't delay the application, to avoid keeping the input\u001b[0m\u001b[1;33m\u001b[0m\u001b[1;33m\u001b[0m\u001b[1;33m\u001b[0m\u001b[0m\n\u001b[0;32m    571\u001b[0m         \u001b[1;31m# arguments in memory\u001b[0m\u001b[1;33m\u001b[0m\u001b[1;33m\u001b[0m\u001b[1;33m\u001b[0m\u001b[0m\n\u001b[1;32m--> 572\u001b[1;33m         \u001b[0mself\u001b[0m\u001b[1;33m.\u001b[0m\u001b[0mresults\u001b[0m \u001b[1;33m=\u001b[0m \u001b[0mbatch\u001b[0m\u001b[1;33m(\u001b[0m\u001b[1;33m)\u001b[0m\u001b[1;33m\u001b[0m\u001b[1;33m\u001b[0m\u001b[0m\n\u001b[0m\u001b[0;32m    573\u001b[0m \u001b[1;33m\u001b[0m\u001b[0m\n\u001b[0;32m    574\u001b[0m     \u001b[1;32mdef\u001b[0m \u001b[0mget\u001b[0m\u001b[1;33m(\u001b[0m\u001b[0mself\u001b[0m\u001b[1;33m)\u001b[0m\u001b[1;33m:\u001b[0m\u001b[1;33m\u001b[0m\u001b[1;33m\u001b[0m\u001b[0m\n",
      "\u001b[1;32m~\\anaconda3\\lib\\site-packages\\joblib\\parallel.py\u001b[0m in \u001b[0;36m__call__\u001b[1;34m(self)\u001b[0m\n\u001b[0;32m    260\u001b[0m         \u001b[1;31m# change the default number of processes to -1\u001b[0m\u001b[1;33m\u001b[0m\u001b[1;33m\u001b[0m\u001b[1;33m\u001b[0m\u001b[0m\n\u001b[0;32m    261\u001b[0m         \u001b[1;32mwith\u001b[0m \u001b[0mparallel_backend\u001b[0m\u001b[1;33m(\u001b[0m\u001b[0mself\u001b[0m\u001b[1;33m.\u001b[0m\u001b[0m_backend\u001b[0m\u001b[1;33m,\u001b[0m \u001b[0mn_jobs\u001b[0m\u001b[1;33m=\u001b[0m\u001b[0mself\u001b[0m\u001b[1;33m.\u001b[0m\u001b[0m_n_jobs\u001b[0m\u001b[1;33m)\u001b[0m\u001b[1;33m:\u001b[0m\u001b[1;33m\u001b[0m\u001b[1;33m\u001b[0m\u001b[0m\n\u001b[1;32m--> 262\u001b[1;33m             return [func(*args, **kwargs)\n\u001b[0m\u001b[0;32m    263\u001b[0m                     for func, args, kwargs in self.items]\n\u001b[0;32m    264\u001b[0m \u001b[1;33m\u001b[0m\u001b[0m\n",
      "\u001b[1;32m~\\anaconda3\\lib\\site-packages\\joblib\\parallel.py\u001b[0m in \u001b[0;36m<listcomp>\u001b[1;34m(.0)\u001b[0m\n\u001b[0;32m    260\u001b[0m         \u001b[1;31m# change the default number of processes to -1\u001b[0m\u001b[1;33m\u001b[0m\u001b[1;33m\u001b[0m\u001b[1;33m\u001b[0m\u001b[0m\n\u001b[0;32m    261\u001b[0m         \u001b[1;32mwith\u001b[0m \u001b[0mparallel_backend\u001b[0m\u001b[1;33m(\u001b[0m\u001b[0mself\u001b[0m\u001b[1;33m.\u001b[0m\u001b[0m_backend\u001b[0m\u001b[1;33m,\u001b[0m \u001b[0mn_jobs\u001b[0m\u001b[1;33m=\u001b[0m\u001b[0mself\u001b[0m\u001b[1;33m.\u001b[0m\u001b[0m_n_jobs\u001b[0m\u001b[1;33m)\u001b[0m\u001b[1;33m:\u001b[0m\u001b[1;33m\u001b[0m\u001b[1;33m\u001b[0m\u001b[0m\n\u001b[1;32m--> 262\u001b[1;33m             return [func(*args, **kwargs)\n\u001b[0m\u001b[0;32m    263\u001b[0m                     for func, args, kwargs in self.items]\n\u001b[0;32m    264\u001b[0m \u001b[1;33m\u001b[0m\u001b[0m\n",
      "\u001b[1;32m~\\anaconda3\\lib\\site-packages\\sklearn\\utils\\fixes.py\u001b[0m in \u001b[0;36m__call__\u001b[1;34m(self, *args, **kwargs)\u001b[0m\n\u001b[0;32m    209\u001b[0m     \u001b[1;32mdef\u001b[0m \u001b[0m__call__\u001b[0m\u001b[1;33m(\u001b[0m\u001b[0mself\u001b[0m\u001b[1;33m,\u001b[0m \u001b[1;33m*\u001b[0m\u001b[0margs\u001b[0m\u001b[1;33m,\u001b[0m \u001b[1;33m**\u001b[0m\u001b[0mkwargs\u001b[0m\u001b[1;33m)\u001b[0m\u001b[1;33m:\u001b[0m\u001b[1;33m\u001b[0m\u001b[1;33m\u001b[0m\u001b[0m\n\u001b[0;32m    210\u001b[0m         \u001b[1;32mwith\u001b[0m \u001b[0mconfig_context\u001b[0m\u001b[1;33m(\u001b[0m\u001b[1;33m**\u001b[0m\u001b[0mself\u001b[0m\u001b[1;33m.\u001b[0m\u001b[0mconfig\u001b[0m\u001b[1;33m)\u001b[0m\u001b[1;33m:\u001b[0m\u001b[1;33m\u001b[0m\u001b[1;33m\u001b[0m\u001b[0m\n\u001b[1;32m--> 211\u001b[1;33m             \u001b[1;32mreturn\u001b[0m \u001b[0mself\u001b[0m\u001b[1;33m.\u001b[0m\u001b[0mfunction\u001b[0m\u001b[1;33m(\u001b[0m\u001b[1;33m*\u001b[0m\u001b[0margs\u001b[0m\u001b[1;33m,\u001b[0m \u001b[1;33m**\u001b[0m\u001b[0mkwargs\u001b[0m\u001b[1;33m)\u001b[0m\u001b[1;33m\u001b[0m\u001b[1;33m\u001b[0m\u001b[0m\n\u001b[0m\u001b[0;32m    212\u001b[0m \u001b[1;33m\u001b[0m\u001b[0m\n\u001b[0;32m    213\u001b[0m \u001b[1;33m\u001b[0m\u001b[0m\n",
      "\u001b[1;32m~\\anaconda3\\lib\\site-packages\\sklearn\\model_selection\\_validation.py\u001b[0m in \u001b[0;36m_fit_and_score\u001b[1;34m(estimator, X, y, scorer, train, test, verbose, parameters, fit_params, return_train_score, return_parameters, return_n_test_samples, return_times, return_estimator, split_progress, candidate_progress, error_score)\u001b[0m\n\u001b[0;32m    679\u001b[0m             \u001b[0mestimator\u001b[0m\u001b[1;33m.\u001b[0m\u001b[0mfit\u001b[0m\u001b[1;33m(\u001b[0m\u001b[0mX_train\u001b[0m\u001b[1;33m,\u001b[0m \u001b[1;33m**\u001b[0m\u001b[0mfit_params\u001b[0m\u001b[1;33m)\u001b[0m\u001b[1;33m\u001b[0m\u001b[1;33m\u001b[0m\u001b[0m\n\u001b[0;32m    680\u001b[0m         \u001b[1;32melse\u001b[0m\u001b[1;33m:\u001b[0m\u001b[1;33m\u001b[0m\u001b[1;33m\u001b[0m\u001b[0m\n\u001b[1;32m--> 681\u001b[1;33m             \u001b[0mestimator\u001b[0m\u001b[1;33m.\u001b[0m\u001b[0mfit\u001b[0m\u001b[1;33m(\u001b[0m\u001b[0mX_train\u001b[0m\u001b[1;33m,\u001b[0m \u001b[0my_train\u001b[0m\u001b[1;33m,\u001b[0m \u001b[1;33m**\u001b[0m\u001b[0mfit_params\u001b[0m\u001b[1;33m)\u001b[0m\u001b[1;33m\u001b[0m\u001b[1;33m\u001b[0m\u001b[0m\n\u001b[0m\u001b[0;32m    682\u001b[0m \u001b[1;33m\u001b[0m\u001b[0m\n\u001b[0;32m    683\u001b[0m     \u001b[1;32mexcept\u001b[0m \u001b[0mException\u001b[0m\u001b[1;33m:\u001b[0m\u001b[1;33m\u001b[0m\u001b[1;33m\u001b[0m\u001b[0m\n",
      "\u001b[1;32m~\\anaconda3\\lib\\site-packages\\sklearn\\ensemble\\_forest.py\u001b[0m in \u001b[0;36mfit\u001b[1;34m(self, X, y, sample_weight)\u001b[0m\n\u001b[0;32m    440\u001b[0m             \u001b[1;31m# parallel_backend contexts set at a higher level,\u001b[0m\u001b[1;33m\u001b[0m\u001b[1;33m\u001b[0m\u001b[1;33m\u001b[0m\u001b[0m\n\u001b[0;32m    441\u001b[0m             \u001b[1;31m# since correctness does not rely on using threads.\u001b[0m\u001b[1;33m\u001b[0m\u001b[1;33m\u001b[0m\u001b[1;33m\u001b[0m\u001b[0m\n\u001b[1;32m--> 442\u001b[1;33m             trees = Parallel(\n\u001b[0m\u001b[0;32m    443\u001b[0m                 \u001b[0mn_jobs\u001b[0m\u001b[1;33m=\u001b[0m\u001b[0mself\u001b[0m\u001b[1;33m.\u001b[0m\u001b[0mn_jobs\u001b[0m\u001b[1;33m,\u001b[0m\u001b[1;33m\u001b[0m\u001b[1;33m\u001b[0m\u001b[0m\n\u001b[0;32m    444\u001b[0m                 \u001b[0mverbose\u001b[0m\u001b[1;33m=\u001b[0m\u001b[0mself\u001b[0m\u001b[1;33m.\u001b[0m\u001b[0mverbose\u001b[0m\u001b[1;33m,\u001b[0m\u001b[1;33m\u001b[0m\u001b[1;33m\u001b[0m\u001b[0m\n",
      "\u001b[1;32m~\\anaconda3\\lib\\site-packages\\joblib\\parallel.py\u001b[0m in \u001b[0;36m__call__\u001b[1;34m(self, iterable)\u001b[0m\n\u001b[0;32m   1049\u001b[0m                 \u001b[0mself\u001b[0m\u001b[1;33m.\u001b[0m\u001b[0m_iterating\u001b[0m \u001b[1;33m=\u001b[0m \u001b[0mself\u001b[0m\u001b[1;33m.\u001b[0m\u001b[0m_original_iterator\u001b[0m \u001b[1;32mis\u001b[0m \u001b[1;32mnot\u001b[0m \u001b[1;32mNone\u001b[0m\u001b[1;33m\u001b[0m\u001b[1;33m\u001b[0m\u001b[0m\n\u001b[0;32m   1050\u001b[0m \u001b[1;33m\u001b[0m\u001b[0m\n\u001b[1;32m-> 1051\u001b[1;33m             \u001b[1;32mwhile\u001b[0m \u001b[0mself\u001b[0m\u001b[1;33m.\u001b[0m\u001b[0mdispatch_one_batch\u001b[0m\u001b[1;33m(\u001b[0m\u001b[0miterator\u001b[0m\u001b[1;33m)\u001b[0m\u001b[1;33m:\u001b[0m\u001b[1;33m\u001b[0m\u001b[1;33m\u001b[0m\u001b[0m\n\u001b[0m\u001b[0;32m   1052\u001b[0m                 \u001b[1;32mpass\u001b[0m\u001b[1;33m\u001b[0m\u001b[1;33m\u001b[0m\u001b[0m\n\u001b[0;32m   1053\u001b[0m \u001b[1;33m\u001b[0m\u001b[0m\n",
      "\u001b[1;32m~\\anaconda3\\lib\\site-packages\\joblib\\parallel.py\u001b[0m in \u001b[0;36mdispatch_one_batch\u001b[1;34m(self, iterator)\u001b[0m\n\u001b[0;32m    864\u001b[0m                 \u001b[1;32mreturn\u001b[0m \u001b[1;32mFalse\u001b[0m\u001b[1;33m\u001b[0m\u001b[1;33m\u001b[0m\u001b[0m\n\u001b[0;32m    865\u001b[0m             \u001b[1;32melse\u001b[0m\u001b[1;33m:\u001b[0m\u001b[1;33m\u001b[0m\u001b[1;33m\u001b[0m\u001b[0m\n\u001b[1;32m--> 866\u001b[1;33m                 \u001b[0mself\u001b[0m\u001b[1;33m.\u001b[0m\u001b[0m_dispatch\u001b[0m\u001b[1;33m(\u001b[0m\u001b[0mtasks\u001b[0m\u001b[1;33m)\u001b[0m\u001b[1;33m\u001b[0m\u001b[1;33m\u001b[0m\u001b[0m\n\u001b[0m\u001b[0;32m    867\u001b[0m                 \u001b[1;32mreturn\u001b[0m \u001b[1;32mTrue\u001b[0m\u001b[1;33m\u001b[0m\u001b[1;33m\u001b[0m\u001b[0m\n\u001b[0;32m    868\u001b[0m \u001b[1;33m\u001b[0m\u001b[0m\n",
      "\u001b[1;32m~\\anaconda3\\lib\\site-packages\\joblib\\parallel.py\u001b[0m in \u001b[0;36m_dispatch\u001b[1;34m(self, batch)\u001b[0m\n\u001b[0;32m    782\u001b[0m         \u001b[1;32mwith\u001b[0m \u001b[0mself\u001b[0m\u001b[1;33m.\u001b[0m\u001b[0m_lock\u001b[0m\u001b[1;33m:\u001b[0m\u001b[1;33m\u001b[0m\u001b[1;33m\u001b[0m\u001b[0m\n\u001b[0;32m    783\u001b[0m             \u001b[0mjob_idx\u001b[0m \u001b[1;33m=\u001b[0m \u001b[0mlen\u001b[0m\u001b[1;33m(\u001b[0m\u001b[0mself\u001b[0m\u001b[1;33m.\u001b[0m\u001b[0m_jobs\u001b[0m\u001b[1;33m)\u001b[0m\u001b[1;33m\u001b[0m\u001b[1;33m\u001b[0m\u001b[0m\n\u001b[1;32m--> 784\u001b[1;33m             \u001b[0mjob\u001b[0m \u001b[1;33m=\u001b[0m \u001b[0mself\u001b[0m\u001b[1;33m.\u001b[0m\u001b[0m_backend\u001b[0m\u001b[1;33m.\u001b[0m\u001b[0mapply_async\u001b[0m\u001b[1;33m(\u001b[0m\u001b[0mbatch\u001b[0m\u001b[1;33m,\u001b[0m \u001b[0mcallback\u001b[0m\u001b[1;33m=\u001b[0m\u001b[0mcb\u001b[0m\u001b[1;33m)\u001b[0m\u001b[1;33m\u001b[0m\u001b[1;33m\u001b[0m\u001b[0m\n\u001b[0m\u001b[0;32m    785\u001b[0m             \u001b[1;31m# A job can complete so quickly than its callback is\u001b[0m\u001b[1;33m\u001b[0m\u001b[1;33m\u001b[0m\u001b[1;33m\u001b[0m\u001b[0m\n\u001b[0;32m    786\u001b[0m             \u001b[1;31m# called before we get here, causing self._jobs to\u001b[0m\u001b[1;33m\u001b[0m\u001b[1;33m\u001b[0m\u001b[1;33m\u001b[0m\u001b[0m\n",
      "\u001b[1;32m~\\anaconda3\\lib\\site-packages\\joblib\\_parallel_backends.py\u001b[0m in \u001b[0;36mapply_async\u001b[1;34m(self, func, callback)\u001b[0m\n\u001b[0;32m    206\u001b[0m     \u001b[1;32mdef\u001b[0m \u001b[0mapply_async\u001b[0m\u001b[1;33m(\u001b[0m\u001b[0mself\u001b[0m\u001b[1;33m,\u001b[0m \u001b[0mfunc\u001b[0m\u001b[1;33m,\u001b[0m \u001b[0mcallback\u001b[0m\u001b[1;33m=\u001b[0m\u001b[1;32mNone\u001b[0m\u001b[1;33m)\u001b[0m\u001b[1;33m:\u001b[0m\u001b[1;33m\u001b[0m\u001b[1;33m\u001b[0m\u001b[0m\n\u001b[0;32m    207\u001b[0m         \u001b[1;34m\"\"\"Schedule a func to be run\"\"\"\u001b[0m\u001b[1;33m\u001b[0m\u001b[1;33m\u001b[0m\u001b[0m\n\u001b[1;32m--> 208\u001b[1;33m         \u001b[0mresult\u001b[0m \u001b[1;33m=\u001b[0m \u001b[0mImmediateResult\u001b[0m\u001b[1;33m(\u001b[0m\u001b[0mfunc\u001b[0m\u001b[1;33m)\u001b[0m\u001b[1;33m\u001b[0m\u001b[1;33m\u001b[0m\u001b[0m\n\u001b[0m\u001b[0;32m    209\u001b[0m         \u001b[1;32mif\u001b[0m \u001b[0mcallback\u001b[0m\u001b[1;33m:\u001b[0m\u001b[1;33m\u001b[0m\u001b[1;33m\u001b[0m\u001b[0m\n\u001b[0;32m    210\u001b[0m             \u001b[0mcallback\u001b[0m\u001b[1;33m(\u001b[0m\u001b[0mresult\u001b[0m\u001b[1;33m)\u001b[0m\u001b[1;33m\u001b[0m\u001b[1;33m\u001b[0m\u001b[0m\n",
      "\u001b[1;32m~\\anaconda3\\lib\\site-packages\\joblib\\_parallel_backends.py\u001b[0m in \u001b[0;36m__init__\u001b[1;34m(self, batch)\u001b[0m\n\u001b[0;32m    570\u001b[0m         \u001b[1;31m# Don't delay the application, to avoid keeping the input\u001b[0m\u001b[1;33m\u001b[0m\u001b[1;33m\u001b[0m\u001b[1;33m\u001b[0m\u001b[0m\n\u001b[0;32m    571\u001b[0m         \u001b[1;31m# arguments in memory\u001b[0m\u001b[1;33m\u001b[0m\u001b[1;33m\u001b[0m\u001b[1;33m\u001b[0m\u001b[0m\n\u001b[1;32m--> 572\u001b[1;33m         \u001b[0mself\u001b[0m\u001b[1;33m.\u001b[0m\u001b[0mresults\u001b[0m \u001b[1;33m=\u001b[0m \u001b[0mbatch\u001b[0m\u001b[1;33m(\u001b[0m\u001b[1;33m)\u001b[0m\u001b[1;33m\u001b[0m\u001b[1;33m\u001b[0m\u001b[0m\n\u001b[0m\u001b[0;32m    573\u001b[0m \u001b[1;33m\u001b[0m\u001b[0m\n\u001b[0;32m    574\u001b[0m     \u001b[1;32mdef\u001b[0m \u001b[0mget\u001b[0m\u001b[1;33m(\u001b[0m\u001b[0mself\u001b[0m\u001b[1;33m)\u001b[0m\u001b[1;33m:\u001b[0m\u001b[1;33m\u001b[0m\u001b[1;33m\u001b[0m\u001b[0m\n",
      "\u001b[1;32m~\\anaconda3\\lib\\site-packages\\joblib\\parallel.py\u001b[0m in \u001b[0;36m__call__\u001b[1;34m(self)\u001b[0m\n\u001b[0;32m    260\u001b[0m         \u001b[1;31m# change the default number of processes to -1\u001b[0m\u001b[1;33m\u001b[0m\u001b[1;33m\u001b[0m\u001b[1;33m\u001b[0m\u001b[0m\n\u001b[0;32m    261\u001b[0m         \u001b[1;32mwith\u001b[0m \u001b[0mparallel_backend\u001b[0m\u001b[1;33m(\u001b[0m\u001b[0mself\u001b[0m\u001b[1;33m.\u001b[0m\u001b[0m_backend\u001b[0m\u001b[1;33m,\u001b[0m \u001b[0mn_jobs\u001b[0m\u001b[1;33m=\u001b[0m\u001b[0mself\u001b[0m\u001b[1;33m.\u001b[0m\u001b[0m_n_jobs\u001b[0m\u001b[1;33m)\u001b[0m\u001b[1;33m:\u001b[0m\u001b[1;33m\u001b[0m\u001b[1;33m\u001b[0m\u001b[0m\n\u001b[1;32m--> 262\u001b[1;33m             return [func(*args, **kwargs)\n\u001b[0m\u001b[0;32m    263\u001b[0m                     for func, args, kwargs in self.items]\n\u001b[0;32m    264\u001b[0m \u001b[1;33m\u001b[0m\u001b[0m\n",
      "\u001b[1;32m~\\anaconda3\\lib\\site-packages\\joblib\\parallel.py\u001b[0m in \u001b[0;36m<listcomp>\u001b[1;34m(.0)\u001b[0m\n\u001b[0;32m    260\u001b[0m         \u001b[1;31m# change the default number of processes to -1\u001b[0m\u001b[1;33m\u001b[0m\u001b[1;33m\u001b[0m\u001b[1;33m\u001b[0m\u001b[0m\n\u001b[0;32m    261\u001b[0m         \u001b[1;32mwith\u001b[0m \u001b[0mparallel_backend\u001b[0m\u001b[1;33m(\u001b[0m\u001b[0mself\u001b[0m\u001b[1;33m.\u001b[0m\u001b[0m_backend\u001b[0m\u001b[1;33m,\u001b[0m \u001b[0mn_jobs\u001b[0m\u001b[1;33m=\u001b[0m\u001b[0mself\u001b[0m\u001b[1;33m.\u001b[0m\u001b[0m_n_jobs\u001b[0m\u001b[1;33m)\u001b[0m\u001b[1;33m:\u001b[0m\u001b[1;33m\u001b[0m\u001b[1;33m\u001b[0m\u001b[0m\n\u001b[1;32m--> 262\u001b[1;33m             return [func(*args, **kwargs)\n\u001b[0m\u001b[0;32m    263\u001b[0m                     for func, args, kwargs in self.items]\n\u001b[0;32m    264\u001b[0m \u001b[1;33m\u001b[0m\u001b[0m\n",
      "\u001b[1;32m~\\anaconda3\\lib\\site-packages\\sklearn\\utils\\fixes.py\u001b[0m in \u001b[0;36m__call__\u001b[1;34m(self, *args, **kwargs)\u001b[0m\n\u001b[0;32m    209\u001b[0m     \u001b[1;32mdef\u001b[0m \u001b[0m__call__\u001b[0m\u001b[1;33m(\u001b[0m\u001b[0mself\u001b[0m\u001b[1;33m,\u001b[0m \u001b[1;33m*\u001b[0m\u001b[0margs\u001b[0m\u001b[1;33m,\u001b[0m \u001b[1;33m**\u001b[0m\u001b[0mkwargs\u001b[0m\u001b[1;33m)\u001b[0m\u001b[1;33m:\u001b[0m\u001b[1;33m\u001b[0m\u001b[1;33m\u001b[0m\u001b[0m\n\u001b[0;32m    210\u001b[0m         \u001b[1;32mwith\u001b[0m \u001b[0mconfig_context\u001b[0m\u001b[1;33m(\u001b[0m\u001b[1;33m**\u001b[0m\u001b[0mself\u001b[0m\u001b[1;33m.\u001b[0m\u001b[0mconfig\u001b[0m\u001b[1;33m)\u001b[0m\u001b[1;33m:\u001b[0m\u001b[1;33m\u001b[0m\u001b[1;33m\u001b[0m\u001b[0m\n\u001b[1;32m--> 211\u001b[1;33m             \u001b[1;32mreturn\u001b[0m \u001b[0mself\u001b[0m\u001b[1;33m.\u001b[0m\u001b[0mfunction\u001b[0m\u001b[1;33m(\u001b[0m\u001b[1;33m*\u001b[0m\u001b[0margs\u001b[0m\u001b[1;33m,\u001b[0m \u001b[1;33m**\u001b[0m\u001b[0mkwargs\u001b[0m\u001b[1;33m)\u001b[0m\u001b[1;33m\u001b[0m\u001b[1;33m\u001b[0m\u001b[0m\n\u001b[0m\u001b[0;32m    212\u001b[0m \u001b[1;33m\u001b[0m\u001b[0m\n\u001b[0;32m    213\u001b[0m \u001b[1;33m\u001b[0m\u001b[0m\n",
      "\u001b[1;32m~\\anaconda3\\lib\\site-packages\\sklearn\\ensemble\\_forest.py\u001b[0m in \u001b[0;36m_parallel_build_trees\u001b[1;34m(tree, forest, X, y, sample_weight, tree_idx, n_trees, verbose, class_weight, n_samples_bootstrap)\u001b[0m\n\u001b[0;32m    183\u001b[0m             \u001b[0mcurr_sample_weight\u001b[0m \u001b[1;33m*=\u001b[0m \u001b[0mcompute_sample_weight\u001b[0m\u001b[1;33m(\u001b[0m\u001b[1;34m\"balanced\"\u001b[0m\u001b[1;33m,\u001b[0m \u001b[0my\u001b[0m\u001b[1;33m,\u001b[0m \u001b[0mindices\u001b[0m\u001b[1;33m=\u001b[0m\u001b[0mindices\u001b[0m\u001b[1;33m)\u001b[0m\u001b[1;33m\u001b[0m\u001b[1;33m\u001b[0m\u001b[0m\n\u001b[0;32m    184\u001b[0m \u001b[1;33m\u001b[0m\u001b[0m\n\u001b[1;32m--> 185\u001b[1;33m         \u001b[0mtree\u001b[0m\u001b[1;33m.\u001b[0m\u001b[0mfit\u001b[0m\u001b[1;33m(\u001b[0m\u001b[0mX\u001b[0m\u001b[1;33m,\u001b[0m \u001b[0my\u001b[0m\u001b[1;33m,\u001b[0m \u001b[0msample_weight\u001b[0m\u001b[1;33m=\u001b[0m\u001b[0mcurr_sample_weight\u001b[0m\u001b[1;33m,\u001b[0m \u001b[0mcheck_input\u001b[0m\u001b[1;33m=\u001b[0m\u001b[1;32mFalse\u001b[0m\u001b[1;33m)\u001b[0m\u001b[1;33m\u001b[0m\u001b[1;33m\u001b[0m\u001b[0m\n\u001b[0m\u001b[0;32m    186\u001b[0m     \u001b[1;32melse\u001b[0m\u001b[1;33m:\u001b[0m\u001b[1;33m\u001b[0m\u001b[1;33m\u001b[0m\u001b[0m\n\u001b[0;32m    187\u001b[0m         \u001b[0mtree\u001b[0m\u001b[1;33m.\u001b[0m\u001b[0mfit\u001b[0m\u001b[1;33m(\u001b[0m\u001b[0mX\u001b[0m\u001b[1;33m,\u001b[0m \u001b[0my\u001b[0m\u001b[1;33m,\u001b[0m \u001b[0msample_weight\u001b[0m\u001b[1;33m=\u001b[0m\u001b[0msample_weight\u001b[0m\u001b[1;33m,\u001b[0m \u001b[0mcheck_input\u001b[0m\u001b[1;33m=\u001b[0m\u001b[1;32mFalse\u001b[0m\u001b[1;33m)\u001b[0m\u001b[1;33m\u001b[0m\u001b[1;33m\u001b[0m\u001b[0m\n",
      "\u001b[1;32m~\\anaconda3\\lib\\site-packages\\sklearn\\tree\\_classes.py\u001b[0m in \u001b[0;36mfit\u001b[1;34m(self, X, y, sample_weight, check_input, X_idx_sorted)\u001b[0m\n\u001b[0;32m    935\u001b[0m         \"\"\"\n\u001b[0;32m    936\u001b[0m \u001b[1;33m\u001b[0m\u001b[0m\n\u001b[1;32m--> 937\u001b[1;33m         super().fit(\n\u001b[0m\u001b[0;32m    938\u001b[0m             \u001b[0mX\u001b[0m\u001b[1;33m,\u001b[0m\u001b[1;33m\u001b[0m\u001b[1;33m\u001b[0m\u001b[0m\n\u001b[0;32m    939\u001b[0m             \u001b[0my\u001b[0m\u001b[1;33m,\u001b[0m\u001b[1;33m\u001b[0m\u001b[1;33m\u001b[0m\u001b[0m\n",
      "\u001b[1;32m~\\anaconda3\\lib\\site-packages\\sklearn\\tree\\_classes.py\u001b[0m in \u001b[0;36mfit\u001b[1;34m(self, X, y, sample_weight, check_input, X_idx_sorted)\u001b[0m\n\u001b[0;32m    418\u001b[0m             )\n\u001b[0;32m    419\u001b[0m \u001b[1;33m\u001b[0m\u001b[0m\n\u001b[1;32m--> 420\u001b[1;33m         \u001b[0mbuilder\u001b[0m\u001b[1;33m.\u001b[0m\u001b[0mbuild\u001b[0m\u001b[1;33m(\u001b[0m\u001b[0mself\u001b[0m\u001b[1;33m.\u001b[0m\u001b[0mtree_\u001b[0m\u001b[1;33m,\u001b[0m \u001b[0mX\u001b[0m\u001b[1;33m,\u001b[0m \u001b[0my\u001b[0m\u001b[1;33m,\u001b[0m \u001b[0msample_weight\u001b[0m\u001b[1;33m)\u001b[0m\u001b[1;33m\u001b[0m\u001b[1;33m\u001b[0m\u001b[0m\n\u001b[0m\u001b[0;32m    421\u001b[0m \u001b[1;33m\u001b[0m\u001b[0m\n\u001b[0;32m    422\u001b[0m         \u001b[1;32mif\u001b[0m \u001b[0mself\u001b[0m\u001b[1;33m.\u001b[0m\u001b[0mn_outputs_\u001b[0m \u001b[1;33m==\u001b[0m \u001b[1;36m1\u001b[0m \u001b[1;32mand\u001b[0m \u001b[0mis_classifier\u001b[0m\u001b[1;33m(\u001b[0m\u001b[0mself\u001b[0m\u001b[1;33m)\u001b[0m\u001b[1;33m:\u001b[0m\u001b[1;33m\u001b[0m\u001b[1;33m\u001b[0m\u001b[0m\n",
      "\u001b[1;31mKeyboardInterrupt\u001b[0m: "
     ]
    }
   ],
   "source": [
    "grid_search.fit(Xtrain, ytrain)"
   ]
  },
  {
   "cell_type": "code",
   "execution_count": 66,
   "metadata": {},
   "outputs": [],
   "source": [
    "from sklearn.linear_model import LogisticRegression"
   ]
  },
  {
   "cell_type": "code",
   "execution_count": 67,
   "metadata": {},
   "outputs": [
    {
     "name": "stderr",
     "output_type": "stream",
     "text": [
      "[Parallel(n_jobs=2)]: Using backend LokyBackend with 2 concurrent workers.\n",
      "[Parallel(n_jobs=2)]: Done   1 out of   1 | elapsed:  2.5min finished\n"
     ]
    },
    {
     "data": {
      "text/plain": [
       "LogisticRegression(max_iter=10000, n_jobs=2, penalty='none', solver='newton-cg',\n",
       "                   verbose=True)"
      ]
     },
     "execution_count": 67,
     "metadata": {},
     "output_type": "execute_result"
    }
   ],
   "source": [
    "model1 = LogisticRegression(solver='newton-cg', max_iter=10000, penalty = 'none',verbose = True,n_jobs=2)\n",
    "model1.fit(Xtrain, ytrain)"
   ]
  },
  {
   "cell_type": "code",
   "execution_count": 68,
   "metadata": {},
   "outputs": [],
   "source": [
    "ytrain_predict = model1.predict(Xtrain)\n",
    "ytest_predict = model1.predict(X_validation)"
   ]
  },
  {
   "cell_type": "code",
   "execution_count": 69,
   "metadata": {},
   "outputs": [
    {
     "name": "stdout",
     "output_type": "stream",
     "text": [
      "0.8312816326530612\n",
      "0.8328761904761904\n"
     ]
    }
   ],
   "source": [
    "lr_acc_train = metrics.accuracy_score(ytrain,ytrain_predict)\n",
    "lr_acc_val = metrics.accuracy_score(y_validation,ytest_predict)\n",
    "print(lr_acc_train)\n",
    "print(lr_acc_val)"
   ]
  },
  {
   "cell_type": "code",
   "execution_count": 70,
   "metadata": {},
   "outputs": [
    {
     "name": "stdout",
     "output_type": "stream",
     "text": [
      "              precision    recall  f1-score   support\n",
      "\n",
      "           0       0.85      0.96      0.90     49710\n",
      "           1       0.62      0.27      0.38     11540\n",
      "\n",
      "    accuracy                           0.83     61250\n",
      "   macro avg       0.73      0.62      0.64     61250\n",
      "weighted avg       0.81      0.83      0.80     61250\n",
      "\n"
     ]
    }
   ],
   "source": [
    "print(metrics.classification_report(ytrain,ytrain_predict))"
   ]
  },
  {
   "cell_type": "code",
   "execution_count": 71,
   "metadata": {},
   "outputs": [
    {
     "name": "stdout",
     "output_type": "stream",
     "text": [
      "              precision    recall  f1-score   support\n",
      "\n",
      "           0       0.85      0.96      0.90     21278\n",
      "           1       0.64      0.28      0.38      4972\n",
      "\n",
      "    accuracy                           0.83     26250\n",
      "   macro avg       0.74      0.62      0.64     26250\n",
      "weighted avg       0.81      0.83      0.81     26250\n",
      "\n"
     ]
    }
   ],
   "source": [
    "print(metrics.classification_report(y_validation,ytest_predict))"
   ]
  },
  {
   "cell_type": "code",
   "execution_count": 69,
   "metadata": {},
   "outputs": [],
   "source": [
    "from sklearn.model_selection import GridSearchCV"
   ]
  },
  {
   "cell_type": "code",
   "execution_count": 66,
   "metadata": {},
   "outputs": [],
   "source": [
    "grid = {'penalty': ['l2', 'none'],\n",
    "       'solver':['sag','Ibfgs','newton-cg'],\n",
    "       'tol': [0.0001,0.00001]}"
   ]
  },
  {
   "cell_type": "code",
   "execution_count": 67,
   "metadata": {},
   "outputs": [],
   "source": [
    "model_grid = LogisticRegression(max_iter=10000,n_jobs=2)"
   ]
  },
  {
   "cell_type": "code",
   "execution_count": 70,
   "metadata": {},
   "outputs": [],
   "source": [
    "grid_search = GridSearchCV(estimator=model_grid, param_grid= grid,cv=3,n_jobs=1)"
   ]
  },
  {
   "cell_type": "code",
   "execution_count": 46,
   "metadata": {},
   "outputs": [],
   "source": [
    "from sklearn.discriminant_analysis import LinearDiscriminantAnalysis"
   ]
  },
  {
   "cell_type": "code",
   "execution_count": 47,
   "metadata": {},
   "outputs": [],
   "source": [
    "#Build LDA Model\n",
    "clf = LinearDiscriminantAnalysis()\n",
    "model=clf.fit(Xtrain,ytrain)"
   ]
  },
  {
   "cell_type": "code",
   "execution_count": 49,
   "metadata": {},
   "outputs": [],
   "source": [
    "# Training Data Class Prediction with a cut-off value of 0.5\n",
    "pred_class_train = model.predict(Xtrain)\n",
    "\n",
    "# Test Data Class Prediction with a cut-off value of 0.5\n",
    "pred_class_test = model.predict(X_validation)"
   ]
  },
  {
   "cell_type": "code",
   "execution_count": 52,
   "metadata": {},
   "outputs": [
    {
     "name": "stdout",
     "output_type": "stream",
     "text": [
      "0.8293551020408163\n",
      "0.8315809523809524\n"
     ]
    }
   ],
   "source": [
    "ld_acc_train = metrics.accuracy_score(ytrain,pred_class_train)\n",
    "ld_acc_val = metrics.accuracy_score(y_validation,pred_class_test)\n",
    "print(ld_acc_train)\n",
    "print(ld_acc_val)"
   ]
  },
  {
   "cell_type": "code",
   "execution_count": 53,
   "metadata": {},
   "outputs": [
    {
     "name": "stdout",
     "output_type": "stream",
     "text": [
      "              precision    recall  f1-score   support\n",
      "\n",
      "           0       0.85      0.96      0.90     49710\n",
      "           1       0.61      0.27      0.37     11540\n",
      "\n",
      "    accuracy                           0.83     61250\n",
      "   macro avg       0.73      0.61      0.64     61250\n",
      "weighted avg       0.80      0.83      0.80     61250\n",
      "\n"
     ]
    }
   ],
   "source": [
    "print(metrics.classification_report(ytrain,pred_class_train))"
   ]
  },
  {
   "cell_type": "code",
   "execution_count": 54,
   "metadata": {},
   "outputs": [
    {
     "name": "stdout",
     "output_type": "stream",
     "text": [
      "              precision    recall  f1-score   support\n",
      "\n",
      "           0       0.85      0.96      0.90     21278\n",
      "           1       0.63      0.27      0.38      4972\n",
      "\n",
      "    accuracy                           0.83     26250\n",
      "   macro avg       0.74      0.62      0.64     26250\n",
      "weighted avg       0.81      0.83      0.80     26250\n",
      "\n"
     ]
    }
   ],
   "source": [
    "print(metrics.classification_report(y_validation,pred_class_test))"
   ]
  },
  {
   "cell_type": "code",
   "execution_count": 55,
   "metadata": {},
   "outputs": [],
   "source": [
    "from sklearn.neural_network import MLPClassifier"
   ]
  },
  {
   "cell_type": "code",
   "execution_count": 56,
   "metadata": {},
   "outputs": [],
   "source": [
    "from sklearn.preprocessing import StandardScaler"
   ]
  },
  {
   "cell_type": "code",
   "execution_count": 57,
   "metadata": {},
   "outputs": [],
   "source": [
    "sc = StandardScaler()"
   ]
  },
  {
   "cell_type": "code",
   "execution_count": 58,
   "metadata": {},
   "outputs": [],
   "source": [
    "X_train_scaled = sc.fit_transform(Xtrain)\n",
    "X_validation_scaled = sc.fit_transform(X_validation)"
   ]
  },
  {
   "cell_type": "code",
   "execution_count": 59,
   "metadata": {},
   "outputs": [],
   "source": [
    "clf = MLPClassifier(hidden_layer_sizes=200, max_iter=10000,\n",
    "                     solver='sgd', verbose=True,  random_state=0,tol=0.01)"
   ]
  },
  {
   "cell_type": "code",
   "execution_count": 60,
   "metadata": {},
   "outputs": [
    {
     "name": "stdout",
     "output_type": "stream",
     "text": [
      "Iteration 1, loss = 0.48627042\n",
      "Iteration 2, loss = 0.41336265\n",
      "Iteration 3, loss = 0.39593150\n",
      "Iteration 4, loss = 0.38816838\n",
      "Iteration 5, loss = 0.38415613\n",
      "Iteration 6, loss = 0.38184348\n",
      "Iteration 7, loss = 0.38037336\n",
      "Iteration 8, loss = 0.37938303\n",
      "Iteration 9, loss = 0.37863621\n",
      "Iteration 10, loss = 0.37803402\n",
      "Iteration 11, loss = 0.37754406\n",
      "Iteration 12, loss = 0.37709863\n",
      "Iteration 13, loss = 0.37671549\n",
      "Iteration 14, loss = 0.37636730\n",
      "Training loss did not improve more than tol=0.010000 for 10 consecutive epochs. Stopping.\n"
     ]
    },
    {
     "data": {
      "text/plain": [
       "MLPClassifier(hidden_layer_sizes=200, max_iter=10000, random_state=0,\n",
       "              solver='sgd', tol=0.01, verbose=True)"
      ]
     },
     "execution_count": 60,
     "metadata": {},
     "output_type": "execute_result"
    }
   ],
   "source": [
    "clf.fit(X_train_scaled,ytrain)"
   ]
  },
  {
   "cell_type": "code",
   "execution_count": 62,
   "metadata": {},
   "outputs": [],
   "source": [
    "y_pred_train = clf.predict(X_train_scaled)"
   ]
  },
  {
   "cell_type": "code",
   "execution_count": 63,
   "metadata": {},
   "outputs": [],
   "source": [
    "y_pred_test = clf.predict(X_validation_scaled)"
   ]
  },
  {
   "cell_type": "code",
   "execution_count": 64,
   "metadata": {},
   "outputs": [
    {
     "name": "stdout",
     "output_type": "stream",
     "text": [
      "              precision    recall  f1-score   support\n",
      "\n",
      "           0       0.85      0.96      0.90     49710\n",
      "           1       0.61      0.27      0.37     11540\n",
      "\n",
      "    accuracy                           0.83     61250\n",
      "   macro avg       0.73      0.61      0.64     61250\n",
      "weighted avg       0.80      0.83      0.80     61250\n",
      "\n"
     ]
    }
   ],
   "source": [
    "print(metrics.classification_report(ytrain,y_pred_train))"
   ]
  },
  {
   "cell_type": "code",
   "execution_count": 65,
   "metadata": {},
   "outputs": [
    {
     "name": "stdout",
     "output_type": "stream",
     "text": [
      "              precision    recall  f1-score   support\n",
      "\n",
      "           0       0.85      0.96      0.90     21278\n",
      "           1       0.61      0.27      0.38      4972\n",
      "\n",
      "    accuracy                           0.83     26250\n",
      "   macro avg       0.73      0.62      0.64     26250\n",
      "weighted avg       0.80      0.83      0.80     26250\n",
      "\n"
     ]
    }
   ],
   "source": [
    "print(metrics.classification_report(y_validation,y_pred_test))"
   ]
  },
  {
   "cell_type": "code",
   "execution_count": 74,
   "metadata": {},
   "outputs": [],
   "source": [
    "final_predictions = model1.predict(df_test)"
   ]
  },
  {
   "cell_type": "code",
   "execution_count": 75,
   "metadata": {},
   "outputs": [
    {
     "data": {
      "text/plain": [
       "(37500,)"
      ]
     },
     "execution_count": 75,
     "metadata": {},
     "output_type": "execute_result"
    }
   ],
   "source": [
    "final_predictions.shape"
   ]
  },
  {
   "cell_type": "code",
   "execution_count": 87,
   "metadata": {},
   "outputs": [],
   "source": [
    "submission22 = pd.DataFrame([test_file_ids,final_predictions]).T"
   ]
  },
  {
   "cell_type": "code",
   "execution_count": 88,
   "metadata": {},
   "outputs": [
    {
     "data": {
      "text/html": [
       "<div>\n",
       "<style scoped>\n",
       "    .dataframe tbody tr th:only-of-type {\n",
       "        vertical-align: middle;\n",
       "    }\n",
       "\n",
       "    .dataframe tbody tr th {\n",
       "        vertical-align: top;\n",
       "    }\n",
       "\n",
       "    .dataframe thead th {\n",
       "        text-align: right;\n",
       "    }\n",
       "</style>\n",
       "<table border=\"1\" class=\"dataframe\">\n",
       "  <thead>\n",
       "    <tr style=\"text-align: right;\">\n",
       "      <th></th>\n",
       "      <th>ID</th>\n",
       "      <th>Unnamed 0</th>\n",
       "    </tr>\n",
       "  </thead>\n",
       "  <tbody>\n",
       "    <tr>\n",
       "      <th>0</th>\n",
       "      <td>198980</td>\n",
       "      <td>0</td>\n",
       "    </tr>\n",
       "    <tr>\n",
       "      <th>1</th>\n",
       "      <td>167688</td>\n",
       "      <td>0</td>\n",
       "    </tr>\n",
       "    <tr>\n",
       "      <th>2</th>\n",
       "      <td>198768</td>\n",
       "      <td>0</td>\n",
       "    </tr>\n",
       "    <tr>\n",
       "      <th>3</th>\n",
       "      <td>192564</td>\n",
       "      <td>0</td>\n",
       "    </tr>\n",
       "    <tr>\n",
       "      <th>4</th>\n",
       "      <td>151199</td>\n",
       "      <td>0</td>\n",
       "    </tr>\n",
       "  </tbody>\n",
       "</table>\n",
       "</div>"
      ],
      "text/plain": [
       "       ID  Unnamed 0\n",
       "0  198980          0\n",
       "1  167688          0\n",
       "2  198768          0\n",
       "3  192564          0\n",
       "4  151199          0"
      ]
     },
     "execution_count": 88,
     "metadata": {},
     "output_type": "execute_result"
    }
   ],
   "source": [
    "submission22.head()"
   ]
  },
  {
   "cell_type": "code",
   "execution_count": 89,
   "metadata": {},
   "outputs": [],
   "source": [
    "submission22.rename(columns={'Unnamed 0': 'Loan/No Loan'},inplace=True)"
   ]
  },
  {
   "cell_type": "code",
   "execution_count": 90,
   "metadata": {},
   "outputs": [
    {
     "data": {
      "text/html": [
       "<div>\n",
       "<style scoped>\n",
       "    .dataframe tbody tr th:only-of-type {\n",
       "        vertical-align: middle;\n",
       "    }\n",
       "\n",
       "    .dataframe tbody tr th {\n",
       "        vertical-align: top;\n",
       "    }\n",
       "\n",
       "    .dataframe thead th {\n",
       "        text-align: right;\n",
       "    }\n",
       "</style>\n",
       "<table border=\"1\" class=\"dataframe\">\n",
       "  <thead>\n",
       "    <tr style=\"text-align: right;\">\n",
       "      <th></th>\n",
       "      <th>ID</th>\n",
       "      <th>Loan/No Loan</th>\n",
       "    </tr>\n",
       "  </thead>\n",
       "  <tbody>\n",
       "    <tr>\n",
       "      <th>0</th>\n",
       "      <td>198980</td>\n",
       "      <td>0</td>\n",
       "    </tr>\n",
       "    <tr>\n",
       "      <th>1</th>\n",
       "      <td>167688</td>\n",
       "      <td>0</td>\n",
       "    </tr>\n",
       "    <tr>\n",
       "      <th>2</th>\n",
       "      <td>198768</td>\n",
       "      <td>0</td>\n",
       "    </tr>\n",
       "    <tr>\n",
       "      <th>3</th>\n",
       "      <td>192564</td>\n",
       "      <td>0</td>\n",
       "    </tr>\n",
       "    <tr>\n",
       "      <th>4</th>\n",
       "      <td>151199</td>\n",
       "      <td>0</td>\n",
       "    </tr>\n",
       "  </tbody>\n",
       "</table>\n",
       "</div>"
      ],
      "text/plain": [
       "       ID  Loan/No Loan\n",
       "0  198980             0\n",
       "1  167688             0\n",
       "2  198768             0\n",
       "3  192564             0\n",
       "4  151199             0"
      ]
     },
     "execution_count": 90,
     "metadata": {},
     "output_type": "execute_result"
    }
   ],
   "source": [
    "submission22.head()"
   ]
  },
  {
   "cell_type": "code",
   "execution_count": 92,
   "metadata": {},
   "outputs": [],
   "source": [
    "submission22.to_csv('submission22.csv',index=False)"
   ]
  },
  {
   "cell_type": "code",
   "execution_count": null,
   "metadata": {},
   "outputs": [],
   "source": []
  }
 ],
 "metadata": {
  "kernelspec": {
   "display_name": "Python 3",
   "language": "python",
   "name": "python3"
  },
  "language_info": {
   "codemirror_mode": {
    "name": "ipython",
    "version": 3
   },
   "file_extension": ".py",
   "mimetype": "text/x-python",
   "name": "python",
   "nbconvert_exporter": "python",
   "pygments_lexer": "ipython3",
   "version": "3.8.5"
  }
 },
 "nbformat": 4,
 "nbformat_minor": 4
}
